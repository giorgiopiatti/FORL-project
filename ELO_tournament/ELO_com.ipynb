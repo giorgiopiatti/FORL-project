{
 "cells": [
  {
   "cell_type": "code",
   "execution_count": 141,
   "metadata": {},
   "outputs": [],
   "source": [
    "import pandas as pd\n",
    "\n",
    "acc = []\n",
    "for i in range(8):\n",
    "    acc.append(pd.read_csv(f'./com_scores_lies_split_{i}.csv', dtype={'model_bad_id': 'object', 'model_good_id': 'object'}))\n",
    "\n",
    "df_raw = pd.concat(acc)"
   ]
  },
  {
   "cell_type": "code",
   "execution_count": 142,
   "metadata": {},
   "outputs": [],
   "source": [
    "df = df_raw.drop(['caller/truth_ratio', 'caller/Messages.CARICO_NOT_BRISCOLA_True',\n",
    "       'caller/Messages.CARICO_NOT_BRISCOLA_False',\n",
    "       'caller/Messages.BRISCOLINO_True', 'caller/Messages.BRISCOLINO_False',\n",
    "       'caller/Messages.BRISCOLA_FIGURA_True',\n",
    "       'caller/Messages.BRISCOLA_FIGURA_False',\n",
    "       'caller/Messages.BRISCOLA_CARICO_True',\n",
    "       'caller/Messages.BRISCOLA_CARICO_False', 'caller/Messages.LISCIO_True',\n",
    "       'caller/Messages.LISCIO_False', 'callee/truth_ratio',\n",
    "       'callee/Messages.CARICO_NOT_BRISCOLA_True',\n",
    "       'callee/Messages.CARICO_NOT_BRISCOLA_False',\n",
    "       'callee/Messages.BRISCOLINO_True', 'callee/Messages.BRISCOLINO_False',\n",
    "       'callee/Messages.BRISCOLA_FIGURA_True',\n",
    "       'callee/Messages.BRISCOLA_FIGURA_False',\n",
    "       'callee/Messages.BRISCOLA_CARICO_True',\n",
    "       'callee/Messages.BRISCOLA_CARICO_False', 'callee/Messages.LISCIO_True',\n",
    "       'callee/Messages.LISCIO_False', 'good/truth_ratio',\n",
    "       'good/Messages.CARICO_NOT_BRISCOLA_True',\n",
    "       'good/Messages.CARICO_NOT_BRISCOLA_False',\n",
    "       'good/Messages.BRISCOLINO_True', 'good/Messages.BRISCOLINO_False',\n",
    "       'good/Messages.BRISCOLA_FIGURA_True',\n",
    "       'good/Messages.BRISCOLA_FIGURA_False',\n",
    "       'good/Messages.BRISCOLA_CARICO_True',\n",
    "       'good/Messages.BRISCOLA_CARICO_False', 'good/Messages.LISCIO_True',\n",
    "       'good/Messages.LISCIO_False'], axis=1)"
   ]
  },
  {
   "cell_type": "code",
   "execution_count": 143,
   "metadata": {},
   "outputs": [],
   "source": [
    "df2 = pd.merge(df, df, left_on=['model_bad_id', 'model_good_id'], right_on=['model_good_id', 'model_bad_id'], suffixes=('_A', '_B'))\n",
    "df2.drop(['model_bad_name_A', 'model_bad_step_A', 'model_good_name_A', 'model_good_step_A',  'model_bad_name_B', 'model_bad_step_B', 'model_good_name_B',\n",
    "       'model_good_step_B'], axis=1, inplace=True)\n",
    "\n",
    "df2.rename(columns={\"model_bad_id_A\": \"model_id\", \"model_good_id_A\": \"adversary_id\", \"reward_bad_A\": \"bad_reward\", \"reward_good_B\": \"good_reward\"}, inplace=True)\n",
    "df2.drop(['reward_good_A', 'model_bad_id_B', 'model_good_id_B', 'reward_bad_B'], axis=1, inplace=True)\n",
    "df2 = df2[df2['model_id'] != df2['adversary_id']]"
   ]
  },
  {
   "cell_type": "code",
   "execution_count": 144,
   "metadata": {},
   "outputs": [
    {
     "data": {
      "text/html": [
       "<div>\n",
       "<style scoped>\n",
       "    .dataframe tbody tr th:only-of-type {\n",
       "        vertical-align: middle;\n",
       "    }\n",
       "\n",
       "    .dataframe tbody tr th {\n",
       "        vertical-align: top;\n",
       "    }\n",
       "\n",
       "    .dataframe thead th {\n",
       "        text-align: right;\n",
       "    }\n",
       "</style>\n",
       "<table border=\"1\" class=\"dataframe\">\n",
       "  <thead>\n",
       "    <tr style=\"text-align: right;\">\n",
       "      <th></th>\n",
       "      <th>model_id</th>\n",
       "      <th>adversary_id</th>\n",
       "      <th>bad_reward</th>\n",
       "      <th>good_reward</th>\n",
       "    </tr>\n",
       "  </thead>\n",
       "  <tbody>\n",
       "    <tr>\n",
       "      <th>1</th>\n",
       "      <td>0</td>\n",
       "      <td>1</td>\n",
       "      <td>89.142</td>\n",
       "      <td>37.078</td>\n",
       "    </tr>\n",
       "    <tr>\n",
       "      <th>2</th>\n",
       "      <td>0</td>\n",
       "      <td>2</td>\n",
       "      <td>89.444</td>\n",
       "      <td>35.302</td>\n",
       "    </tr>\n",
       "    <tr>\n",
       "      <th>3</th>\n",
       "      <td>0</td>\n",
       "      <td>3</td>\n",
       "      <td>89.565</td>\n",
       "      <td>35.332</td>\n",
       "    </tr>\n",
       "    <tr>\n",
       "      <th>4</th>\n",
       "      <td>0</td>\n",
       "      <td>4</td>\n",
       "      <td>88.580</td>\n",
       "      <td>34.536</td>\n",
       "    </tr>\n",
       "    <tr>\n",
       "      <th>5</th>\n",
       "      <td>0</td>\n",
       "      <td>5</td>\n",
       "      <td>88.623</td>\n",
       "      <td>41.800</td>\n",
       "    </tr>\n",
       "    <tr>\n",
       "      <th>...</th>\n",
       "      <td>...</td>\n",
       "      <td>...</td>\n",
       "      <td>...</td>\n",
       "      <td>...</td>\n",
       "    </tr>\n",
       "    <tr>\n",
       "      <th>15369</th>\n",
       "      <td>121</td>\n",
       "      <td>heuristic</td>\n",
       "      <td>84.959</td>\n",
       "      <td>26.885</td>\n",
       "    </tr>\n",
       "    <tr>\n",
       "      <th>15370</th>\n",
       "      <td>random</td>\n",
       "      <td>121</td>\n",
       "      <td>72.050</td>\n",
       "      <td>29.898</td>\n",
       "    </tr>\n",
       "    <tr>\n",
       "      <th>15371</th>\n",
       "      <td>heuristic</td>\n",
       "      <td>121</td>\n",
       "      <td>93.115</td>\n",
       "      <td>35.041</td>\n",
       "    </tr>\n",
       "    <tr>\n",
       "      <th>15372</th>\n",
       "      <td>random</td>\n",
       "      <td>heuristic</td>\n",
       "      <td>72.542</td>\n",
       "      <td>30.531</td>\n",
       "    </tr>\n",
       "    <tr>\n",
       "      <th>15373</th>\n",
       "      <td>heuristic</td>\n",
       "      <td>random</td>\n",
       "      <td>89.469</td>\n",
       "      <td>47.458</td>\n",
       "    </tr>\n",
       "  </tbody>\n",
       "</table>\n",
       "<p>15252 rows × 4 columns</p>\n",
       "</div>"
      ],
      "text/plain": [
       "        model_id adversary_id  bad_reward  good_reward\n",
       "1              0            1      89.142       37.078\n",
       "2              0            2      89.444       35.302\n",
       "3              0            3      89.565       35.332\n",
       "4              0            4      88.580       34.536\n",
       "5              0            5      88.623       41.800\n",
       "...          ...          ...         ...          ...\n",
       "15369        121    heuristic      84.959       26.885\n",
       "15370     random          121      72.050       29.898\n",
       "15371  heuristic          121      93.115       35.041\n",
       "15372     random    heuristic      72.542       30.531\n",
       "15373  heuristic       random      89.469       47.458\n",
       "\n",
       "[15252 rows x 4 columns]"
      ]
     },
     "execution_count": 144,
     "metadata": {},
     "output_type": "execute_result"
    }
   ],
   "source": [
    "df2"
   ]
  },
  {
   "cell_type": "code",
   "execution_count": 145,
   "metadata": {},
   "outputs": [],
   "source": [
    "def compute_offset(elos, a, b, scoreBad, scoreGood):\n",
    "    eloA = elos[elos['model_id'] == a]['elo'].values[0]\n",
    "    eloB = elos[elos['model_id'] == b]['elo'].values[0]\n",
    "    S = (scoreBad + scoreGood) / 2\n",
    "    E = 120 / (1 + 10 ** ((eloB - eloA) / 3500))\n",
    "    return 25 * (S - E)"
   ]
  },
  {
   "cell_type": "code",
   "execution_count": 146,
   "metadata": {},
   "outputs": [],
   "source": [
    "elos = pd.DataFrame({'model_id': df['model_bad_id'].unique(), 'elo': 1000})\n",
    "for _ in range(20):\n",
    "    elos_tmp = elos.copy()\n",
    "    for i in range(len(elos)):\n",
    "        name = elos['model_id'].iloc[i]\n",
    "        offsets = df2[df2['model_id'] == name].apply(lambda x: compute_offset(elos, x['model_id'], x['adversary_id'], x['bad_reward'], x['good_reward']), axis=1)\n",
    "        eloA = elos.iloc[i]['elo']\n",
    "        elos_tmp.loc[i, 'elo'] = eloA + (offsets.sum() / len(offsets))\n",
    "    elos = elos_tmp"
   ]
  },
  {
   "cell_type": "code",
   "execution_count": 147,
   "metadata": {},
   "outputs": [
    {
     "data": {
      "text/html": [
       "<div>\n",
       "<style scoped>\n",
       "    .dataframe tbody tr th:only-of-type {\n",
       "        vertical-align: middle;\n",
       "    }\n",
       "\n",
       "    .dataframe tbody tr th {\n",
       "        vertical-align: top;\n",
       "    }\n",
       "\n",
       "    .dataframe thead th {\n",
       "        text-align: right;\n",
       "    }\n",
       "</style>\n",
       "<table border=\"1\" class=\"dataframe\">\n",
       "  <thead>\n",
       "    <tr style=\"text-align: right;\">\n",
       "      <th></th>\n",
       "      <th>model_id</th>\n",
       "      <th>elo</th>\n",
       "      <th>name</th>\n",
       "      <th>model_bad_name</th>\n",
       "      <th>step</th>\n",
       "    </tr>\n",
       "  </thead>\n",
       "  <tbody>\n",
       "    <tr>\n",
       "      <th>0</th>\n",
       "      <td>0</td>\n",
       "      <td>1358.348911</td>\n",
       "      <td>0</td>\n",
       "      <td>COMM RNN h=32 m=64 P2</td>\n",
       "      <td>192000000</td>\n",
       "    </tr>\n",
       "    <tr>\n",
       "      <th>123</th>\n",
       "      <td>heuristic</td>\n",
       "      <td>1354.971987</td>\n",
       "      <td>heuristic</td>\n",
       "      <td>heuristic</td>\n",
       "      <td>0</td>\n",
       "    </tr>\n",
       "    <tr>\n",
       "      <th>78</th>\n",
       "      <td>78</td>\n",
       "      <td>1333.272533</td>\n",
       "      <td>78</td>\n",
       "      <td>COMM RNN h=32 m=64 P2</td>\n",
       "      <td>160000000</td>\n",
       "    </tr>\n",
       "    <tr>\n",
       "      <th>77</th>\n",
       "      <td>77</td>\n",
       "      <td>1326.954736</td>\n",
       "      <td>77</td>\n",
       "      <td>COMM RNN h=32 m=64 P2</td>\n",
       "      <td>153600000</td>\n",
       "    </tr>\n",
       "    <tr>\n",
       "      <th>76</th>\n",
       "      <td>76</td>\n",
       "      <td>1323.496722</td>\n",
       "      <td>76</td>\n",
       "      <td>COMM RNN h=32 m=64 P2</td>\n",
       "      <td>128000000</td>\n",
       "    </tr>\n",
       "    <tr>\n",
       "      <th>...</th>\n",
       "      <td>...</td>\n",
       "      <td>...</td>\n",
       "      <td>...</td>\n",
       "      <td>...</td>\n",
       "      <td>...</td>\n",
       "    </tr>\n",
       "    <tr>\n",
       "      <th>80</th>\n",
       "      <td>80</td>\n",
       "      <td>629.926649</td>\n",
       "      <td>80</td>\n",
       "      <td>COMM RNN h=128 m=64 P1</td>\n",
       "      <td>51200000</td>\n",
       "    </tr>\n",
       "    <tr>\n",
       "      <th>100</th>\n",
       "      <td>100</td>\n",
       "      <td>585.187834</td>\n",
       "      <td>100</td>\n",
       "      <td>COMM RNN h=32 m=128 P1</td>\n",
       "      <td>25600000</td>\n",
       "    </tr>\n",
       "    <tr>\n",
       "      <th>86</th>\n",
       "      <td>86</td>\n",
       "      <td>582.003025</td>\n",
       "      <td>86</td>\n",
       "      <td>COMM RNN h=64 m=128 P1</td>\n",
       "      <td>25600000</td>\n",
       "    </tr>\n",
       "    <tr>\n",
       "      <th>93</th>\n",
       "      <td>93</td>\n",
       "      <td>504.990747</td>\n",
       "      <td>93</td>\n",
       "      <td>COMM RNN h=64 m=64 P1</td>\n",
       "      <td>25600000</td>\n",
       "    </tr>\n",
       "    <tr>\n",
       "      <th>107</th>\n",
       "      <td>107</td>\n",
       "      <td>470.151236</td>\n",
       "      <td>107</td>\n",
       "      <td>COMM RNN h=32 m=64 P1</td>\n",
       "      <td>25600000</td>\n",
       "    </tr>\n",
       "  </tbody>\n",
       "</table>\n",
       "<p>124 rows × 5 columns</p>\n",
       "</div>"
      ],
      "text/plain": [
       "      model_id          elo       name          model_bad_name       step\n",
       "0            0  1358.348911          0   COMM RNN h=32 m=64 P2  192000000\n",
       "123  heuristic  1354.971987  heuristic               heuristic          0\n",
       "78          78  1333.272533         78   COMM RNN h=32 m=64 P2  160000000\n",
       "77          77  1326.954736         77   COMM RNN h=32 m=64 P2  153600000\n",
       "76          76  1323.496722         76   COMM RNN h=32 m=64 P2  128000000\n",
       "..         ...          ...        ...                     ...        ...\n",
       "80          80   629.926649         80  COMM RNN h=128 m=64 P1   51200000\n",
       "100        100   585.187834        100  COMM RNN h=32 m=128 P1   25600000\n",
       "86          86   582.003025         86  COMM RNN h=64 m=128 P1   25600000\n",
       "93          93   504.990747         93   COMM RNN h=64 m=64 P1   25600000\n",
       "107        107   470.151236        107   COMM RNN h=32 m=64 P1   25600000\n",
       "\n",
       "[124 rows x 5 columns]"
      ]
     },
     "execution_count": 147,
     "metadata": {},
     "output_type": "execute_result"
    }
   ],
   "source": [
    "elos_named = pd.merge(elos, df.drop(['model_good_id', 'model_good_name', 'model_good_step', 'reward_bad', 'reward_good'], axis=1).drop_duplicates(), left_on='model_id', right_on='model_bad_id', suffixes=('_elo', '_df'), how='inner')\n",
    "elos_named.rename(columns={\"model_bad_id\": \"name\", \"model_bad_step\": \"step\"}, inplace=True)\n",
    "elos_named['model_bad_name'] = elos_named['model_bad_name'].apply(lambda x: x.replace('2nd phase ', ''))\n",
    "elos_named = elos_named.sort_values(by=['elo'], ascending=False)\n",
    "elos_named"
   ]
  },
  {
   "cell_type": "code",
   "execution_count": 148,
   "metadata": {},
   "outputs": [
    {
     "data": {
      "text/html": [
       "<div>\n",
       "<style scoped>\n",
       "    .dataframe tbody tr th:only-of-type {\n",
       "        vertical-align: middle;\n",
       "    }\n",
       "\n",
       "    .dataframe tbody tr th {\n",
       "        vertical-align: top;\n",
       "    }\n",
       "\n",
       "    .dataframe thead th {\n",
       "        text-align: right;\n",
       "    }\n",
       "</style>\n",
       "<table border=\"1\" class=\"dataframe\">\n",
       "  <thead>\n",
       "    <tr style=\"text-align: right;\">\n",
       "      <th></th>\n",
       "      <th>model_bad_name</th>\n",
       "      <th>elo</th>\n",
       "      <th>step</th>\n",
       "    </tr>\n",
       "  </thead>\n",
       "  <tbody>\n",
       "    <tr>\n",
       "      <th>11</th>\n",
       "      <td>COMM RNN h=32 m=64</td>\n",
       "      <td>1358</td>\n",
       "      <td>192000000</td>\n",
       "    </tr>\n",
       "    <tr>\n",
       "      <th>16</th>\n",
       "      <td>heuristic</td>\n",
       "      <td>1355</td>\n",
       "      <td>0</td>\n",
       "    </tr>\n",
       "    <tr>\n",
       "      <th>13</th>\n",
       "      <td>COMM RNN h=64 m=128</td>\n",
       "      <td>1317</td>\n",
       "      <td>192000000</td>\n",
       "    </tr>\n",
       "    <tr>\n",
       "      <th>1</th>\n",
       "      <td>COMM NN h=32 sample_batch=True</td>\n",
       "      <td>1293</td>\n",
       "      <td>192000000</td>\n",
       "    </tr>\n",
       "    <tr>\n",
       "      <th>15</th>\n",
       "      <td>COMM RNN h=64 m=64</td>\n",
       "      <td>1265</td>\n",
       "      <td>192000000</td>\n",
       "    </tr>\n",
       "    <tr>\n",
       "      <th>7</th>\n",
       "      <td>COMM RNN h=128 m=64</td>\n",
       "      <td>1260</td>\n",
       "      <td>192000000</td>\n",
       "    </tr>\n",
       "    <tr>\n",
       "      <th>9</th>\n",
       "      <td>COMM RNN h=32 m=128</td>\n",
       "      <td>1254</td>\n",
       "      <td>192000000</td>\n",
       "    </tr>\n",
       "    <tr>\n",
       "      <th>0</th>\n",
       "      <td>COMM NN h=32 sample_batch=False</td>\n",
       "      <td>1246</td>\n",
       "      <td>192000000</td>\n",
       "    </tr>\n",
       "    <tr>\n",
       "      <th>5</th>\n",
       "      <td>COMM RNN h=128 m=128</td>\n",
       "      <td>1238</td>\n",
       "      <td>160000256</td>\n",
       "    </tr>\n",
       "    <tr>\n",
       "      <th>2</th>\n",
       "      <td>COMM NN h=64 sample_batch=False</td>\n",
       "      <td>1172</td>\n",
       "      <td>192000000</td>\n",
       "    </tr>\n",
       "    <tr>\n",
       "      <th>3</th>\n",
       "      <td>COMM NN h=64 sample_batch=True</td>\n",
       "      <td>1143</td>\n",
       "      <td>192000000</td>\n",
       "    </tr>\n",
       "    <tr>\n",
       "      <th>12</th>\n",
       "      <td>COMM RNN h=64 m=128 P1</td>\n",
       "      <td>849</td>\n",
       "      <td>160000000</td>\n",
       "    </tr>\n",
       "    <tr>\n",
       "      <th>6</th>\n",
       "      <td>COMM RNN h=128 m=64 P1</td>\n",
       "      <td>831</td>\n",
       "      <td>160000000</td>\n",
       "    </tr>\n",
       "    <tr>\n",
       "      <th>14</th>\n",
       "      <td>COMM RNN h=64 m=64 P1</td>\n",
       "      <td>822</td>\n",
       "      <td>160000000</td>\n",
       "    </tr>\n",
       "    <tr>\n",
       "      <th>8</th>\n",
       "      <td>COMM RNN h=32 m=128 P1</td>\n",
       "      <td>811</td>\n",
       "      <td>160000000</td>\n",
       "    </tr>\n",
       "    <tr>\n",
       "      <th>4</th>\n",
       "      <td>COMM RNN h=128 m=128 P1</td>\n",
       "      <td>772</td>\n",
       "      <td>160000000</td>\n",
       "    </tr>\n",
       "    <tr>\n",
       "      <th>10</th>\n",
       "      <td>COMM RNN h=32 m=64 P1</td>\n",
       "      <td>765</td>\n",
       "      <td>160000000</td>\n",
       "    </tr>\n",
       "    <tr>\n",
       "      <th>17</th>\n",
       "      <td>random</td>\n",
       "      <td>719</td>\n",
       "      <td>0</td>\n",
       "    </tr>\n",
       "  </tbody>\n",
       "</table>\n",
       "</div>"
      ],
      "text/plain": [
       "                      model_bad_name   elo       step\n",
       "11               COMM RNN h=32 m=64   1358  192000000\n",
       "16                         heuristic  1355          0\n",
       "13              COMM RNN h=64 m=128   1317  192000000\n",
       "1    COMM NN h=32 sample_batch=True   1293  192000000\n",
       "15               COMM RNN h=64 m=64   1265  192000000\n",
       "7               COMM RNN h=128 m=64   1260  192000000\n",
       "9               COMM RNN h=32 m=128   1254  192000000\n",
       "0   COMM NN h=32 sample_batch=False   1246  192000000\n",
       "5              COMM RNN h=128 m=128   1238  160000256\n",
       "2   COMM NN h=64 sample_batch=False   1172  192000000\n",
       "3    COMM NN h=64 sample_batch=True   1143  192000000\n",
       "12            COMM RNN h=64 m=128 P1   849  160000000\n",
       "6             COMM RNN h=128 m=64 P1   831  160000000\n",
       "14             COMM RNN h=64 m=64 P1   822  160000000\n",
       "8             COMM RNN h=32 m=128 P1   811  160000000\n",
       "4            COMM RNN h=128 m=128 P1   772  160000000\n",
       "10             COMM RNN h=32 m=64 P1   765  160000000\n",
       "17                            random   719          0"
      ]
     },
     "execution_count": 148,
     "metadata": {},
     "output_type": "execute_result"
    }
   ],
   "source": [
    "table = elos_named.groupby('model_bad_name').max('elo')\n",
    "table.sort_values(by=['elo'], ascending=False)\n",
    "\n",
    "table_P2 = table.copy()\n",
    "table_P2.reset_index(inplace=True)\n",
    "table_P2['model_bad_name'] = table_P2['model_bad_name'].apply(lambda x: x.replace('P2', ''))\n",
    "table_P2['elo'] = table_P2['elo'].round(0).astype(int)\n",
    "table_P2 = table_P2.sort_values(by=['elo'], ascending=False)\n",
    "table_P2"
   ]
  },
  {
   "cell_type": "code",
   "execution_count": 149,
   "metadata": {},
   "outputs": [
    {
     "name": "stdout",
     "output_type": "stream",
     "text": [
      "\\begin{tabular}{lrr}\n",
      "\\toprule\n",
      "model_bad_name & elo & step \\\\\n",
      "\\midrule\n",
      "COMM RNN h=32 m=64  & 1358 & 192000000 \\\\\n",
      "heuristic & 1355 & 0 \\\\\n",
      "COMM RNN h=64 m=128  & 1317 & 192000000 \\\\\n",
      "COMM NN h=32 sample_batch=True  & 1293 & 192000000 \\\\\n",
      "COMM RNN h=64 m=64  & 1265 & 192000000 \\\\\n",
      "COMM RNN h=128 m=64  & 1260 & 192000000 \\\\\n",
      "COMM RNN h=32 m=128  & 1254 & 192000000 \\\\\n",
      "COMM NN h=32 sample_batch=False  & 1246 & 192000000 \\\\\n",
      "COMM RNN h=128 m=128  & 1238 & 160000256 \\\\\n",
      "COMM NN h=64 sample_batch=False  & 1172 & 192000000 \\\\\n",
      "COMM NN h=64 sample_batch=True  & 1143 & 192000000 \\\\\n",
      "COMM RNN h=64 m=128 P1 & 849 & 160000000 \\\\\n",
      "COMM RNN h=128 m=64 P1 & 831 & 160000000 \\\\\n",
      "COMM RNN h=64 m=64 P1 & 822 & 160000000 \\\\\n",
      "COMM RNN h=32 m=128 P1 & 811 & 160000000 \\\\\n",
      "COMM RNN h=128 m=128 P1 & 772 & 160000000 \\\\\n",
      "COMM RNN h=32 m=64 P1 & 765 & 160000000 \\\\\n",
      "random & 719 & 0 \\\\\n",
      "\\bottomrule\n",
      "\\end{tabular}\n",
      "\n"
     ]
    }
   ],
   "source": [
    "print(table_P2.to_latex(index=False))"
   ]
  },
  {
   "cell_type": "code",
   "execution_count": 150,
   "metadata": {},
   "outputs": [],
   "source": [
    "import plotly.express as px\n",
    "import plotly.graph_objects as go\n"
   ]
  },
  {
   "cell_type": "code",
   "execution_count": 151,
   "metadata": {},
   "outputs": [],
   "source": [
    "def save_fig(fig, name):\n",
    "    fig.update_layout(legend_title_text='', showlegend=True)\n",
    "    fig.update_layout(legend=dict(\n",
    "        orientation=\"h\",\n",
    "        yanchor=\"bottom\",\n",
    "        y=1.02,\n",
    "        xanchor=\"right\",\n",
    "        x=1\n",
    "    ))\n",
    "\n",
    "    fig.update_layout(width =500, height=220, \n",
    "                    font_family=\"Serif\", font_size=11, title_font_size=13, \n",
    "                    margin_l=5, margin_t=1, margin_b=1, margin_r=5)\n",
    "\n",
    "    fig.update_layout(title=\"\")\n",
    "    fig.update_yaxes(nticks=12)\n",
    "    import plotly.io as pio\n",
    "    #save a figure of 300dpi, width 1.5 inches, height 0.75inches\n",
    "    pio.write_image(fig, f\"./img/{name}.png\")\n",
    "    fig.show()"
   ]
  },
  {
   "cell_type": "code",
   "execution_count": 154,
   "metadata": {},
   "outputs": [
    {
     "data": {
      "text/html": [
       "<div>\n",
       "<style scoped>\n",
       "    .dataframe tbody tr th:only-of-type {\n",
       "        vertical-align: middle;\n",
       "    }\n",
       "\n",
       "    .dataframe tbody tr th {\n",
       "        vertical-align: top;\n",
       "    }\n",
       "\n",
       "    .dataframe thead th {\n",
       "        text-align: right;\n",
       "    }\n",
       "</style>\n",
       "<table border=\"1\" class=\"dataframe\">\n",
       "  <thead>\n",
       "    <tr style=\"text-align: right;\">\n",
       "      <th></th>\n",
       "      <th>model_id</th>\n",
       "      <th>elo</th>\n",
       "      <th>name</th>\n",
       "      <th>model_bad_name</th>\n",
       "      <th>step</th>\n",
       "    </tr>\n",
       "  </thead>\n",
       "  <tbody>\n",
       "    <tr>\n",
       "      <th>0</th>\n",
       "      <td>0</td>\n",
       "      <td>1358.348911</td>\n",
       "      <td>0</td>\n",
       "      <td>COMM RNN h=32 m=64 P2</td>\n",
       "      <td>192000000</td>\n",
       "    </tr>\n",
       "    <tr>\n",
       "      <th>123</th>\n",
       "      <td>heuristic</td>\n",
       "      <td>1354.971987</td>\n",
       "      <td>heuristic</td>\n",
       "      <td>heuristic</td>\n",
       "      <td>0</td>\n",
       "    </tr>\n",
       "    <tr>\n",
       "      <th>78</th>\n",
       "      <td>78</td>\n",
       "      <td>1333.272533</td>\n",
       "      <td>78</td>\n",
       "      <td>COMM RNN h=32 m=64 P2</td>\n",
       "      <td>160000000</td>\n",
       "    </tr>\n",
       "    <tr>\n",
       "      <th>77</th>\n",
       "      <td>77</td>\n",
       "      <td>1326.954736</td>\n",
       "      <td>77</td>\n",
       "      <td>COMM RNN h=32 m=64 P2</td>\n",
       "      <td>153600000</td>\n",
       "    </tr>\n",
       "    <tr>\n",
       "      <th>76</th>\n",
       "      <td>76</td>\n",
       "      <td>1323.496722</td>\n",
       "      <td>76</td>\n",
       "      <td>COMM RNN h=32 m=64 P2</td>\n",
       "      <td>128000000</td>\n",
       "    </tr>\n",
       "    <tr>\n",
       "      <th>...</th>\n",
       "      <td>...</td>\n",
       "      <td>...</td>\n",
       "      <td>...</td>\n",
       "      <td>...</td>\n",
       "      <td>...</td>\n",
       "    </tr>\n",
       "    <tr>\n",
       "      <th>80</th>\n",
       "      <td>80</td>\n",
       "      <td>629.926649</td>\n",
       "      <td>80</td>\n",
       "      <td>COMM RNN h=128 m=64 P1</td>\n",
       "      <td>51200000</td>\n",
       "    </tr>\n",
       "    <tr>\n",
       "      <th>100</th>\n",
       "      <td>100</td>\n",
       "      <td>585.187834</td>\n",
       "      <td>100</td>\n",
       "      <td>COMM RNN h=32 m=128 P1</td>\n",
       "      <td>25600000</td>\n",
       "    </tr>\n",
       "    <tr>\n",
       "      <th>86</th>\n",
       "      <td>86</td>\n",
       "      <td>582.003025</td>\n",
       "      <td>86</td>\n",
       "      <td>COMM RNN h=64 m=128 P1</td>\n",
       "      <td>25600000</td>\n",
       "    </tr>\n",
       "    <tr>\n",
       "      <th>93</th>\n",
       "      <td>93</td>\n",
       "      <td>504.990747</td>\n",
       "      <td>93</td>\n",
       "      <td>COMM RNN h=64 m=64 P1</td>\n",
       "      <td>25600000</td>\n",
       "    </tr>\n",
       "    <tr>\n",
       "      <th>107</th>\n",
       "      <td>107</td>\n",
       "      <td>470.151236</td>\n",
       "      <td>107</td>\n",
       "      <td>COMM RNN h=32 m=64 P1</td>\n",
       "      <td>25600000</td>\n",
       "    </tr>\n",
       "  </tbody>\n",
       "</table>\n",
       "<p>124 rows × 5 columns</p>\n",
       "</div>"
      ],
      "text/plain": [
       "      model_id          elo       name          model_bad_name       step\n",
       "0            0  1358.348911          0   COMM RNN h=32 m=64 P2  192000000\n",
       "123  heuristic  1354.971987  heuristic               heuristic          0\n",
       "78          78  1333.272533         78   COMM RNN h=32 m=64 P2  160000000\n",
       "77          77  1326.954736         77   COMM RNN h=32 m=64 P2  153600000\n",
       "76          76  1323.496722         76   COMM RNN h=32 m=64 P2  128000000\n",
       "..         ...          ...        ...                     ...        ...\n",
       "80          80   629.926649         80  COMM RNN h=128 m=64 P1   51200000\n",
       "100        100   585.187834        100  COMM RNN h=32 m=128 P1   25600000\n",
       "86          86   582.003025         86  COMM RNN h=64 m=128 P1   25600000\n",
       "93          93   504.990747         93   COMM RNN h=64 m=64 P1   25600000\n",
       "107        107   470.151236        107   COMM RNN h=32 m=64 P1   25600000\n",
       "\n",
       "[124 rows x 5 columns]"
      ]
     },
     "execution_count": 154,
     "metadata": {},
     "output_type": "execute_result"
    }
   ],
   "source": [
    "elos_named"
   ]
  },
  {
   "cell_type": "code",
   "execution_count": 152,
   "metadata": {},
   "outputs": [],
   "source": [
    "plots_elos = elos_named.copy()\n",
    "plots_elos['model_bad_name'] = plots_elos['model_bad_name'].apply(lambda x: x.replace('2nd phase ', ''))"
   ]
  },
  {
   "cell_type": "code",
   "execution_count": 155,
   "metadata": {},
   "outputs": [
    {
     "name": "stderr",
     "output_type": "stream",
     "text": [
      "/tmp/ipykernel_7305/2134489893.py:10: SettingWithCopyWarning:\n",
      "\n",
      "\n",
      "A value is trying to be set on a copy of a slice from a DataFrame\n",
      "\n",
      "See the caveats in the documentation: https://pandas.pydata.org/pandas-docs/stable/user_guide/indexing.html#returning-a-view-versus-a-copy\n",
      "\n"
     ]
    },
    {
     "data": {
      "application/vnd.plotly.v1+json": {
       "config": {
        "plotlyServerURL": "https://plot.ly"
       },
       "data": [
        {
         "name": "MLP h=32 sb=False P2",
         "type": "scatter",
         "x": [
          0,
          1600000,
          3200000,
          4800000,
          6400000,
          8000000,
          9600000,
          10000000,
          12000000
         ],
         "y": [
          718.526895,
          840.4121630452323,
          1019.6591137172928,
          1028.1480029196757,
          1171.8568172269274,
          1197.0731891525443,
          1243.4621375682707,
          1245.8377148049472,
          1216.5870673749816
         ]
        },
        {
         "name": "MLP h=32 sb=True P2",
         "type": "scatter",
         "x": [
          0,
          1600000,
          3200000,
          4800000,
          6400000,
          8000000,
          9600000,
          10000000,
          12000000
         ],
         "y": [
          718.526895,
          913.7018560688815,
          1045.976083160477,
          1080.9601506949057,
          1166.917667551602,
          1240.0852936565022,
          1274.9734752471047,
          1271.9874445740304,
          1292.6388545516327
         ]
        },
        {
         "name": "MLP h=64 sb=False P2",
         "type": "scatter",
         "x": [
          0,
          1600000,
          3200000,
          4800000,
          6400000,
          8000000,
          9600000,
          10000000,
          12000000
         ],
         "y": [
          718.526895,
          1015.6996176159947,
          1034.2106610167393,
          1118.6257392614696,
          1072.240129113496,
          1074.8282279429977,
          1121.0936280313495,
          1127.998423098006,
          1171.546162049338
         ]
        },
        {
         "name": "MLP h=64 sb=True P2",
         "type": "scatter",
         "x": [
          0,
          1600000,
          3200000,
          4800000,
          6400000,
          8000000,
          9600000,
          10000000,
          12000000
         ],
         "y": [
          718.526895,
          913.378756003658,
          989.9698091706575,
          1066.0235097571356,
          1090.4048344586158,
          1046.6192366688529,
          1123.143220051275,
          1126.1780858081843,
          1143.4407564407588
         ]
        }
       ],
       "layout": {
        "annotations": [
         {
          "showarrow": false,
          "text": "random",
          "x": 1,
          "xanchor": "right",
          "xref": "x domain",
          "y": 718.526895,
          "yanchor": "bottom",
          "yref": "y"
         },
         {
          "showarrow": false,
          "text": "heuristic",
          "x": 0,
          "xanchor": "left",
          "xref": "x domain",
          "y": 1354.971987,
          "yanchor": "bottom",
          "yref": "y"
         },
         {
          "showarrow": false,
          "text": "2nd phase",
          "textangle": 90,
          "x": 10000000,
          "xanchor": "left",
          "xref": "x",
          "y": 0,
          "yanchor": "bottom",
          "yref": "y domain"
         }
        ],
        "shapes": [
         {
          "line": {
           "color": "gray",
           "dash": "dot"
          },
          "type": "line",
          "x0": 0,
          "x1": 1,
          "xref": "x domain",
          "y0": 718.526895,
          "y1": 718.526895,
          "yref": "y"
         },
         {
          "line": {
           "color": "green",
           "dash": "dot"
          },
          "type": "line",
          "x0": 0,
          "x1": 1,
          "xref": "x domain",
          "y0": 1354.971987,
          "y1": 1354.971987,
          "yref": "y"
         },
         {
          "line": {
           "color": "gray",
           "dash": "dash"
          },
          "type": "line",
          "x0": 10000000,
          "x1": 10000000,
          "xref": "x",
          "y0": 0,
          "y1": 1,
          "yref": "y domain"
         }
        ],
        "template": {
         "data": {
          "bar": [
           {
            "error_x": {
             "color": "#2a3f5f"
            },
            "error_y": {
             "color": "#2a3f5f"
            },
            "marker": {
             "line": {
              "color": "#E5ECF6",
              "width": 0.5
             },
             "pattern": {
              "fillmode": "overlay",
              "size": 10,
              "solidity": 0.2
             }
            },
            "type": "bar"
           }
          ],
          "barpolar": [
           {
            "marker": {
             "line": {
              "color": "#E5ECF6",
              "width": 0.5
             },
             "pattern": {
              "fillmode": "overlay",
              "size": 10,
              "solidity": 0.2
             }
            },
            "type": "barpolar"
           }
          ],
          "carpet": [
           {
            "aaxis": {
             "endlinecolor": "#2a3f5f",
             "gridcolor": "white",
             "linecolor": "white",
             "minorgridcolor": "white",
             "startlinecolor": "#2a3f5f"
            },
            "baxis": {
             "endlinecolor": "#2a3f5f",
             "gridcolor": "white",
             "linecolor": "white",
             "minorgridcolor": "white",
             "startlinecolor": "#2a3f5f"
            },
            "type": "carpet"
           }
          ],
          "choropleth": [
           {
            "colorbar": {
             "outlinewidth": 0,
             "ticks": ""
            },
            "type": "choropleth"
           }
          ],
          "contour": [
           {
            "colorbar": {
             "outlinewidth": 0,
             "ticks": ""
            },
            "colorscale": [
             [
              0,
              "#0d0887"
             ],
             [
              0.1111111111111111,
              "#46039f"
             ],
             [
              0.2222222222222222,
              "#7201a8"
             ],
             [
              0.3333333333333333,
              "#9c179e"
             ],
             [
              0.4444444444444444,
              "#bd3786"
             ],
             [
              0.5555555555555556,
              "#d8576b"
             ],
             [
              0.6666666666666666,
              "#ed7953"
             ],
             [
              0.7777777777777778,
              "#fb9f3a"
             ],
             [
              0.8888888888888888,
              "#fdca26"
             ],
             [
              1,
              "#f0f921"
             ]
            ],
            "type": "contour"
           }
          ],
          "contourcarpet": [
           {
            "colorbar": {
             "outlinewidth": 0,
             "ticks": ""
            },
            "type": "contourcarpet"
           }
          ],
          "heatmap": [
           {
            "colorbar": {
             "outlinewidth": 0,
             "ticks": ""
            },
            "colorscale": [
             [
              0,
              "#0d0887"
             ],
             [
              0.1111111111111111,
              "#46039f"
             ],
             [
              0.2222222222222222,
              "#7201a8"
             ],
             [
              0.3333333333333333,
              "#9c179e"
             ],
             [
              0.4444444444444444,
              "#bd3786"
             ],
             [
              0.5555555555555556,
              "#d8576b"
             ],
             [
              0.6666666666666666,
              "#ed7953"
             ],
             [
              0.7777777777777778,
              "#fb9f3a"
             ],
             [
              0.8888888888888888,
              "#fdca26"
             ],
             [
              1,
              "#f0f921"
             ]
            ],
            "type": "heatmap"
           }
          ],
          "heatmapgl": [
           {
            "colorbar": {
             "outlinewidth": 0,
             "ticks": ""
            },
            "colorscale": [
             [
              0,
              "#0d0887"
             ],
             [
              0.1111111111111111,
              "#46039f"
             ],
             [
              0.2222222222222222,
              "#7201a8"
             ],
             [
              0.3333333333333333,
              "#9c179e"
             ],
             [
              0.4444444444444444,
              "#bd3786"
             ],
             [
              0.5555555555555556,
              "#d8576b"
             ],
             [
              0.6666666666666666,
              "#ed7953"
             ],
             [
              0.7777777777777778,
              "#fb9f3a"
             ],
             [
              0.8888888888888888,
              "#fdca26"
             ],
             [
              1,
              "#f0f921"
             ]
            ],
            "type": "heatmapgl"
           }
          ],
          "histogram": [
           {
            "marker": {
             "pattern": {
              "fillmode": "overlay",
              "size": 10,
              "solidity": 0.2
             }
            },
            "type": "histogram"
           }
          ],
          "histogram2d": [
           {
            "colorbar": {
             "outlinewidth": 0,
             "ticks": ""
            },
            "colorscale": [
             [
              0,
              "#0d0887"
             ],
             [
              0.1111111111111111,
              "#46039f"
             ],
             [
              0.2222222222222222,
              "#7201a8"
             ],
             [
              0.3333333333333333,
              "#9c179e"
             ],
             [
              0.4444444444444444,
              "#bd3786"
             ],
             [
              0.5555555555555556,
              "#d8576b"
             ],
             [
              0.6666666666666666,
              "#ed7953"
             ],
             [
              0.7777777777777778,
              "#fb9f3a"
             ],
             [
              0.8888888888888888,
              "#fdca26"
             ],
             [
              1,
              "#f0f921"
             ]
            ],
            "type": "histogram2d"
           }
          ],
          "histogram2dcontour": [
           {
            "colorbar": {
             "outlinewidth": 0,
             "ticks": ""
            },
            "colorscale": [
             [
              0,
              "#0d0887"
             ],
             [
              0.1111111111111111,
              "#46039f"
             ],
             [
              0.2222222222222222,
              "#7201a8"
             ],
             [
              0.3333333333333333,
              "#9c179e"
             ],
             [
              0.4444444444444444,
              "#bd3786"
             ],
             [
              0.5555555555555556,
              "#d8576b"
             ],
             [
              0.6666666666666666,
              "#ed7953"
             ],
             [
              0.7777777777777778,
              "#fb9f3a"
             ],
             [
              0.8888888888888888,
              "#fdca26"
             ],
             [
              1,
              "#f0f921"
             ]
            ],
            "type": "histogram2dcontour"
           }
          ],
          "mesh3d": [
           {
            "colorbar": {
             "outlinewidth": 0,
             "ticks": ""
            },
            "type": "mesh3d"
           }
          ],
          "parcoords": [
           {
            "line": {
             "colorbar": {
              "outlinewidth": 0,
              "ticks": ""
             }
            },
            "type": "parcoords"
           }
          ],
          "pie": [
           {
            "automargin": true,
            "type": "pie"
           }
          ],
          "scatter": [
           {
            "marker": {
             "colorbar": {
              "outlinewidth": 0,
              "ticks": ""
             }
            },
            "type": "scatter"
           }
          ],
          "scatter3d": [
           {
            "line": {
             "colorbar": {
              "outlinewidth": 0,
              "ticks": ""
             }
            },
            "marker": {
             "colorbar": {
              "outlinewidth": 0,
              "ticks": ""
             }
            },
            "type": "scatter3d"
           }
          ],
          "scattercarpet": [
           {
            "marker": {
             "colorbar": {
              "outlinewidth": 0,
              "ticks": ""
             }
            },
            "type": "scattercarpet"
           }
          ],
          "scattergeo": [
           {
            "marker": {
             "colorbar": {
              "outlinewidth": 0,
              "ticks": ""
             }
            },
            "type": "scattergeo"
           }
          ],
          "scattergl": [
           {
            "marker": {
             "colorbar": {
              "outlinewidth": 0,
              "ticks": ""
             }
            },
            "type": "scattergl"
           }
          ],
          "scattermapbox": [
           {
            "marker": {
             "colorbar": {
              "outlinewidth": 0,
              "ticks": ""
             }
            },
            "type": "scattermapbox"
           }
          ],
          "scatterpolar": [
           {
            "marker": {
             "colorbar": {
              "outlinewidth": 0,
              "ticks": ""
             }
            },
            "type": "scatterpolar"
           }
          ],
          "scatterpolargl": [
           {
            "marker": {
             "colorbar": {
              "outlinewidth": 0,
              "ticks": ""
             }
            },
            "type": "scatterpolargl"
           }
          ],
          "scatterternary": [
           {
            "marker": {
             "colorbar": {
              "outlinewidth": 0,
              "ticks": ""
             }
            },
            "type": "scatterternary"
           }
          ],
          "surface": [
           {
            "colorbar": {
             "outlinewidth": 0,
             "ticks": ""
            },
            "colorscale": [
             [
              0,
              "#0d0887"
             ],
             [
              0.1111111111111111,
              "#46039f"
             ],
             [
              0.2222222222222222,
              "#7201a8"
             ],
             [
              0.3333333333333333,
              "#9c179e"
             ],
             [
              0.4444444444444444,
              "#bd3786"
             ],
             [
              0.5555555555555556,
              "#d8576b"
             ],
             [
              0.6666666666666666,
              "#ed7953"
             ],
             [
              0.7777777777777778,
              "#fb9f3a"
             ],
             [
              0.8888888888888888,
              "#fdca26"
             ],
             [
              1,
              "#f0f921"
             ]
            ],
            "type": "surface"
           }
          ],
          "table": [
           {
            "cells": {
             "fill": {
              "color": "#EBF0F8"
             },
             "line": {
              "color": "white"
             }
            },
            "header": {
             "fill": {
              "color": "#C8D4E3"
             },
             "line": {
              "color": "white"
             }
            },
            "type": "table"
           }
          ]
         },
         "layout": {
          "annotationdefaults": {
           "arrowcolor": "#2a3f5f",
           "arrowhead": 0,
           "arrowwidth": 1
          },
          "autotypenumbers": "strict",
          "coloraxis": {
           "colorbar": {
            "outlinewidth": 0,
            "ticks": ""
           }
          },
          "colorscale": {
           "diverging": [
            [
             0,
             "#8e0152"
            ],
            [
             0.1,
             "#c51b7d"
            ],
            [
             0.2,
             "#de77ae"
            ],
            [
             0.3,
             "#f1b6da"
            ],
            [
             0.4,
             "#fde0ef"
            ],
            [
             0.5,
             "#f7f7f7"
            ],
            [
             0.6,
             "#e6f5d0"
            ],
            [
             0.7,
             "#b8e186"
            ],
            [
             0.8,
             "#7fbc41"
            ],
            [
             0.9,
             "#4d9221"
            ],
            [
             1,
             "#276419"
            ]
           ],
           "sequential": [
            [
             0,
             "#0d0887"
            ],
            [
             0.1111111111111111,
             "#46039f"
            ],
            [
             0.2222222222222222,
             "#7201a8"
            ],
            [
             0.3333333333333333,
             "#9c179e"
            ],
            [
             0.4444444444444444,
             "#bd3786"
            ],
            [
             0.5555555555555556,
             "#d8576b"
            ],
            [
             0.6666666666666666,
             "#ed7953"
            ],
            [
             0.7777777777777778,
             "#fb9f3a"
            ],
            [
             0.8888888888888888,
             "#fdca26"
            ],
            [
             1,
             "#f0f921"
            ]
           ],
           "sequentialminus": [
            [
             0,
             "#0d0887"
            ],
            [
             0.1111111111111111,
             "#46039f"
            ],
            [
             0.2222222222222222,
             "#7201a8"
            ],
            [
             0.3333333333333333,
             "#9c179e"
            ],
            [
             0.4444444444444444,
             "#bd3786"
            ],
            [
             0.5555555555555556,
             "#d8576b"
            ],
            [
             0.6666666666666666,
             "#ed7953"
            ],
            [
             0.7777777777777778,
             "#fb9f3a"
            ],
            [
             0.8888888888888888,
             "#fdca26"
            ],
            [
             1,
             "#f0f921"
            ]
           ]
          },
          "colorway": [
           "#636efa",
           "#EF553B",
           "#00cc96",
           "#ab63fa",
           "#FFA15A",
           "#19d3f3",
           "#FF6692",
           "#B6E880",
           "#FF97FF",
           "#FECB52"
          ],
          "font": {
           "color": "#2a3f5f"
          },
          "geo": {
           "bgcolor": "white",
           "lakecolor": "white",
           "landcolor": "#E5ECF6",
           "showlakes": true,
           "showland": true,
           "subunitcolor": "white"
          },
          "hoverlabel": {
           "align": "left"
          },
          "hovermode": "closest",
          "mapbox": {
           "style": "light"
          },
          "paper_bgcolor": "white",
          "plot_bgcolor": "#E5ECF6",
          "polar": {
           "angularaxis": {
            "gridcolor": "white",
            "linecolor": "white",
            "ticks": ""
           },
           "bgcolor": "#E5ECF6",
           "radialaxis": {
            "gridcolor": "white",
            "linecolor": "white",
            "ticks": ""
           }
          },
          "scene": {
           "xaxis": {
            "backgroundcolor": "#E5ECF6",
            "gridcolor": "white",
            "gridwidth": 2,
            "linecolor": "white",
            "showbackground": true,
            "ticks": "",
            "zerolinecolor": "white"
           },
           "yaxis": {
            "backgroundcolor": "#E5ECF6",
            "gridcolor": "white",
            "gridwidth": 2,
            "linecolor": "white",
            "showbackground": true,
            "ticks": "",
            "zerolinecolor": "white"
           },
           "zaxis": {
            "backgroundcolor": "#E5ECF6",
            "gridcolor": "white",
            "gridwidth": 2,
            "linecolor": "white",
            "showbackground": true,
            "ticks": "",
            "zerolinecolor": "white"
           }
          },
          "shapedefaults": {
           "line": {
            "color": "#2a3f5f"
           }
          },
          "ternary": {
           "aaxis": {
            "gridcolor": "white",
            "linecolor": "white",
            "ticks": ""
           },
           "baxis": {
            "gridcolor": "white",
            "linecolor": "white",
            "ticks": ""
           },
           "bgcolor": "#E5ECF6",
           "caxis": {
            "gridcolor": "white",
            "linecolor": "white",
            "ticks": ""
           }
          },
          "title": {
           "x": 0.05
          },
          "xaxis": {
           "automargin": true,
           "gridcolor": "white",
           "linecolor": "white",
           "ticks": "",
           "title": {
            "standoff": 15
           },
           "zerolinecolor": "white",
           "zerolinewidth": 2
          },
          "yaxis": {
           "automargin": true,
           "gridcolor": "white",
           "linecolor": "white",
           "ticks": "",
           "title": {
            "standoff": 15
           },
           "zerolinecolor": "white",
           "zerolinewidth": 2
          }
         }
        },
        "title": {
         "text": "ELO score over time MLP P2"
        },
        "xaxis": {
         "title": {
          "text": "Number of games"
         }
        },
        "yaxis": {
         "title": {
          "text": "ELO score"
         }
        }
       }
      }
     },
     "metadata": {},
     "output_type": "display_data"
    },
    {
     "data": {
      "application/vnd.plotly.v1+json": {
       "config": {
        "plotlyServerURL": "https://plot.ly"
       },
       "data": [
        {
         "name": "MLP h=32 sb=False P2",
         "type": "scatter",
         "x": [
          0,
          1600000,
          3200000,
          4800000,
          6400000,
          8000000,
          9600000,
          10000000,
          12000000
         ],
         "y": [
          718.526895,
          840.4121630452323,
          1019.6591137172928,
          1028.1480029196757,
          1171.8568172269274,
          1197.0731891525443,
          1243.4621375682707,
          1245.8377148049472,
          1216.5870673749816
         ]
        },
        {
         "name": "MLP h=32 sb=True P2",
         "type": "scatter",
         "x": [
          0,
          1600000,
          3200000,
          4800000,
          6400000,
          8000000,
          9600000,
          10000000,
          12000000
         ],
         "y": [
          718.526895,
          913.7018560688815,
          1045.976083160477,
          1080.9601506949057,
          1166.917667551602,
          1240.0852936565022,
          1274.9734752471047,
          1271.9874445740304,
          1292.6388545516327
         ]
        },
        {
         "name": "MLP h=64 sb=False P2",
         "type": "scatter",
         "x": [
          0,
          1600000,
          3200000,
          4800000,
          6400000,
          8000000,
          9600000,
          10000000,
          12000000
         ],
         "y": [
          718.526895,
          1015.6996176159947,
          1034.2106610167393,
          1118.6257392614696,
          1072.240129113496,
          1074.8282279429977,
          1121.0936280313495,
          1127.998423098006,
          1171.546162049338
         ]
        },
        {
         "name": "MLP h=64 sb=True P2",
         "type": "scatter",
         "x": [
          0,
          1600000,
          3200000,
          4800000,
          6400000,
          8000000,
          9600000,
          10000000,
          12000000
         ],
         "y": [
          718.526895,
          913.378756003658,
          989.9698091706575,
          1066.0235097571356,
          1090.4048344586158,
          1046.6192366688529,
          1123.143220051275,
          1126.1780858081843,
          1143.4407564407588
         ]
        }
       ],
       "layout": {
        "annotations": [
         {
          "showarrow": false,
          "text": "random",
          "x": 1,
          "xanchor": "right",
          "xref": "x domain",
          "y": 718.526895,
          "yanchor": "bottom",
          "yref": "y"
         },
         {
          "showarrow": false,
          "text": "heuristic",
          "x": 0,
          "xanchor": "left",
          "xref": "x domain",
          "y": 1354.971987,
          "yanchor": "bottom",
          "yref": "y"
         },
         {
          "showarrow": false,
          "text": "2nd phase",
          "textangle": 90,
          "x": 10000000,
          "xanchor": "left",
          "xref": "x",
          "y": 0,
          "yanchor": "bottom",
          "yref": "y domain"
         }
        ],
        "font": {
         "family": "Serif",
         "size": 11
        },
        "height": 220,
        "legend": {
         "orientation": "h",
         "title": {
          "text": ""
         },
         "x": 1,
         "xanchor": "right",
         "y": 1.02,
         "yanchor": "bottom"
        },
        "margin": {
         "b": 1,
         "l": 5,
         "r": 5,
         "t": 1
        },
        "shapes": [
         {
          "line": {
           "color": "gray",
           "dash": "dot"
          },
          "type": "line",
          "x0": 0,
          "x1": 1,
          "xref": "x domain",
          "y0": 718.526895,
          "y1": 718.526895,
          "yref": "y"
         },
         {
          "line": {
           "color": "green",
           "dash": "dot"
          },
          "type": "line",
          "x0": 0,
          "x1": 1,
          "xref": "x domain",
          "y0": 1354.971987,
          "y1": 1354.971987,
          "yref": "y"
         },
         {
          "line": {
           "color": "gray",
           "dash": "dash"
          },
          "type": "line",
          "x0": 10000000,
          "x1": 10000000,
          "xref": "x",
          "y0": 0,
          "y1": 1,
          "yref": "y domain"
         }
        ],
        "showlegend": true,
        "template": {
         "data": {
          "bar": [
           {
            "error_x": {
             "color": "#2a3f5f"
            },
            "error_y": {
             "color": "#2a3f5f"
            },
            "marker": {
             "line": {
              "color": "#E5ECF6",
              "width": 0.5
             },
             "pattern": {
              "fillmode": "overlay",
              "size": 10,
              "solidity": 0.2
             }
            },
            "type": "bar"
           }
          ],
          "barpolar": [
           {
            "marker": {
             "line": {
              "color": "#E5ECF6",
              "width": 0.5
             },
             "pattern": {
              "fillmode": "overlay",
              "size": 10,
              "solidity": 0.2
             }
            },
            "type": "barpolar"
           }
          ],
          "carpet": [
           {
            "aaxis": {
             "endlinecolor": "#2a3f5f",
             "gridcolor": "white",
             "linecolor": "white",
             "minorgridcolor": "white",
             "startlinecolor": "#2a3f5f"
            },
            "baxis": {
             "endlinecolor": "#2a3f5f",
             "gridcolor": "white",
             "linecolor": "white",
             "minorgridcolor": "white",
             "startlinecolor": "#2a3f5f"
            },
            "type": "carpet"
           }
          ],
          "choropleth": [
           {
            "colorbar": {
             "outlinewidth": 0,
             "ticks": ""
            },
            "type": "choropleth"
           }
          ],
          "contour": [
           {
            "colorbar": {
             "outlinewidth": 0,
             "ticks": ""
            },
            "colorscale": [
             [
              0,
              "#0d0887"
             ],
             [
              0.1111111111111111,
              "#46039f"
             ],
             [
              0.2222222222222222,
              "#7201a8"
             ],
             [
              0.3333333333333333,
              "#9c179e"
             ],
             [
              0.4444444444444444,
              "#bd3786"
             ],
             [
              0.5555555555555556,
              "#d8576b"
             ],
             [
              0.6666666666666666,
              "#ed7953"
             ],
             [
              0.7777777777777778,
              "#fb9f3a"
             ],
             [
              0.8888888888888888,
              "#fdca26"
             ],
             [
              1,
              "#f0f921"
             ]
            ],
            "type": "contour"
           }
          ],
          "contourcarpet": [
           {
            "colorbar": {
             "outlinewidth": 0,
             "ticks": ""
            },
            "type": "contourcarpet"
           }
          ],
          "heatmap": [
           {
            "colorbar": {
             "outlinewidth": 0,
             "ticks": ""
            },
            "colorscale": [
             [
              0,
              "#0d0887"
             ],
             [
              0.1111111111111111,
              "#46039f"
             ],
             [
              0.2222222222222222,
              "#7201a8"
             ],
             [
              0.3333333333333333,
              "#9c179e"
             ],
             [
              0.4444444444444444,
              "#bd3786"
             ],
             [
              0.5555555555555556,
              "#d8576b"
             ],
             [
              0.6666666666666666,
              "#ed7953"
             ],
             [
              0.7777777777777778,
              "#fb9f3a"
             ],
             [
              0.8888888888888888,
              "#fdca26"
             ],
             [
              1,
              "#f0f921"
             ]
            ],
            "type": "heatmap"
           }
          ],
          "heatmapgl": [
           {
            "colorbar": {
             "outlinewidth": 0,
             "ticks": ""
            },
            "colorscale": [
             [
              0,
              "#0d0887"
             ],
             [
              0.1111111111111111,
              "#46039f"
             ],
             [
              0.2222222222222222,
              "#7201a8"
             ],
             [
              0.3333333333333333,
              "#9c179e"
             ],
             [
              0.4444444444444444,
              "#bd3786"
             ],
             [
              0.5555555555555556,
              "#d8576b"
             ],
             [
              0.6666666666666666,
              "#ed7953"
             ],
             [
              0.7777777777777778,
              "#fb9f3a"
             ],
             [
              0.8888888888888888,
              "#fdca26"
             ],
             [
              1,
              "#f0f921"
             ]
            ],
            "type": "heatmapgl"
           }
          ],
          "histogram": [
           {
            "marker": {
             "pattern": {
              "fillmode": "overlay",
              "size": 10,
              "solidity": 0.2
             }
            },
            "type": "histogram"
           }
          ],
          "histogram2d": [
           {
            "colorbar": {
             "outlinewidth": 0,
             "ticks": ""
            },
            "colorscale": [
             [
              0,
              "#0d0887"
             ],
             [
              0.1111111111111111,
              "#46039f"
             ],
             [
              0.2222222222222222,
              "#7201a8"
             ],
             [
              0.3333333333333333,
              "#9c179e"
             ],
             [
              0.4444444444444444,
              "#bd3786"
             ],
             [
              0.5555555555555556,
              "#d8576b"
             ],
             [
              0.6666666666666666,
              "#ed7953"
             ],
             [
              0.7777777777777778,
              "#fb9f3a"
             ],
             [
              0.8888888888888888,
              "#fdca26"
             ],
             [
              1,
              "#f0f921"
             ]
            ],
            "type": "histogram2d"
           }
          ],
          "histogram2dcontour": [
           {
            "colorbar": {
             "outlinewidth": 0,
             "ticks": ""
            },
            "colorscale": [
             [
              0,
              "#0d0887"
             ],
             [
              0.1111111111111111,
              "#46039f"
             ],
             [
              0.2222222222222222,
              "#7201a8"
             ],
             [
              0.3333333333333333,
              "#9c179e"
             ],
             [
              0.4444444444444444,
              "#bd3786"
             ],
             [
              0.5555555555555556,
              "#d8576b"
             ],
             [
              0.6666666666666666,
              "#ed7953"
             ],
             [
              0.7777777777777778,
              "#fb9f3a"
             ],
             [
              0.8888888888888888,
              "#fdca26"
             ],
             [
              1,
              "#f0f921"
             ]
            ],
            "type": "histogram2dcontour"
           }
          ],
          "mesh3d": [
           {
            "colorbar": {
             "outlinewidth": 0,
             "ticks": ""
            },
            "type": "mesh3d"
           }
          ],
          "parcoords": [
           {
            "line": {
             "colorbar": {
              "outlinewidth": 0,
              "ticks": ""
             }
            },
            "type": "parcoords"
           }
          ],
          "pie": [
           {
            "automargin": true,
            "type": "pie"
           }
          ],
          "scatter": [
           {
            "marker": {
             "colorbar": {
              "outlinewidth": 0,
              "ticks": ""
             }
            },
            "type": "scatter"
           }
          ],
          "scatter3d": [
           {
            "line": {
             "colorbar": {
              "outlinewidth": 0,
              "ticks": ""
             }
            },
            "marker": {
             "colorbar": {
              "outlinewidth": 0,
              "ticks": ""
             }
            },
            "type": "scatter3d"
           }
          ],
          "scattercarpet": [
           {
            "marker": {
             "colorbar": {
              "outlinewidth": 0,
              "ticks": ""
             }
            },
            "type": "scattercarpet"
           }
          ],
          "scattergeo": [
           {
            "marker": {
             "colorbar": {
              "outlinewidth": 0,
              "ticks": ""
             }
            },
            "type": "scattergeo"
           }
          ],
          "scattergl": [
           {
            "marker": {
             "colorbar": {
              "outlinewidth": 0,
              "ticks": ""
             }
            },
            "type": "scattergl"
           }
          ],
          "scattermapbox": [
           {
            "marker": {
             "colorbar": {
              "outlinewidth": 0,
              "ticks": ""
             }
            },
            "type": "scattermapbox"
           }
          ],
          "scatterpolar": [
           {
            "marker": {
             "colorbar": {
              "outlinewidth": 0,
              "ticks": ""
             }
            },
            "type": "scatterpolar"
           }
          ],
          "scatterpolargl": [
           {
            "marker": {
             "colorbar": {
              "outlinewidth": 0,
              "ticks": ""
             }
            },
            "type": "scatterpolargl"
           }
          ],
          "scatterternary": [
           {
            "marker": {
             "colorbar": {
              "outlinewidth": 0,
              "ticks": ""
             }
            },
            "type": "scatterternary"
           }
          ],
          "surface": [
           {
            "colorbar": {
             "outlinewidth": 0,
             "ticks": ""
            },
            "colorscale": [
             [
              0,
              "#0d0887"
             ],
             [
              0.1111111111111111,
              "#46039f"
             ],
             [
              0.2222222222222222,
              "#7201a8"
             ],
             [
              0.3333333333333333,
              "#9c179e"
             ],
             [
              0.4444444444444444,
              "#bd3786"
             ],
             [
              0.5555555555555556,
              "#d8576b"
             ],
             [
              0.6666666666666666,
              "#ed7953"
             ],
             [
              0.7777777777777778,
              "#fb9f3a"
             ],
             [
              0.8888888888888888,
              "#fdca26"
             ],
             [
              1,
              "#f0f921"
             ]
            ],
            "type": "surface"
           }
          ],
          "table": [
           {
            "cells": {
             "fill": {
              "color": "#EBF0F8"
             },
             "line": {
              "color": "white"
             }
            },
            "header": {
             "fill": {
              "color": "#C8D4E3"
             },
             "line": {
              "color": "white"
             }
            },
            "type": "table"
           }
          ]
         },
         "layout": {
          "annotationdefaults": {
           "arrowcolor": "#2a3f5f",
           "arrowhead": 0,
           "arrowwidth": 1
          },
          "autotypenumbers": "strict",
          "coloraxis": {
           "colorbar": {
            "outlinewidth": 0,
            "ticks": ""
           }
          },
          "colorscale": {
           "diverging": [
            [
             0,
             "#8e0152"
            ],
            [
             0.1,
             "#c51b7d"
            ],
            [
             0.2,
             "#de77ae"
            ],
            [
             0.3,
             "#f1b6da"
            ],
            [
             0.4,
             "#fde0ef"
            ],
            [
             0.5,
             "#f7f7f7"
            ],
            [
             0.6,
             "#e6f5d0"
            ],
            [
             0.7,
             "#b8e186"
            ],
            [
             0.8,
             "#7fbc41"
            ],
            [
             0.9,
             "#4d9221"
            ],
            [
             1,
             "#276419"
            ]
           ],
           "sequential": [
            [
             0,
             "#0d0887"
            ],
            [
             0.1111111111111111,
             "#46039f"
            ],
            [
             0.2222222222222222,
             "#7201a8"
            ],
            [
             0.3333333333333333,
             "#9c179e"
            ],
            [
             0.4444444444444444,
             "#bd3786"
            ],
            [
             0.5555555555555556,
             "#d8576b"
            ],
            [
             0.6666666666666666,
             "#ed7953"
            ],
            [
             0.7777777777777778,
             "#fb9f3a"
            ],
            [
             0.8888888888888888,
             "#fdca26"
            ],
            [
             1,
             "#f0f921"
            ]
           ],
           "sequentialminus": [
            [
             0,
             "#0d0887"
            ],
            [
             0.1111111111111111,
             "#46039f"
            ],
            [
             0.2222222222222222,
             "#7201a8"
            ],
            [
             0.3333333333333333,
             "#9c179e"
            ],
            [
             0.4444444444444444,
             "#bd3786"
            ],
            [
             0.5555555555555556,
             "#d8576b"
            ],
            [
             0.6666666666666666,
             "#ed7953"
            ],
            [
             0.7777777777777778,
             "#fb9f3a"
            ],
            [
             0.8888888888888888,
             "#fdca26"
            ],
            [
             1,
             "#f0f921"
            ]
           ]
          },
          "colorway": [
           "#636efa",
           "#EF553B",
           "#00cc96",
           "#ab63fa",
           "#FFA15A",
           "#19d3f3",
           "#FF6692",
           "#B6E880",
           "#FF97FF",
           "#FECB52"
          ],
          "font": {
           "color": "#2a3f5f"
          },
          "geo": {
           "bgcolor": "white",
           "lakecolor": "white",
           "landcolor": "#E5ECF6",
           "showlakes": true,
           "showland": true,
           "subunitcolor": "white"
          },
          "hoverlabel": {
           "align": "left"
          },
          "hovermode": "closest",
          "mapbox": {
           "style": "light"
          },
          "paper_bgcolor": "white",
          "plot_bgcolor": "#E5ECF6",
          "polar": {
           "angularaxis": {
            "gridcolor": "white",
            "linecolor": "white",
            "ticks": ""
           },
           "bgcolor": "#E5ECF6",
           "radialaxis": {
            "gridcolor": "white",
            "linecolor": "white",
            "ticks": ""
           }
          },
          "scene": {
           "xaxis": {
            "backgroundcolor": "#E5ECF6",
            "gridcolor": "white",
            "gridwidth": 2,
            "linecolor": "white",
            "showbackground": true,
            "ticks": "",
            "zerolinecolor": "white"
           },
           "yaxis": {
            "backgroundcolor": "#E5ECF6",
            "gridcolor": "white",
            "gridwidth": 2,
            "linecolor": "white",
            "showbackground": true,
            "ticks": "",
            "zerolinecolor": "white"
           },
           "zaxis": {
            "backgroundcolor": "#E5ECF6",
            "gridcolor": "white",
            "gridwidth": 2,
            "linecolor": "white",
            "showbackground": true,
            "ticks": "",
            "zerolinecolor": "white"
           }
          },
          "shapedefaults": {
           "line": {
            "color": "#2a3f5f"
           }
          },
          "ternary": {
           "aaxis": {
            "gridcolor": "white",
            "linecolor": "white",
            "ticks": ""
           },
           "baxis": {
            "gridcolor": "white",
            "linecolor": "white",
            "ticks": ""
           },
           "bgcolor": "#E5ECF6",
           "caxis": {
            "gridcolor": "white",
            "linecolor": "white",
            "ticks": ""
           }
          },
          "title": {
           "x": 0.05
          },
          "xaxis": {
           "automargin": true,
           "gridcolor": "white",
           "linecolor": "white",
           "ticks": "",
           "title": {
            "standoff": 15
           },
           "zerolinecolor": "white",
           "zerolinewidth": 2
          },
          "yaxis": {
           "automargin": true,
           "gridcolor": "white",
           "linecolor": "white",
           "ticks": "",
           "title": {
            "standoff": 15
           },
           "zerolinecolor": "white",
           "zerolinewidth": 2
          }
         }
        },
        "title": {
         "text": ""
        },
        "width": 500,
        "xaxis": {
         "title": {
          "text": "Number of games"
         }
        },
        "yaxis": {
         "nticks": 12,
         "title": {
          "text": "ELO score"
         }
        }
       }
      }
     },
     "metadata": {},
     "output_type": "display_data"
    },
    {
     "data": {
      "application/vnd.plotly.v1+json": {
       "config": {
        "plotlyServerURL": "https://plot.ly"
       },
       "data": [
        {
         "name": "RNN h=128 m=128 P2",
         "type": "scatter",
         "x": [
          0,
          1600000,
          3200000,
          4800000,
          6400016,
          8000016,
          8960000
         ],
         "y": [
          718.526895,
          804.4433837442797,
          887.5907538949918,
          1038.8991799229696,
          1123.6586196616508,
          1158.4629956140955,
          1238.4418488080034
         ]
        },
        {
         "name": "RNN h=128 m=64 P2",
         "type": "scatter",
         "x": [
          0,
          1600000,
          3200000,
          4800000,
          6400000,
          8000000,
          9600000,
          10000000,
          12000000
         ],
         "y": [
          718.526895,
          898.4551093693934,
          1007.8516625566132,
          1076.576441789722,
          1176.6345919027237,
          1194.983409015861,
          1239.3310576630631,
          1235.3612475381399,
          1259.9625034317073
         ]
        },
        {
         "name": "RNN h=32 m=128 P2",
         "type": "scatter",
         "x": [
          0,
          1600000,
          3200000,
          4800000,
          6400000,
          8000000,
          9600000,
          10000000,
          12000000
         ],
         "y": [
          718.526895,
          903.817502549132,
          1108.2017887087914,
          1196.9710481639156,
          1222.1060501526172,
          1219.2982560508635,
          1230.0249563696116,
          1244.0643281602572,
          1254.0696323752625
         ]
        },
        {
         "name": "RNN h=32 m=64 P2",
         "type": "scatter",
         "x": [
          0,
          1600000,
          3200000,
          4800000,
          6400000,
          8000000,
          9600000,
          10000000,
          12000000
         ],
         "y": [
          718.526895,
          774.7800154815428,
          1137.5303922818123,
          1223.9894813486362,
          1308.16381567737,
          1323.496722123973,
          1326.9547359837156,
          1333.2725329208988,
          1358.3489109628513
         ]
        },
        {
         "name": "RNN h=64 m=128 P2",
         "type": "scatter",
         "x": [
          0,
          1600000,
          3200000,
          4800000,
          6400000,
          8000000,
          9600000,
          10000000,
          12000000
         ],
         "y": [
          718.526895,
          821.1589641460919,
          1103.0098943187047,
          1286.6968946031418,
          1223.7839215800823,
          1291.8046224401567,
          1269.5962564338556,
          1281.1033475920924,
          1317.23842090833
         ]
        },
        {
         "name": "RNN h=64 m=64 P2",
         "type": "scatter",
         "x": [
          0,
          1600000,
          3200000,
          4800000,
          6400000,
          8000000,
          9600000,
          10000000,
          12000000
         ],
         "y": [
          718.526895,
          918.2556996294567,
          1050.2673459838263,
          1180.5926989919399,
          1206.2420928355118,
          1255.4938390326,
          1259.2289988596142,
          1254.384136129675,
          1265.0612246480612
         ]
        }
       ],
       "layout": {
        "annotations": [
         {
          "showarrow": false,
          "text": "random",
          "x": 1,
          "xanchor": "right",
          "xref": "x domain",
          "y": 718.526895,
          "yanchor": "bottom",
          "yref": "y"
         },
         {
          "showarrow": false,
          "text": "heuristic",
          "x": 0,
          "xanchor": "left",
          "xref": "x domain",
          "y": 1354.971987,
          "yanchor": "bottom",
          "yref": "y"
         },
         {
          "showarrow": false,
          "text": "*",
          "textangle": 90,
          "x": 8000000,
          "xanchor": "left",
          "xref": "x",
          "y": 0,
          "yanchor": "bottom",
          "yref": "y domain"
         },
         {
          "showarrow": false,
          "text": "2nd phase",
          "textangle": 90,
          "x": 10000000,
          "xanchor": "left",
          "xref": "x",
          "y": 0,
          "yanchor": "bottom",
          "yref": "y domain"
         }
        ],
        "shapes": [
         {
          "line": {
           "color": "gray",
           "dash": "dot"
          },
          "type": "line",
          "x0": 0,
          "x1": 1,
          "xref": "x domain",
          "y0": 718.526895,
          "y1": 718.526895,
          "yref": "y"
         },
         {
          "line": {
           "color": "green",
           "dash": "dot"
          },
          "type": "line",
          "x0": 0,
          "x1": 1,
          "xref": "x domain",
          "y0": 1354.971987,
          "y1": 1354.971987,
          "yref": "y"
         },
         {
          "line": {
           "color": "gray",
           "dash": "dash"
          },
          "type": "line",
          "x0": 8000000,
          "x1": 8000000,
          "xref": "x",
          "y0": 0,
          "y1": 1,
          "yref": "y domain"
         },
         {
          "line": {
           "color": "gray",
           "dash": "dash"
          },
          "type": "line",
          "x0": 10000000,
          "x1": 10000000,
          "xref": "x",
          "y0": 0,
          "y1": 1,
          "yref": "y domain"
         }
        ],
        "template": {
         "data": {
          "bar": [
           {
            "error_x": {
             "color": "#2a3f5f"
            },
            "error_y": {
             "color": "#2a3f5f"
            },
            "marker": {
             "line": {
              "color": "#E5ECF6",
              "width": 0.5
             },
             "pattern": {
              "fillmode": "overlay",
              "size": 10,
              "solidity": 0.2
             }
            },
            "type": "bar"
           }
          ],
          "barpolar": [
           {
            "marker": {
             "line": {
              "color": "#E5ECF6",
              "width": 0.5
             },
             "pattern": {
              "fillmode": "overlay",
              "size": 10,
              "solidity": 0.2
             }
            },
            "type": "barpolar"
           }
          ],
          "carpet": [
           {
            "aaxis": {
             "endlinecolor": "#2a3f5f",
             "gridcolor": "white",
             "linecolor": "white",
             "minorgridcolor": "white",
             "startlinecolor": "#2a3f5f"
            },
            "baxis": {
             "endlinecolor": "#2a3f5f",
             "gridcolor": "white",
             "linecolor": "white",
             "minorgridcolor": "white",
             "startlinecolor": "#2a3f5f"
            },
            "type": "carpet"
           }
          ],
          "choropleth": [
           {
            "colorbar": {
             "outlinewidth": 0,
             "ticks": ""
            },
            "type": "choropleth"
           }
          ],
          "contour": [
           {
            "colorbar": {
             "outlinewidth": 0,
             "ticks": ""
            },
            "colorscale": [
             [
              0,
              "#0d0887"
             ],
             [
              0.1111111111111111,
              "#46039f"
             ],
             [
              0.2222222222222222,
              "#7201a8"
             ],
             [
              0.3333333333333333,
              "#9c179e"
             ],
             [
              0.4444444444444444,
              "#bd3786"
             ],
             [
              0.5555555555555556,
              "#d8576b"
             ],
             [
              0.6666666666666666,
              "#ed7953"
             ],
             [
              0.7777777777777778,
              "#fb9f3a"
             ],
             [
              0.8888888888888888,
              "#fdca26"
             ],
             [
              1,
              "#f0f921"
             ]
            ],
            "type": "contour"
           }
          ],
          "contourcarpet": [
           {
            "colorbar": {
             "outlinewidth": 0,
             "ticks": ""
            },
            "type": "contourcarpet"
           }
          ],
          "heatmap": [
           {
            "colorbar": {
             "outlinewidth": 0,
             "ticks": ""
            },
            "colorscale": [
             [
              0,
              "#0d0887"
             ],
             [
              0.1111111111111111,
              "#46039f"
             ],
             [
              0.2222222222222222,
              "#7201a8"
             ],
             [
              0.3333333333333333,
              "#9c179e"
             ],
             [
              0.4444444444444444,
              "#bd3786"
             ],
             [
              0.5555555555555556,
              "#d8576b"
             ],
             [
              0.6666666666666666,
              "#ed7953"
             ],
             [
              0.7777777777777778,
              "#fb9f3a"
             ],
             [
              0.8888888888888888,
              "#fdca26"
             ],
             [
              1,
              "#f0f921"
             ]
            ],
            "type": "heatmap"
           }
          ],
          "heatmapgl": [
           {
            "colorbar": {
             "outlinewidth": 0,
             "ticks": ""
            },
            "colorscale": [
             [
              0,
              "#0d0887"
             ],
             [
              0.1111111111111111,
              "#46039f"
             ],
             [
              0.2222222222222222,
              "#7201a8"
             ],
             [
              0.3333333333333333,
              "#9c179e"
             ],
             [
              0.4444444444444444,
              "#bd3786"
             ],
             [
              0.5555555555555556,
              "#d8576b"
             ],
             [
              0.6666666666666666,
              "#ed7953"
             ],
             [
              0.7777777777777778,
              "#fb9f3a"
             ],
             [
              0.8888888888888888,
              "#fdca26"
             ],
             [
              1,
              "#f0f921"
             ]
            ],
            "type": "heatmapgl"
           }
          ],
          "histogram": [
           {
            "marker": {
             "pattern": {
              "fillmode": "overlay",
              "size": 10,
              "solidity": 0.2
             }
            },
            "type": "histogram"
           }
          ],
          "histogram2d": [
           {
            "colorbar": {
             "outlinewidth": 0,
             "ticks": ""
            },
            "colorscale": [
             [
              0,
              "#0d0887"
             ],
             [
              0.1111111111111111,
              "#46039f"
             ],
             [
              0.2222222222222222,
              "#7201a8"
             ],
             [
              0.3333333333333333,
              "#9c179e"
             ],
             [
              0.4444444444444444,
              "#bd3786"
             ],
             [
              0.5555555555555556,
              "#d8576b"
             ],
             [
              0.6666666666666666,
              "#ed7953"
             ],
             [
              0.7777777777777778,
              "#fb9f3a"
             ],
             [
              0.8888888888888888,
              "#fdca26"
             ],
             [
              1,
              "#f0f921"
             ]
            ],
            "type": "histogram2d"
           }
          ],
          "histogram2dcontour": [
           {
            "colorbar": {
             "outlinewidth": 0,
             "ticks": ""
            },
            "colorscale": [
             [
              0,
              "#0d0887"
             ],
             [
              0.1111111111111111,
              "#46039f"
             ],
             [
              0.2222222222222222,
              "#7201a8"
             ],
             [
              0.3333333333333333,
              "#9c179e"
             ],
             [
              0.4444444444444444,
              "#bd3786"
             ],
             [
              0.5555555555555556,
              "#d8576b"
             ],
             [
              0.6666666666666666,
              "#ed7953"
             ],
             [
              0.7777777777777778,
              "#fb9f3a"
             ],
             [
              0.8888888888888888,
              "#fdca26"
             ],
             [
              1,
              "#f0f921"
             ]
            ],
            "type": "histogram2dcontour"
           }
          ],
          "mesh3d": [
           {
            "colorbar": {
             "outlinewidth": 0,
             "ticks": ""
            },
            "type": "mesh3d"
           }
          ],
          "parcoords": [
           {
            "line": {
             "colorbar": {
              "outlinewidth": 0,
              "ticks": ""
             }
            },
            "type": "parcoords"
           }
          ],
          "pie": [
           {
            "automargin": true,
            "type": "pie"
           }
          ],
          "scatter": [
           {
            "marker": {
             "colorbar": {
              "outlinewidth": 0,
              "ticks": ""
             }
            },
            "type": "scatter"
           }
          ],
          "scatter3d": [
           {
            "line": {
             "colorbar": {
              "outlinewidth": 0,
              "ticks": ""
             }
            },
            "marker": {
             "colorbar": {
              "outlinewidth": 0,
              "ticks": ""
             }
            },
            "type": "scatter3d"
           }
          ],
          "scattercarpet": [
           {
            "marker": {
             "colorbar": {
              "outlinewidth": 0,
              "ticks": ""
             }
            },
            "type": "scattercarpet"
           }
          ],
          "scattergeo": [
           {
            "marker": {
             "colorbar": {
              "outlinewidth": 0,
              "ticks": ""
             }
            },
            "type": "scattergeo"
           }
          ],
          "scattergl": [
           {
            "marker": {
             "colorbar": {
              "outlinewidth": 0,
              "ticks": ""
             }
            },
            "type": "scattergl"
           }
          ],
          "scattermapbox": [
           {
            "marker": {
             "colorbar": {
              "outlinewidth": 0,
              "ticks": ""
             }
            },
            "type": "scattermapbox"
           }
          ],
          "scatterpolar": [
           {
            "marker": {
             "colorbar": {
              "outlinewidth": 0,
              "ticks": ""
             }
            },
            "type": "scatterpolar"
           }
          ],
          "scatterpolargl": [
           {
            "marker": {
             "colorbar": {
              "outlinewidth": 0,
              "ticks": ""
             }
            },
            "type": "scatterpolargl"
           }
          ],
          "scatterternary": [
           {
            "marker": {
             "colorbar": {
              "outlinewidth": 0,
              "ticks": ""
             }
            },
            "type": "scatterternary"
           }
          ],
          "surface": [
           {
            "colorbar": {
             "outlinewidth": 0,
             "ticks": ""
            },
            "colorscale": [
             [
              0,
              "#0d0887"
             ],
             [
              0.1111111111111111,
              "#46039f"
             ],
             [
              0.2222222222222222,
              "#7201a8"
             ],
             [
              0.3333333333333333,
              "#9c179e"
             ],
             [
              0.4444444444444444,
              "#bd3786"
             ],
             [
              0.5555555555555556,
              "#d8576b"
             ],
             [
              0.6666666666666666,
              "#ed7953"
             ],
             [
              0.7777777777777778,
              "#fb9f3a"
             ],
             [
              0.8888888888888888,
              "#fdca26"
             ],
             [
              1,
              "#f0f921"
             ]
            ],
            "type": "surface"
           }
          ],
          "table": [
           {
            "cells": {
             "fill": {
              "color": "#EBF0F8"
             },
             "line": {
              "color": "white"
             }
            },
            "header": {
             "fill": {
              "color": "#C8D4E3"
             },
             "line": {
              "color": "white"
             }
            },
            "type": "table"
           }
          ]
         },
         "layout": {
          "annotationdefaults": {
           "arrowcolor": "#2a3f5f",
           "arrowhead": 0,
           "arrowwidth": 1
          },
          "autotypenumbers": "strict",
          "coloraxis": {
           "colorbar": {
            "outlinewidth": 0,
            "ticks": ""
           }
          },
          "colorscale": {
           "diverging": [
            [
             0,
             "#8e0152"
            ],
            [
             0.1,
             "#c51b7d"
            ],
            [
             0.2,
             "#de77ae"
            ],
            [
             0.3,
             "#f1b6da"
            ],
            [
             0.4,
             "#fde0ef"
            ],
            [
             0.5,
             "#f7f7f7"
            ],
            [
             0.6,
             "#e6f5d0"
            ],
            [
             0.7,
             "#b8e186"
            ],
            [
             0.8,
             "#7fbc41"
            ],
            [
             0.9,
             "#4d9221"
            ],
            [
             1,
             "#276419"
            ]
           ],
           "sequential": [
            [
             0,
             "#0d0887"
            ],
            [
             0.1111111111111111,
             "#46039f"
            ],
            [
             0.2222222222222222,
             "#7201a8"
            ],
            [
             0.3333333333333333,
             "#9c179e"
            ],
            [
             0.4444444444444444,
             "#bd3786"
            ],
            [
             0.5555555555555556,
             "#d8576b"
            ],
            [
             0.6666666666666666,
             "#ed7953"
            ],
            [
             0.7777777777777778,
             "#fb9f3a"
            ],
            [
             0.8888888888888888,
             "#fdca26"
            ],
            [
             1,
             "#f0f921"
            ]
           ],
           "sequentialminus": [
            [
             0,
             "#0d0887"
            ],
            [
             0.1111111111111111,
             "#46039f"
            ],
            [
             0.2222222222222222,
             "#7201a8"
            ],
            [
             0.3333333333333333,
             "#9c179e"
            ],
            [
             0.4444444444444444,
             "#bd3786"
            ],
            [
             0.5555555555555556,
             "#d8576b"
            ],
            [
             0.6666666666666666,
             "#ed7953"
            ],
            [
             0.7777777777777778,
             "#fb9f3a"
            ],
            [
             0.8888888888888888,
             "#fdca26"
            ],
            [
             1,
             "#f0f921"
            ]
           ]
          },
          "colorway": [
           "#636efa",
           "#EF553B",
           "#00cc96",
           "#ab63fa",
           "#FFA15A",
           "#19d3f3",
           "#FF6692",
           "#B6E880",
           "#FF97FF",
           "#FECB52"
          ],
          "font": {
           "color": "#2a3f5f"
          },
          "geo": {
           "bgcolor": "white",
           "lakecolor": "white",
           "landcolor": "#E5ECF6",
           "showlakes": true,
           "showland": true,
           "subunitcolor": "white"
          },
          "hoverlabel": {
           "align": "left"
          },
          "hovermode": "closest",
          "mapbox": {
           "style": "light"
          },
          "paper_bgcolor": "white",
          "plot_bgcolor": "#E5ECF6",
          "polar": {
           "angularaxis": {
            "gridcolor": "white",
            "linecolor": "white",
            "ticks": ""
           },
           "bgcolor": "#E5ECF6",
           "radialaxis": {
            "gridcolor": "white",
            "linecolor": "white",
            "ticks": ""
           }
          },
          "scene": {
           "xaxis": {
            "backgroundcolor": "#E5ECF6",
            "gridcolor": "white",
            "gridwidth": 2,
            "linecolor": "white",
            "showbackground": true,
            "ticks": "",
            "zerolinecolor": "white"
           },
           "yaxis": {
            "backgroundcolor": "#E5ECF6",
            "gridcolor": "white",
            "gridwidth": 2,
            "linecolor": "white",
            "showbackground": true,
            "ticks": "",
            "zerolinecolor": "white"
           },
           "zaxis": {
            "backgroundcolor": "#E5ECF6",
            "gridcolor": "white",
            "gridwidth": 2,
            "linecolor": "white",
            "showbackground": true,
            "ticks": "",
            "zerolinecolor": "white"
           }
          },
          "shapedefaults": {
           "line": {
            "color": "#2a3f5f"
           }
          },
          "ternary": {
           "aaxis": {
            "gridcolor": "white",
            "linecolor": "white",
            "ticks": ""
           },
           "baxis": {
            "gridcolor": "white",
            "linecolor": "white",
            "ticks": ""
           },
           "bgcolor": "#E5ECF6",
           "caxis": {
            "gridcolor": "white",
            "linecolor": "white",
            "ticks": ""
           }
          },
          "title": {
           "x": 0.05
          },
          "xaxis": {
           "automargin": true,
           "gridcolor": "white",
           "linecolor": "white",
           "ticks": "",
           "title": {
            "standoff": 15
           },
           "zerolinecolor": "white",
           "zerolinewidth": 2
          },
          "yaxis": {
           "automargin": true,
           "gridcolor": "white",
           "linecolor": "white",
           "ticks": "",
           "title": {
            "standoff": 15
           },
           "zerolinecolor": "white",
           "zerolinewidth": 2
          }
         }
        },
        "title": {
         "text": "ELO score over time RNN P2"
        },
        "xaxis": {
         "title": {
          "text": "Number of games"
         }
        },
        "yaxis": {
         "title": {
          "text": "ELO score"
         }
        }
       }
      }
     },
     "metadata": {},
     "output_type": "display_data"
    },
    {
     "data": {
      "application/vnd.plotly.v1+json": {
       "config": {
        "plotlyServerURL": "https://plot.ly"
       },
       "data": [
        {
         "name": "RNN h=128 m=128 P2",
         "type": "scatter",
         "x": [
          0,
          1600000,
          3200000,
          4800000,
          6400016,
          8000016,
          8960000
         ],
         "y": [
          718.526895,
          804.4433837442797,
          887.5907538949918,
          1038.8991799229696,
          1123.6586196616508,
          1158.4629956140955,
          1238.4418488080034
         ]
        },
        {
         "name": "RNN h=128 m=64 P2",
         "type": "scatter",
         "x": [
          0,
          1600000,
          3200000,
          4800000,
          6400000,
          8000000,
          9600000,
          10000000,
          12000000
         ],
         "y": [
          718.526895,
          898.4551093693934,
          1007.8516625566132,
          1076.576441789722,
          1176.6345919027237,
          1194.983409015861,
          1239.3310576630631,
          1235.3612475381399,
          1259.9625034317073
         ]
        },
        {
         "name": "RNN h=32 m=128 P2",
         "type": "scatter",
         "x": [
          0,
          1600000,
          3200000,
          4800000,
          6400000,
          8000000,
          9600000,
          10000000,
          12000000
         ],
         "y": [
          718.526895,
          903.817502549132,
          1108.2017887087914,
          1196.9710481639156,
          1222.1060501526172,
          1219.2982560508635,
          1230.0249563696116,
          1244.0643281602572,
          1254.0696323752625
         ]
        },
        {
         "name": "RNN h=32 m=64 P2",
         "type": "scatter",
         "x": [
          0,
          1600000,
          3200000,
          4800000,
          6400000,
          8000000,
          9600000,
          10000000,
          12000000
         ],
         "y": [
          718.526895,
          774.7800154815428,
          1137.5303922818123,
          1223.9894813486362,
          1308.16381567737,
          1323.496722123973,
          1326.9547359837156,
          1333.2725329208988,
          1358.3489109628513
         ]
        },
        {
         "name": "RNN h=64 m=128 P2",
         "type": "scatter",
         "x": [
          0,
          1600000,
          3200000,
          4800000,
          6400000,
          8000000,
          9600000,
          10000000,
          12000000
         ],
         "y": [
          718.526895,
          821.1589641460919,
          1103.0098943187047,
          1286.6968946031418,
          1223.7839215800823,
          1291.8046224401567,
          1269.5962564338556,
          1281.1033475920924,
          1317.23842090833
         ]
        },
        {
         "name": "RNN h=64 m=64 P2",
         "type": "scatter",
         "x": [
          0,
          1600000,
          3200000,
          4800000,
          6400000,
          8000000,
          9600000,
          10000000,
          12000000
         ],
         "y": [
          718.526895,
          918.2556996294567,
          1050.2673459838263,
          1180.5926989919399,
          1206.2420928355118,
          1255.4938390326,
          1259.2289988596142,
          1254.384136129675,
          1265.0612246480612
         ]
        }
       ],
       "layout": {
        "annotations": [
         {
          "showarrow": false,
          "text": "random",
          "x": 1,
          "xanchor": "right",
          "xref": "x domain",
          "y": 718.526895,
          "yanchor": "bottom",
          "yref": "y"
         },
         {
          "showarrow": false,
          "text": "heuristic",
          "x": 0,
          "xanchor": "left",
          "xref": "x domain",
          "y": 1354.971987,
          "yanchor": "bottom",
          "yref": "y"
         },
         {
          "showarrow": false,
          "text": "*",
          "textangle": 90,
          "x": 8000000,
          "xanchor": "left",
          "xref": "x",
          "y": 0,
          "yanchor": "bottom",
          "yref": "y domain"
         },
         {
          "showarrow": false,
          "text": "2nd phase",
          "textangle": 90,
          "x": 10000000,
          "xanchor": "left",
          "xref": "x",
          "y": 0,
          "yanchor": "bottom",
          "yref": "y domain"
         }
        ],
        "font": {
         "family": "Serif",
         "size": 11
        },
        "height": 220,
        "legend": {
         "orientation": "h",
         "title": {
          "text": ""
         },
         "x": 1,
         "xanchor": "right",
         "y": 1.02,
         "yanchor": "bottom"
        },
        "margin": {
         "b": 1,
         "l": 5,
         "r": 5,
         "t": 1
        },
        "shapes": [
         {
          "line": {
           "color": "gray",
           "dash": "dot"
          },
          "type": "line",
          "x0": 0,
          "x1": 1,
          "xref": "x domain",
          "y0": 718.526895,
          "y1": 718.526895,
          "yref": "y"
         },
         {
          "line": {
           "color": "green",
           "dash": "dot"
          },
          "type": "line",
          "x0": 0,
          "x1": 1,
          "xref": "x domain",
          "y0": 1354.971987,
          "y1": 1354.971987,
          "yref": "y"
         },
         {
          "line": {
           "color": "gray",
           "dash": "dash"
          },
          "type": "line",
          "x0": 8000000,
          "x1": 8000000,
          "xref": "x",
          "y0": 0,
          "y1": 1,
          "yref": "y domain"
         },
         {
          "line": {
           "color": "gray",
           "dash": "dash"
          },
          "type": "line",
          "x0": 10000000,
          "x1": 10000000,
          "xref": "x",
          "y0": 0,
          "y1": 1,
          "yref": "y domain"
         }
        ],
        "showlegend": true,
        "template": {
         "data": {
          "bar": [
           {
            "error_x": {
             "color": "#2a3f5f"
            },
            "error_y": {
             "color": "#2a3f5f"
            },
            "marker": {
             "line": {
              "color": "#E5ECF6",
              "width": 0.5
             },
             "pattern": {
              "fillmode": "overlay",
              "size": 10,
              "solidity": 0.2
             }
            },
            "type": "bar"
           }
          ],
          "barpolar": [
           {
            "marker": {
             "line": {
              "color": "#E5ECF6",
              "width": 0.5
             },
             "pattern": {
              "fillmode": "overlay",
              "size": 10,
              "solidity": 0.2
             }
            },
            "type": "barpolar"
           }
          ],
          "carpet": [
           {
            "aaxis": {
             "endlinecolor": "#2a3f5f",
             "gridcolor": "white",
             "linecolor": "white",
             "minorgridcolor": "white",
             "startlinecolor": "#2a3f5f"
            },
            "baxis": {
             "endlinecolor": "#2a3f5f",
             "gridcolor": "white",
             "linecolor": "white",
             "minorgridcolor": "white",
             "startlinecolor": "#2a3f5f"
            },
            "type": "carpet"
           }
          ],
          "choropleth": [
           {
            "colorbar": {
             "outlinewidth": 0,
             "ticks": ""
            },
            "type": "choropleth"
           }
          ],
          "contour": [
           {
            "colorbar": {
             "outlinewidth": 0,
             "ticks": ""
            },
            "colorscale": [
             [
              0,
              "#0d0887"
             ],
             [
              0.1111111111111111,
              "#46039f"
             ],
             [
              0.2222222222222222,
              "#7201a8"
             ],
             [
              0.3333333333333333,
              "#9c179e"
             ],
             [
              0.4444444444444444,
              "#bd3786"
             ],
             [
              0.5555555555555556,
              "#d8576b"
             ],
             [
              0.6666666666666666,
              "#ed7953"
             ],
             [
              0.7777777777777778,
              "#fb9f3a"
             ],
             [
              0.8888888888888888,
              "#fdca26"
             ],
             [
              1,
              "#f0f921"
             ]
            ],
            "type": "contour"
           }
          ],
          "contourcarpet": [
           {
            "colorbar": {
             "outlinewidth": 0,
             "ticks": ""
            },
            "type": "contourcarpet"
           }
          ],
          "heatmap": [
           {
            "colorbar": {
             "outlinewidth": 0,
             "ticks": ""
            },
            "colorscale": [
             [
              0,
              "#0d0887"
             ],
             [
              0.1111111111111111,
              "#46039f"
             ],
             [
              0.2222222222222222,
              "#7201a8"
             ],
             [
              0.3333333333333333,
              "#9c179e"
             ],
             [
              0.4444444444444444,
              "#bd3786"
             ],
             [
              0.5555555555555556,
              "#d8576b"
             ],
             [
              0.6666666666666666,
              "#ed7953"
             ],
             [
              0.7777777777777778,
              "#fb9f3a"
             ],
             [
              0.8888888888888888,
              "#fdca26"
             ],
             [
              1,
              "#f0f921"
             ]
            ],
            "type": "heatmap"
           }
          ],
          "heatmapgl": [
           {
            "colorbar": {
             "outlinewidth": 0,
             "ticks": ""
            },
            "colorscale": [
             [
              0,
              "#0d0887"
             ],
             [
              0.1111111111111111,
              "#46039f"
             ],
             [
              0.2222222222222222,
              "#7201a8"
             ],
             [
              0.3333333333333333,
              "#9c179e"
             ],
             [
              0.4444444444444444,
              "#bd3786"
             ],
             [
              0.5555555555555556,
              "#d8576b"
             ],
             [
              0.6666666666666666,
              "#ed7953"
             ],
             [
              0.7777777777777778,
              "#fb9f3a"
             ],
             [
              0.8888888888888888,
              "#fdca26"
             ],
             [
              1,
              "#f0f921"
             ]
            ],
            "type": "heatmapgl"
           }
          ],
          "histogram": [
           {
            "marker": {
             "pattern": {
              "fillmode": "overlay",
              "size": 10,
              "solidity": 0.2
             }
            },
            "type": "histogram"
           }
          ],
          "histogram2d": [
           {
            "colorbar": {
             "outlinewidth": 0,
             "ticks": ""
            },
            "colorscale": [
             [
              0,
              "#0d0887"
             ],
             [
              0.1111111111111111,
              "#46039f"
             ],
             [
              0.2222222222222222,
              "#7201a8"
             ],
             [
              0.3333333333333333,
              "#9c179e"
             ],
             [
              0.4444444444444444,
              "#bd3786"
             ],
             [
              0.5555555555555556,
              "#d8576b"
             ],
             [
              0.6666666666666666,
              "#ed7953"
             ],
             [
              0.7777777777777778,
              "#fb9f3a"
             ],
             [
              0.8888888888888888,
              "#fdca26"
             ],
             [
              1,
              "#f0f921"
             ]
            ],
            "type": "histogram2d"
           }
          ],
          "histogram2dcontour": [
           {
            "colorbar": {
             "outlinewidth": 0,
             "ticks": ""
            },
            "colorscale": [
             [
              0,
              "#0d0887"
             ],
             [
              0.1111111111111111,
              "#46039f"
             ],
             [
              0.2222222222222222,
              "#7201a8"
             ],
             [
              0.3333333333333333,
              "#9c179e"
             ],
             [
              0.4444444444444444,
              "#bd3786"
             ],
             [
              0.5555555555555556,
              "#d8576b"
             ],
             [
              0.6666666666666666,
              "#ed7953"
             ],
             [
              0.7777777777777778,
              "#fb9f3a"
             ],
             [
              0.8888888888888888,
              "#fdca26"
             ],
             [
              1,
              "#f0f921"
             ]
            ],
            "type": "histogram2dcontour"
           }
          ],
          "mesh3d": [
           {
            "colorbar": {
             "outlinewidth": 0,
             "ticks": ""
            },
            "type": "mesh3d"
           }
          ],
          "parcoords": [
           {
            "line": {
             "colorbar": {
              "outlinewidth": 0,
              "ticks": ""
             }
            },
            "type": "parcoords"
           }
          ],
          "pie": [
           {
            "automargin": true,
            "type": "pie"
           }
          ],
          "scatter": [
           {
            "marker": {
             "colorbar": {
              "outlinewidth": 0,
              "ticks": ""
             }
            },
            "type": "scatter"
           }
          ],
          "scatter3d": [
           {
            "line": {
             "colorbar": {
              "outlinewidth": 0,
              "ticks": ""
             }
            },
            "marker": {
             "colorbar": {
              "outlinewidth": 0,
              "ticks": ""
             }
            },
            "type": "scatter3d"
           }
          ],
          "scattercarpet": [
           {
            "marker": {
             "colorbar": {
              "outlinewidth": 0,
              "ticks": ""
             }
            },
            "type": "scattercarpet"
           }
          ],
          "scattergeo": [
           {
            "marker": {
             "colorbar": {
              "outlinewidth": 0,
              "ticks": ""
             }
            },
            "type": "scattergeo"
           }
          ],
          "scattergl": [
           {
            "marker": {
             "colorbar": {
              "outlinewidth": 0,
              "ticks": ""
             }
            },
            "type": "scattergl"
           }
          ],
          "scattermapbox": [
           {
            "marker": {
             "colorbar": {
              "outlinewidth": 0,
              "ticks": ""
             }
            },
            "type": "scattermapbox"
           }
          ],
          "scatterpolar": [
           {
            "marker": {
             "colorbar": {
              "outlinewidth": 0,
              "ticks": ""
             }
            },
            "type": "scatterpolar"
           }
          ],
          "scatterpolargl": [
           {
            "marker": {
             "colorbar": {
              "outlinewidth": 0,
              "ticks": ""
             }
            },
            "type": "scatterpolargl"
           }
          ],
          "scatterternary": [
           {
            "marker": {
             "colorbar": {
              "outlinewidth": 0,
              "ticks": ""
             }
            },
            "type": "scatterternary"
           }
          ],
          "surface": [
           {
            "colorbar": {
             "outlinewidth": 0,
             "ticks": ""
            },
            "colorscale": [
             [
              0,
              "#0d0887"
             ],
             [
              0.1111111111111111,
              "#46039f"
             ],
             [
              0.2222222222222222,
              "#7201a8"
             ],
             [
              0.3333333333333333,
              "#9c179e"
             ],
             [
              0.4444444444444444,
              "#bd3786"
             ],
             [
              0.5555555555555556,
              "#d8576b"
             ],
             [
              0.6666666666666666,
              "#ed7953"
             ],
             [
              0.7777777777777778,
              "#fb9f3a"
             ],
             [
              0.8888888888888888,
              "#fdca26"
             ],
             [
              1,
              "#f0f921"
             ]
            ],
            "type": "surface"
           }
          ],
          "table": [
           {
            "cells": {
             "fill": {
              "color": "#EBF0F8"
             },
             "line": {
              "color": "white"
             }
            },
            "header": {
             "fill": {
              "color": "#C8D4E3"
             },
             "line": {
              "color": "white"
             }
            },
            "type": "table"
           }
          ]
         },
         "layout": {
          "annotationdefaults": {
           "arrowcolor": "#2a3f5f",
           "arrowhead": 0,
           "arrowwidth": 1
          },
          "autotypenumbers": "strict",
          "coloraxis": {
           "colorbar": {
            "outlinewidth": 0,
            "ticks": ""
           }
          },
          "colorscale": {
           "diverging": [
            [
             0,
             "#8e0152"
            ],
            [
             0.1,
             "#c51b7d"
            ],
            [
             0.2,
             "#de77ae"
            ],
            [
             0.3,
             "#f1b6da"
            ],
            [
             0.4,
             "#fde0ef"
            ],
            [
             0.5,
             "#f7f7f7"
            ],
            [
             0.6,
             "#e6f5d0"
            ],
            [
             0.7,
             "#b8e186"
            ],
            [
             0.8,
             "#7fbc41"
            ],
            [
             0.9,
             "#4d9221"
            ],
            [
             1,
             "#276419"
            ]
           ],
           "sequential": [
            [
             0,
             "#0d0887"
            ],
            [
             0.1111111111111111,
             "#46039f"
            ],
            [
             0.2222222222222222,
             "#7201a8"
            ],
            [
             0.3333333333333333,
             "#9c179e"
            ],
            [
             0.4444444444444444,
             "#bd3786"
            ],
            [
             0.5555555555555556,
             "#d8576b"
            ],
            [
             0.6666666666666666,
             "#ed7953"
            ],
            [
             0.7777777777777778,
             "#fb9f3a"
            ],
            [
             0.8888888888888888,
             "#fdca26"
            ],
            [
             1,
             "#f0f921"
            ]
           ],
           "sequentialminus": [
            [
             0,
             "#0d0887"
            ],
            [
             0.1111111111111111,
             "#46039f"
            ],
            [
             0.2222222222222222,
             "#7201a8"
            ],
            [
             0.3333333333333333,
             "#9c179e"
            ],
            [
             0.4444444444444444,
             "#bd3786"
            ],
            [
             0.5555555555555556,
             "#d8576b"
            ],
            [
             0.6666666666666666,
             "#ed7953"
            ],
            [
             0.7777777777777778,
             "#fb9f3a"
            ],
            [
             0.8888888888888888,
             "#fdca26"
            ],
            [
             1,
             "#f0f921"
            ]
           ]
          },
          "colorway": [
           "#636efa",
           "#EF553B",
           "#00cc96",
           "#ab63fa",
           "#FFA15A",
           "#19d3f3",
           "#FF6692",
           "#B6E880",
           "#FF97FF",
           "#FECB52"
          ],
          "font": {
           "color": "#2a3f5f"
          },
          "geo": {
           "bgcolor": "white",
           "lakecolor": "white",
           "landcolor": "#E5ECF6",
           "showlakes": true,
           "showland": true,
           "subunitcolor": "white"
          },
          "hoverlabel": {
           "align": "left"
          },
          "hovermode": "closest",
          "mapbox": {
           "style": "light"
          },
          "paper_bgcolor": "white",
          "plot_bgcolor": "#E5ECF6",
          "polar": {
           "angularaxis": {
            "gridcolor": "white",
            "linecolor": "white",
            "ticks": ""
           },
           "bgcolor": "#E5ECF6",
           "radialaxis": {
            "gridcolor": "white",
            "linecolor": "white",
            "ticks": ""
           }
          },
          "scene": {
           "xaxis": {
            "backgroundcolor": "#E5ECF6",
            "gridcolor": "white",
            "gridwidth": 2,
            "linecolor": "white",
            "showbackground": true,
            "ticks": "",
            "zerolinecolor": "white"
           },
           "yaxis": {
            "backgroundcolor": "#E5ECF6",
            "gridcolor": "white",
            "gridwidth": 2,
            "linecolor": "white",
            "showbackground": true,
            "ticks": "",
            "zerolinecolor": "white"
           },
           "zaxis": {
            "backgroundcolor": "#E5ECF6",
            "gridcolor": "white",
            "gridwidth": 2,
            "linecolor": "white",
            "showbackground": true,
            "ticks": "",
            "zerolinecolor": "white"
           }
          },
          "shapedefaults": {
           "line": {
            "color": "#2a3f5f"
           }
          },
          "ternary": {
           "aaxis": {
            "gridcolor": "white",
            "linecolor": "white",
            "ticks": ""
           },
           "baxis": {
            "gridcolor": "white",
            "linecolor": "white",
            "ticks": ""
           },
           "bgcolor": "#E5ECF6",
           "caxis": {
            "gridcolor": "white",
            "linecolor": "white",
            "ticks": ""
           }
          },
          "title": {
           "x": 0.05
          },
          "xaxis": {
           "automargin": true,
           "gridcolor": "white",
           "linecolor": "white",
           "ticks": "",
           "title": {
            "standoff": 15
           },
           "zerolinecolor": "white",
           "zerolinewidth": 2
          },
          "yaxis": {
           "automargin": true,
           "gridcolor": "white",
           "linecolor": "white",
           "ticks": "",
           "title": {
            "standoff": 15
           },
           "zerolinecolor": "white",
           "zerolinewidth": 2
          }
         }
        },
        "title": {
         "text": ""
        },
        "width": 500,
        "xaxis": {
         "title": {
          "text": "Number of games"
         }
        },
        "yaxis": {
         "nticks": 12,
         "title": {
          "text": "ELO score"
         }
        }
       }
      }
     },
     "metadata": {},
     "output_type": "display_data"
    },
    {
     "data": {
      "application/vnd.plotly.v1+json": {
       "config": {
        "plotlyServerURL": "https://plot.ly"
       },
       "data": [
        {
         "name": "RNN h=128 m=128 P1",
         "type": "scatter",
         "x": [
          0,
          1600000,
          3200000,
          4800000,
          6400000,
          8000000,
          9600000,
          10000000
         ],
         "y": [
          718.526895,
          712.7608473859415,
          680.0194620610125,
          657.2085391456912,
          703.670493835421,
          765.7584753776628,
          758.2151701865394,
          771.8307923222083
         ]
        },
        {
         "name": "RNN h=128 m=64 P1",
         "type": "scatter",
         "x": [
          0,
          1600000,
          3200000,
          4800000,
          6400000,
          8000000,
          9600000,
          10000000
         ],
         "y": [
          718.526895,
          680.737642156671,
          629.9266490327791,
          789.6622533796234,
          773.9795741368696,
          735.1840963073361,
          830.7108623997847,
          822.9835939363151
         ]
        },
        {
         "name": "RNN h=32 m=128 P1",
         "type": "scatter",
         "x": [
          0,
          1600000,
          3200000,
          4800000,
          6400000,
          8000000,
          9600000,
          10000000
         ],
         "y": [
          718.526895,
          585.1878340207438,
          723.7378006175824,
          740.127147972286,
          677.3645710646975,
          772.5292380429686,
          810.6107430524394,
          803.5470229783768
         ]
        },
        {
         "name": "RNN h=32 m=64 P1",
         "type": "scatter",
         "x": [
          0,
          1600000,
          3200000,
          4800000,
          6400000,
          8000000,
          9600000,
          10000000
         ],
         "y": [
          718.526895,
          470.1512359652255,
          656.6225591379655,
          726.2527524283987,
          679.3959860363865,
          764.7338078132552,
          745.6097536912824,
          751.47797591727
         ]
        },
        {
         "name": "RNN h=64 m=128 P1",
         "type": "scatter",
         "x": [
          0,
          1600000,
          3200000,
          4800000,
          6400000,
          8000000,
          9600000,
          10000000
         ],
         "y": [
          718.526895,
          582.0030254672045,
          648.0803309389589,
          702.4100955777541,
          812.1533211729987,
          818.8407239234123,
          832.2891573099836,
          849.2772124381186
         ]
        },
        {
         "name": "RNN h=64 m=64 P1",
         "type": "scatter",
         "x": [
          0,
          1600000,
          3200000,
          4800000,
          6400000,
          8000000,
          9600000,
          10000000
         ],
         "y": [
          718.526895,
          504.9907467786345,
          703.5993449864683,
          732.7863945213052,
          766.1129729486677,
          822.0250037322512,
          796.4000965548211,
          801.7339768274898
         ]
        }
       ],
       "layout": {
        "annotations": [
         {
          "showarrow": false,
          "text": "random",
          "x": 1,
          "xanchor": "right",
          "xref": "x domain",
          "y": 718.526895,
          "yanchor": "bottom",
          "yref": "y"
         },
         {
          "showarrow": false,
          "text": "heuristic",
          "x": 0,
          "xanchor": "left",
          "xref": "x domain",
          "y": 1354.971987,
          "yanchor": "bottom",
          "yref": "y"
         }
        ],
        "shapes": [
         {
          "line": {
           "color": "gray",
           "dash": "dot"
          },
          "type": "line",
          "x0": 0,
          "x1": 1,
          "xref": "x domain",
          "y0": 718.526895,
          "y1": 718.526895,
          "yref": "y"
         },
         {
          "line": {
           "color": "green",
           "dash": "dot"
          },
          "type": "line",
          "x0": 0,
          "x1": 1,
          "xref": "x domain",
          "y0": 1354.971987,
          "y1": 1354.971987,
          "yref": "y"
         }
        ],
        "template": {
         "data": {
          "bar": [
           {
            "error_x": {
             "color": "#2a3f5f"
            },
            "error_y": {
             "color": "#2a3f5f"
            },
            "marker": {
             "line": {
              "color": "#E5ECF6",
              "width": 0.5
             },
             "pattern": {
              "fillmode": "overlay",
              "size": 10,
              "solidity": 0.2
             }
            },
            "type": "bar"
           }
          ],
          "barpolar": [
           {
            "marker": {
             "line": {
              "color": "#E5ECF6",
              "width": 0.5
             },
             "pattern": {
              "fillmode": "overlay",
              "size": 10,
              "solidity": 0.2
             }
            },
            "type": "barpolar"
           }
          ],
          "carpet": [
           {
            "aaxis": {
             "endlinecolor": "#2a3f5f",
             "gridcolor": "white",
             "linecolor": "white",
             "minorgridcolor": "white",
             "startlinecolor": "#2a3f5f"
            },
            "baxis": {
             "endlinecolor": "#2a3f5f",
             "gridcolor": "white",
             "linecolor": "white",
             "minorgridcolor": "white",
             "startlinecolor": "#2a3f5f"
            },
            "type": "carpet"
           }
          ],
          "choropleth": [
           {
            "colorbar": {
             "outlinewidth": 0,
             "ticks": ""
            },
            "type": "choropleth"
           }
          ],
          "contour": [
           {
            "colorbar": {
             "outlinewidth": 0,
             "ticks": ""
            },
            "colorscale": [
             [
              0,
              "#0d0887"
             ],
             [
              0.1111111111111111,
              "#46039f"
             ],
             [
              0.2222222222222222,
              "#7201a8"
             ],
             [
              0.3333333333333333,
              "#9c179e"
             ],
             [
              0.4444444444444444,
              "#bd3786"
             ],
             [
              0.5555555555555556,
              "#d8576b"
             ],
             [
              0.6666666666666666,
              "#ed7953"
             ],
             [
              0.7777777777777778,
              "#fb9f3a"
             ],
             [
              0.8888888888888888,
              "#fdca26"
             ],
             [
              1,
              "#f0f921"
             ]
            ],
            "type": "contour"
           }
          ],
          "contourcarpet": [
           {
            "colorbar": {
             "outlinewidth": 0,
             "ticks": ""
            },
            "type": "contourcarpet"
           }
          ],
          "heatmap": [
           {
            "colorbar": {
             "outlinewidth": 0,
             "ticks": ""
            },
            "colorscale": [
             [
              0,
              "#0d0887"
             ],
             [
              0.1111111111111111,
              "#46039f"
             ],
             [
              0.2222222222222222,
              "#7201a8"
             ],
             [
              0.3333333333333333,
              "#9c179e"
             ],
             [
              0.4444444444444444,
              "#bd3786"
             ],
             [
              0.5555555555555556,
              "#d8576b"
             ],
             [
              0.6666666666666666,
              "#ed7953"
             ],
             [
              0.7777777777777778,
              "#fb9f3a"
             ],
             [
              0.8888888888888888,
              "#fdca26"
             ],
             [
              1,
              "#f0f921"
             ]
            ],
            "type": "heatmap"
           }
          ],
          "heatmapgl": [
           {
            "colorbar": {
             "outlinewidth": 0,
             "ticks": ""
            },
            "colorscale": [
             [
              0,
              "#0d0887"
             ],
             [
              0.1111111111111111,
              "#46039f"
             ],
             [
              0.2222222222222222,
              "#7201a8"
             ],
             [
              0.3333333333333333,
              "#9c179e"
             ],
             [
              0.4444444444444444,
              "#bd3786"
             ],
             [
              0.5555555555555556,
              "#d8576b"
             ],
             [
              0.6666666666666666,
              "#ed7953"
             ],
             [
              0.7777777777777778,
              "#fb9f3a"
             ],
             [
              0.8888888888888888,
              "#fdca26"
             ],
             [
              1,
              "#f0f921"
             ]
            ],
            "type": "heatmapgl"
           }
          ],
          "histogram": [
           {
            "marker": {
             "pattern": {
              "fillmode": "overlay",
              "size": 10,
              "solidity": 0.2
             }
            },
            "type": "histogram"
           }
          ],
          "histogram2d": [
           {
            "colorbar": {
             "outlinewidth": 0,
             "ticks": ""
            },
            "colorscale": [
             [
              0,
              "#0d0887"
             ],
             [
              0.1111111111111111,
              "#46039f"
             ],
             [
              0.2222222222222222,
              "#7201a8"
             ],
             [
              0.3333333333333333,
              "#9c179e"
             ],
             [
              0.4444444444444444,
              "#bd3786"
             ],
             [
              0.5555555555555556,
              "#d8576b"
             ],
             [
              0.6666666666666666,
              "#ed7953"
             ],
             [
              0.7777777777777778,
              "#fb9f3a"
             ],
             [
              0.8888888888888888,
              "#fdca26"
             ],
             [
              1,
              "#f0f921"
             ]
            ],
            "type": "histogram2d"
           }
          ],
          "histogram2dcontour": [
           {
            "colorbar": {
             "outlinewidth": 0,
             "ticks": ""
            },
            "colorscale": [
             [
              0,
              "#0d0887"
             ],
             [
              0.1111111111111111,
              "#46039f"
             ],
             [
              0.2222222222222222,
              "#7201a8"
             ],
             [
              0.3333333333333333,
              "#9c179e"
             ],
             [
              0.4444444444444444,
              "#bd3786"
             ],
             [
              0.5555555555555556,
              "#d8576b"
             ],
             [
              0.6666666666666666,
              "#ed7953"
             ],
             [
              0.7777777777777778,
              "#fb9f3a"
             ],
             [
              0.8888888888888888,
              "#fdca26"
             ],
             [
              1,
              "#f0f921"
             ]
            ],
            "type": "histogram2dcontour"
           }
          ],
          "mesh3d": [
           {
            "colorbar": {
             "outlinewidth": 0,
             "ticks": ""
            },
            "type": "mesh3d"
           }
          ],
          "parcoords": [
           {
            "line": {
             "colorbar": {
              "outlinewidth": 0,
              "ticks": ""
             }
            },
            "type": "parcoords"
           }
          ],
          "pie": [
           {
            "automargin": true,
            "type": "pie"
           }
          ],
          "scatter": [
           {
            "marker": {
             "colorbar": {
              "outlinewidth": 0,
              "ticks": ""
             }
            },
            "type": "scatter"
           }
          ],
          "scatter3d": [
           {
            "line": {
             "colorbar": {
              "outlinewidth": 0,
              "ticks": ""
             }
            },
            "marker": {
             "colorbar": {
              "outlinewidth": 0,
              "ticks": ""
             }
            },
            "type": "scatter3d"
           }
          ],
          "scattercarpet": [
           {
            "marker": {
             "colorbar": {
              "outlinewidth": 0,
              "ticks": ""
             }
            },
            "type": "scattercarpet"
           }
          ],
          "scattergeo": [
           {
            "marker": {
             "colorbar": {
              "outlinewidth": 0,
              "ticks": ""
             }
            },
            "type": "scattergeo"
           }
          ],
          "scattergl": [
           {
            "marker": {
             "colorbar": {
              "outlinewidth": 0,
              "ticks": ""
             }
            },
            "type": "scattergl"
           }
          ],
          "scattermapbox": [
           {
            "marker": {
             "colorbar": {
              "outlinewidth": 0,
              "ticks": ""
             }
            },
            "type": "scattermapbox"
           }
          ],
          "scatterpolar": [
           {
            "marker": {
             "colorbar": {
              "outlinewidth": 0,
              "ticks": ""
             }
            },
            "type": "scatterpolar"
           }
          ],
          "scatterpolargl": [
           {
            "marker": {
             "colorbar": {
              "outlinewidth": 0,
              "ticks": ""
             }
            },
            "type": "scatterpolargl"
           }
          ],
          "scatterternary": [
           {
            "marker": {
             "colorbar": {
              "outlinewidth": 0,
              "ticks": ""
             }
            },
            "type": "scatterternary"
           }
          ],
          "surface": [
           {
            "colorbar": {
             "outlinewidth": 0,
             "ticks": ""
            },
            "colorscale": [
             [
              0,
              "#0d0887"
             ],
             [
              0.1111111111111111,
              "#46039f"
             ],
             [
              0.2222222222222222,
              "#7201a8"
             ],
             [
              0.3333333333333333,
              "#9c179e"
             ],
             [
              0.4444444444444444,
              "#bd3786"
             ],
             [
              0.5555555555555556,
              "#d8576b"
             ],
             [
              0.6666666666666666,
              "#ed7953"
             ],
             [
              0.7777777777777778,
              "#fb9f3a"
             ],
             [
              0.8888888888888888,
              "#fdca26"
             ],
             [
              1,
              "#f0f921"
             ]
            ],
            "type": "surface"
           }
          ],
          "table": [
           {
            "cells": {
             "fill": {
              "color": "#EBF0F8"
             },
             "line": {
              "color": "white"
             }
            },
            "header": {
             "fill": {
              "color": "#C8D4E3"
             },
             "line": {
              "color": "white"
             }
            },
            "type": "table"
           }
          ]
         },
         "layout": {
          "annotationdefaults": {
           "arrowcolor": "#2a3f5f",
           "arrowhead": 0,
           "arrowwidth": 1
          },
          "autotypenumbers": "strict",
          "coloraxis": {
           "colorbar": {
            "outlinewidth": 0,
            "ticks": ""
           }
          },
          "colorscale": {
           "diverging": [
            [
             0,
             "#8e0152"
            ],
            [
             0.1,
             "#c51b7d"
            ],
            [
             0.2,
             "#de77ae"
            ],
            [
             0.3,
             "#f1b6da"
            ],
            [
             0.4,
             "#fde0ef"
            ],
            [
             0.5,
             "#f7f7f7"
            ],
            [
             0.6,
             "#e6f5d0"
            ],
            [
             0.7,
             "#b8e186"
            ],
            [
             0.8,
             "#7fbc41"
            ],
            [
             0.9,
             "#4d9221"
            ],
            [
             1,
             "#276419"
            ]
           ],
           "sequential": [
            [
             0,
             "#0d0887"
            ],
            [
             0.1111111111111111,
             "#46039f"
            ],
            [
             0.2222222222222222,
             "#7201a8"
            ],
            [
             0.3333333333333333,
             "#9c179e"
            ],
            [
             0.4444444444444444,
             "#bd3786"
            ],
            [
             0.5555555555555556,
             "#d8576b"
            ],
            [
             0.6666666666666666,
             "#ed7953"
            ],
            [
             0.7777777777777778,
             "#fb9f3a"
            ],
            [
             0.8888888888888888,
             "#fdca26"
            ],
            [
             1,
             "#f0f921"
            ]
           ],
           "sequentialminus": [
            [
             0,
             "#0d0887"
            ],
            [
             0.1111111111111111,
             "#46039f"
            ],
            [
             0.2222222222222222,
             "#7201a8"
            ],
            [
             0.3333333333333333,
             "#9c179e"
            ],
            [
             0.4444444444444444,
             "#bd3786"
            ],
            [
             0.5555555555555556,
             "#d8576b"
            ],
            [
             0.6666666666666666,
             "#ed7953"
            ],
            [
             0.7777777777777778,
             "#fb9f3a"
            ],
            [
             0.8888888888888888,
             "#fdca26"
            ],
            [
             1,
             "#f0f921"
            ]
           ]
          },
          "colorway": [
           "#636efa",
           "#EF553B",
           "#00cc96",
           "#ab63fa",
           "#FFA15A",
           "#19d3f3",
           "#FF6692",
           "#B6E880",
           "#FF97FF",
           "#FECB52"
          ],
          "font": {
           "color": "#2a3f5f"
          },
          "geo": {
           "bgcolor": "white",
           "lakecolor": "white",
           "landcolor": "#E5ECF6",
           "showlakes": true,
           "showland": true,
           "subunitcolor": "white"
          },
          "hoverlabel": {
           "align": "left"
          },
          "hovermode": "closest",
          "mapbox": {
           "style": "light"
          },
          "paper_bgcolor": "white",
          "plot_bgcolor": "#E5ECF6",
          "polar": {
           "angularaxis": {
            "gridcolor": "white",
            "linecolor": "white",
            "ticks": ""
           },
           "bgcolor": "#E5ECF6",
           "radialaxis": {
            "gridcolor": "white",
            "linecolor": "white",
            "ticks": ""
           }
          },
          "scene": {
           "xaxis": {
            "backgroundcolor": "#E5ECF6",
            "gridcolor": "white",
            "gridwidth": 2,
            "linecolor": "white",
            "showbackground": true,
            "ticks": "",
            "zerolinecolor": "white"
           },
           "yaxis": {
            "backgroundcolor": "#E5ECF6",
            "gridcolor": "white",
            "gridwidth": 2,
            "linecolor": "white",
            "showbackground": true,
            "ticks": "",
            "zerolinecolor": "white"
           },
           "zaxis": {
            "backgroundcolor": "#E5ECF6",
            "gridcolor": "white",
            "gridwidth": 2,
            "linecolor": "white",
            "showbackground": true,
            "ticks": "",
            "zerolinecolor": "white"
           }
          },
          "shapedefaults": {
           "line": {
            "color": "#2a3f5f"
           }
          },
          "ternary": {
           "aaxis": {
            "gridcolor": "white",
            "linecolor": "white",
            "ticks": ""
           },
           "baxis": {
            "gridcolor": "white",
            "linecolor": "white",
            "ticks": ""
           },
           "bgcolor": "#E5ECF6",
           "caxis": {
            "gridcolor": "white",
            "linecolor": "white",
            "ticks": ""
           }
          },
          "title": {
           "x": 0.05
          },
          "xaxis": {
           "automargin": true,
           "gridcolor": "white",
           "linecolor": "white",
           "ticks": "",
           "title": {
            "standoff": 15
           },
           "zerolinecolor": "white",
           "zerolinewidth": 2
          },
          "yaxis": {
           "automargin": true,
           "gridcolor": "white",
           "linecolor": "white",
           "ticks": "",
           "title": {
            "standoff": 15
           },
           "zerolinecolor": "white",
           "zerolinewidth": 2
          }
         }
        },
        "title": {
         "text": "ELO score over time MLP P1"
        },
        "xaxis": {
         "title": {
          "text": "Number of games"
         }
        },
        "yaxis": {
         "title": {
          "text": "ELO score"
         }
        }
       }
      }
     },
     "metadata": {},
     "output_type": "display_data"
    },
    {
     "data": {
      "application/vnd.plotly.v1+json": {
       "config": {
        "plotlyServerURL": "https://plot.ly"
       },
       "data": [
        {
         "name": "RNN h=128 m=128 P1",
         "type": "scatter",
         "x": [
          0,
          1600000,
          3200000,
          4800000,
          6400000,
          8000000,
          9600000,
          10000000
         ],
         "y": [
          718.526895,
          712.7608473859415,
          680.0194620610125,
          657.2085391456912,
          703.670493835421,
          765.7584753776628,
          758.2151701865394,
          771.8307923222083
         ]
        },
        {
         "name": "RNN h=128 m=64 P1",
         "type": "scatter",
         "x": [
          0,
          1600000,
          3200000,
          4800000,
          6400000,
          8000000,
          9600000,
          10000000
         ],
         "y": [
          718.526895,
          680.737642156671,
          629.9266490327791,
          789.6622533796234,
          773.9795741368696,
          735.1840963073361,
          830.7108623997847,
          822.9835939363151
         ]
        },
        {
         "name": "RNN h=32 m=128 P1",
         "type": "scatter",
         "x": [
          0,
          1600000,
          3200000,
          4800000,
          6400000,
          8000000,
          9600000,
          10000000
         ],
         "y": [
          718.526895,
          585.1878340207438,
          723.7378006175824,
          740.127147972286,
          677.3645710646975,
          772.5292380429686,
          810.6107430524394,
          803.5470229783768
         ]
        },
        {
         "name": "RNN h=32 m=64 P1",
         "type": "scatter",
         "x": [
          0,
          1600000,
          3200000,
          4800000,
          6400000,
          8000000,
          9600000,
          10000000
         ],
         "y": [
          718.526895,
          470.1512359652255,
          656.6225591379655,
          726.2527524283987,
          679.3959860363865,
          764.7338078132552,
          745.6097536912824,
          751.47797591727
         ]
        },
        {
         "name": "RNN h=64 m=128 P1",
         "type": "scatter",
         "x": [
          0,
          1600000,
          3200000,
          4800000,
          6400000,
          8000000,
          9600000,
          10000000
         ],
         "y": [
          718.526895,
          582.0030254672045,
          648.0803309389589,
          702.4100955777541,
          812.1533211729987,
          818.8407239234123,
          832.2891573099836,
          849.2772124381186
         ]
        },
        {
         "name": "RNN h=64 m=64 P1",
         "type": "scatter",
         "x": [
          0,
          1600000,
          3200000,
          4800000,
          6400000,
          8000000,
          9600000,
          10000000
         ],
         "y": [
          718.526895,
          504.9907467786345,
          703.5993449864683,
          732.7863945213052,
          766.1129729486677,
          822.0250037322512,
          796.4000965548211,
          801.7339768274898
         ]
        }
       ],
       "layout": {
        "annotations": [
         {
          "showarrow": false,
          "text": "random",
          "x": 1,
          "xanchor": "right",
          "xref": "x domain",
          "y": 718.526895,
          "yanchor": "bottom",
          "yref": "y"
         },
         {
          "showarrow": false,
          "text": "heuristic",
          "x": 0,
          "xanchor": "left",
          "xref": "x domain",
          "y": 1354.971987,
          "yanchor": "bottom",
          "yref": "y"
         }
        ],
        "font": {
         "family": "Serif",
         "size": 11
        },
        "height": 220,
        "legend": {
         "orientation": "h",
         "title": {
          "text": ""
         },
         "x": 1,
         "xanchor": "right",
         "y": 1.02,
         "yanchor": "bottom"
        },
        "margin": {
         "b": 1,
         "l": 5,
         "r": 5,
         "t": 1
        },
        "shapes": [
         {
          "line": {
           "color": "gray",
           "dash": "dot"
          },
          "type": "line",
          "x0": 0,
          "x1": 1,
          "xref": "x domain",
          "y0": 718.526895,
          "y1": 718.526895,
          "yref": "y"
         },
         {
          "line": {
           "color": "green",
           "dash": "dot"
          },
          "type": "line",
          "x0": 0,
          "x1": 1,
          "xref": "x domain",
          "y0": 1354.971987,
          "y1": 1354.971987,
          "yref": "y"
         }
        ],
        "showlegend": true,
        "template": {
         "data": {
          "bar": [
           {
            "error_x": {
             "color": "#2a3f5f"
            },
            "error_y": {
             "color": "#2a3f5f"
            },
            "marker": {
             "line": {
              "color": "#E5ECF6",
              "width": 0.5
             },
             "pattern": {
              "fillmode": "overlay",
              "size": 10,
              "solidity": 0.2
             }
            },
            "type": "bar"
           }
          ],
          "barpolar": [
           {
            "marker": {
             "line": {
              "color": "#E5ECF6",
              "width": 0.5
             },
             "pattern": {
              "fillmode": "overlay",
              "size": 10,
              "solidity": 0.2
             }
            },
            "type": "barpolar"
           }
          ],
          "carpet": [
           {
            "aaxis": {
             "endlinecolor": "#2a3f5f",
             "gridcolor": "white",
             "linecolor": "white",
             "minorgridcolor": "white",
             "startlinecolor": "#2a3f5f"
            },
            "baxis": {
             "endlinecolor": "#2a3f5f",
             "gridcolor": "white",
             "linecolor": "white",
             "minorgridcolor": "white",
             "startlinecolor": "#2a3f5f"
            },
            "type": "carpet"
           }
          ],
          "choropleth": [
           {
            "colorbar": {
             "outlinewidth": 0,
             "ticks": ""
            },
            "type": "choropleth"
           }
          ],
          "contour": [
           {
            "colorbar": {
             "outlinewidth": 0,
             "ticks": ""
            },
            "colorscale": [
             [
              0,
              "#0d0887"
             ],
             [
              0.1111111111111111,
              "#46039f"
             ],
             [
              0.2222222222222222,
              "#7201a8"
             ],
             [
              0.3333333333333333,
              "#9c179e"
             ],
             [
              0.4444444444444444,
              "#bd3786"
             ],
             [
              0.5555555555555556,
              "#d8576b"
             ],
             [
              0.6666666666666666,
              "#ed7953"
             ],
             [
              0.7777777777777778,
              "#fb9f3a"
             ],
             [
              0.8888888888888888,
              "#fdca26"
             ],
             [
              1,
              "#f0f921"
             ]
            ],
            "type": "contour"
           }
          ],
          "contourcarpet": [
           {
            "colorbar": {
             "outlinewidth": 0,
             "ticks": ""
            },
            "type": "contourcarpet"
           }
          ],
          "heatmap": [
           {
            "colorbar": {
             "outlinewidth": 0,
             "ticks": ""
            },
            "colorscale": [
             [
              0,
              "#0d0887"
             ],
             [
              0.1111111111111111,
              "#46039f"
             ],
             [
              0.2222222222222222,
              "#7201a8"
             ],
             [
              0.3333333333333333,
              "#9c179e"
             ],
             [
              0.4444444444444444,
              "#bd3786"
             ],
             [
              0.5555555555555556,
              "#d8576b"
             ],
             [
              0.6666666666666666,
              "#ed7953"
             ],
             [
              0.7777777777777778,
              "#fb9f3a"
             ],
             [
              0.8888888888888888,
              "#fdca26"
             ],
             [
              1,
              "#f0f921"
             ]
            ],
            "type": "heatmap"
           }
          ],
          "heatmapgl": [
           {
            "colorbar": {
             "outlinewidth": 0,
             "ticks": ""
            },
            "colorscale": [
             [
              0,
              "#0d0887"
             ],
             [
              0.1111111111111111,
              "#46039f"
             ],
             [
              0.2222222222222222,
              "#7201a8"
             ],
             [
              0.3333333333333333,
              "#9c179e"
             ],
             [
              0.4444444444444444,
              "#bd3786"
             ],
             [
              0.5555555555555556,
              "#d8576b"
             ],
             [
              0.6666666666666666,
              "#ed7953"
             ],
             [
              0.7777777777777778,
              "#fb9f3a"
             ],
             [
              0.8888888888888888,
              "#fdca26"
             ],
             [
              1,
              "#f0f921"
             ]
            ],
            "type": "heatmapgl"
           }
          ],
          "histogram": [
           {
            "marker": {
             "pattern": {
              "fillmode": "overlay",
              "size": 10,
              "solidity": 0.2
             }
            },
            "type": "histogram"
           }
          ],
          "histogram2d": [
           {
            "colorbar": {
             "outlinewidth": 0,
             "ticks": ""
            },
            "colorscale": [
             [
              0,
              "#0d0887"
             ],
             [
              0.1111111111111111,
              "#46039f"
             ],
             [
              0.2222222222222222,
              "#7201a8"
             ],
             [
              0.3333333333333333,
              "#9c179e"
             ],
             [
              0.4444444444444444,
              "#bd3786"
             ],
             [
              0.5555555555555556,
              "#d8576b"
             ],
             [
              0.6666666666666666,
              "#ed7953"
             ],
             [
              0.7777777777777778,
              "#fb9f3a"
             ],
             [
              0.8888888888888888,
              "#fdca26"
             ],
             [
              1,
              "#f0f921"
             ]
            ],
            "type": "histogram2d"
           }
          ],
          "histogram2dcontour": [
           {
            "colorbar": {
             "outlinewidth": 0,
             "ticks": ""
            },
            "colorscale": [
             [
              0,
              "#0d0887"
             ],
             [
              0.1111111111111111,
              "#46039f"
             ],
             [
              0.2222222222222222,
              "#7201a8"
             ],
             [
              0.3333333333333333,
              "#9c179e"
             ],
             [
              0.4444444444444444,
              "#bd3786"
             ],
             [
              0.5555555555555556,
              "#d8576b"
             ],
             [
              0.6666666666666666,
              "#ed7953"
             ],
             [
              0.7777777777777778,
              "#fb9f3a"
             ],
             [
              0.8888888888888888,
              "#fdca26"
             ],
             [
              1,
              "#f0f921"
             ]
            ],
            "type": "histogram2dcontour"
           }
          ],
          "mesh3d": [
           {
            "colorbar": {
             "outlinewidth": 0,
             "ticks": ""
            },
            "type": "mesh3d"
           }
          ],
          "parcoords": [
           {
            "line": {
             "colorbar": {
              "outlinewidth": 0,
              "ticks": ""
             }
            },
            "type": "parcoords"
           }
          ],
          "pie": [
           {
            "automargin": true,
            "type": "pie"
           }
          ],
          "scatter": [
           {
            "marker": {
             "colorbar": {
              "outlinewidth": 0,
              "ticks": ""
             }
            },
            "type": "scatter"
           }
          ],
          "scatter3d": [
           {
            "line": {
             "colorbar": {
              "outlinewidth": 0,
              "ticks": ""
             }
            },
            "marker": {
             "colorbar": {
              "outlinewidth": 0,
              "ticks": ""
             }
            },
            "type": "scatter3d"
           }
          ],
          "scattercarpet": [
           {
            "marker": {
             "colorbar": {
              "outlinewidth": 0,
              "ticks": ""
             }
            },
            "type": "scattercarpet"
           }
          ],
          "scattergeo": [
           {
            "marker": {
             "colorbar": {
              "outlinewidth": 0,
              "ticks": ""
             }
            },
            "type": "scattergeo"
           }
          ],
          "scattergl": [
           {
            "marker": {
             "colorbar": {
              "outlinewidth": 0,
              "ticks": ""
             }
            },
            "type": "scattergl"
           }
          ],
          "scattermapbox": [
           {
            "marker": {
             "colorbar": {
              "outlinewidth": 0,
              "ticks": ""
             }
            },
            "type": "scattermapbox"
           }
          ],
          "scatterpolar": [
           {
            "marker": {
             "colorbar": {
              "outlinewidth": 0,
              "ticks": ""
             }
            },
            "type": "scatterpolar"
           }
          ],
          "scatterpolargl": [
           {
            "marker": {
             "colorbar": {
              "outlinewidth": 0,
              "ticks": ""
             }
            },
            "type": "scatterpolargl"
           }
          ],
          "scatterternary": [
           {
            "marker": {
             "colorbar": {
              "outlinewidth": 0,
              "ticks": ""
             }
            },
            "type": "scatterternary"
           }
          ],
          "surface": [
           {
            "colorbar": {
             "outlinewidth": 0,
             "ticks": ""
            },
            "colorscale": [
             [
              0,
              "#0d0887"
             ],
             [
              0.1111111111111111,
              "#46039f"
             ],
             [
              0.2222222222222222,
              "#7201a8"
             ],
             [
              0.3333333333333333,
              "#9c179e"
             ],
             [
              0.4444444444444444,
              "#bd3786"
             ],
             [
              0.5555555555555556,
              "#d8576b"
             ],
             [
              0.6666666666666666,
              "#ed7953"
             ],
             [
              0.7777777777777778,
              "#fb9f3a"
             ],
             [
              0.8888888888888888,
              "#fdca26"
             ],
             [
              1,
              "#f0f921"
             ]
            ],
            "type": "surface"
           }
          ],
          "table": [
           {
            "cells": {
             "fill": {
              "color": "#EBF0F8"
             },
             "line": {
              "color": "white"
             }
            },
            "header": {
             "fill": {
              "color": "#C8D4E3"
             },
             "line": {
              "color": "white"
             }
            },
            "type": "table"
           }
          ]
         },
         "layout": {
          "annotationdefaults": {
           "arrowcolor": "#2a3f5f",
           "arrowhead": 0,
           "arrowwidth": 1
          },
          "autotypenumbers": "strict",
          "coloraxis": {
           "colorbar": {
            "outlinewidth": 0,
            "ticks": ""
           }
          },
          "colorscale": {
           "diverging": [
            [
             0,
             "#8e0152"
            ],
            [
             0.1,
             "#c51b7d"
            ],
            [
             0.2,
             "#de77ae"
            ],
            [
             0.3,
             "#f1b6da"
            ],
            [
             0.4,
             "#fde0ef"
            ],
            [
             0.5,
             "#f7f7f7"
            ],
            [
             0.6,
             "#e6f5d0"
            ],
            [
             0.7,
             "#b8e186"
            ],
            [
             0.8,
             "#7fbc41"
            ],
            [
             0.9,
             "#4d9221"
            ],
            [
             1,
             "#276419"
            ]
           ],
           "sequential": [
            [
             0,
             "#0d0887"
            ],
            [
             0.1111111111111111,
             "#46039f"
            ],
            [
             0.2222222222222222,
             "#7201a8"
            ],
            [
             0.3333333333333333,
             "#9c179e"
            ],
            [
             0.4444444444444444,
             "#bd3786"
            ],
            [
             0.5555555555555556,
             "#d8576b"
            ],
            [
             0.6666666666666666,
             "#ed7953"
            ],
            [
             0.7777777777777778,
             "#fb9f3a"
            ],
            [
             0.8888888888888888,
             "#fdca26"
            ],
            [
             1,
             "#f0f921"
            ]
           ],
           "sequentialminus": [
            [
             0,
             "#0d0887"
            ],
            [
             0.1111111111111111,
             "#46039f"
            ],
            [
             0.2222222222222222,
             "#7201a8"
            ],
            [
             0.3333333333333333,
             "#9c179e"
            ],
            [
             0.4444444444444444,
             "#bd3786"
            ],
            [
             0.5555555555555556,
             "#d8576b"
            ],
            [
             0.6666666666666666,
             "#ed7953"
            ],
            [
             0.7777777777777778,
             "#fb9f3a"
            ],
            [
             0.8888888888888888,
             "#fdca26"
            ],
            [
             1,
             "#f0f921"
            ]
           ]
          },
          "colorway": [
           "#636efa",
           "#EF553B",
           "#00cc96",
           "#ab63fa",
           "#FFA15A",
           "#19d3f3",
           "#FF6692",
           "#B6E880",
           "#FF97FF",
           "#FECB52"
          ],
          "font": {
           "color": "#2a3f5f"
          },
          "geo": {
           "bgcolor": "white",
           "lakecolor": "white",
           "landcolor": "#E5ECF6",
           "showlakes": true,
           "showland": true,
           "subunitcolor": "white"
          },
          "hoverlabel": {
           "align": "left"
          },
          "hovermode": "closest",
          "mapbox": {
           "style": "light"
          },
          "paper_bgcolor": "white",
          "plot_bgcolor": "#E5ECF6",
          "polar": {
           "angularaxis": {
            "gridcolor": "white",
            "linecolor": "white",
            "ticks": ""
           },
           "bgcolor": "#E5ECF6",
           "radialaxis": {
            "gridcolor": "white",
            "linecolor": "white",
            "ticks": ""
           }
          },
          "scene": {
           "xaxis": {
            "backgroundcolor": "#E5ECF6",
            "gridcolor": "white",
            "gridwidth": 2,
            "linecolor": "white",
            "showbackground": true,
            "ticks": "",
            "zerolinecolor": "white"
           },
           "yaxis": {
            "backgroundcolor": "#E5ECF6",
            "gridcolor": "white",
            "gridwidth": 2,
            "linecolor": "white",
            "showbackground": true,
            "ticks": "",
            "zerolinecolor": "white"
           },
           "zaxis": {
            "backgroundcolor": "#E5ECF6",
            "gridcolor": "white",
            "gridwidth": 2,
            "linecolor": "white",
            "showbackground": true,
            "ticks": "",
            "zerolinecolor": "white"
           }
          },
          "shapedefaults": {
           "line": {
            "color": "#2a3f5f"
           }
          },
          "ternary": {
           "aaxis": {
            "gridcolor": "white",
            "linecolor": "white",
            "ticks": ""
           },
           "baxis": {
            "gridcolor": "white",
            "linecolor": "white",
            "ticks": ""
           },
           "bgcolor": "#E5ECF6",
           "caxis": {
            "gridcolor": "white",
            "linecolor": "white",
            "ticks": ""
           }
          },
          "title": {
           "x": 0.05
          },
          "xaxis": {
           "automargin": true,
           "gridcolor": "white",
           "linecolor": "white",
           "ticks": "",
           "title": {
            "standoff": 15
           },
           "zerolinecolor": "white",
           "zerolinewidth": 2
          },
          "yaxis": {
           "automargin": true,
           "gridcolor": "white",
           "linecolor": "white",
           "ticks": "",
           "title": {
            "standoff": 15
           },
           "zerolinecolor": "white",
           "zerolinewidth": 2
          }
         }
        },
        "title": {
         "text": ""
        },
        "width": 500,
        "xaxis": {
         "title": {
          "text": "Number of games"
         }
        },
        "yaxis": {
         "nticks": 12,
         "title": {
          "text": "ELO score"
         }
        }
       }
      }
     },
     "metadata": {},
     "output_type": "display_data"
    }
   ],
   "source": [
    "fig_nn_p2 = go.Figure()\n",
    "fig_rnn_p2 = go.Figure()\n",
    "fig_rnn_p1 = go.Figure()\n",
    "for name, group in plots_elos.groupby('model_bad_name'):    \n",
    "    group.loc[-1] = [1000000, 718.526895, 'random', 'random', 0]\n",
    "    group = group.sort_values(by=['step'])\n",
    "\n",
    "    if name == 'COMM RNN h=128 m=128 P2':\n",
    "        group = group.drop([11,12])\n",
    "        group.iloc[-1]['step'] = 151040000\n",
    "\n",
    "    name = name.replace('COMM ', '')\n",
    "    \n",
    "    if 'RNN' in name and 'P1' in name:\n",
    "        fig = fig_rnn_p1\n",
    "    elif 'RNN' in name and 'P2' in name:\n",
    "        fig = fig_rnn_p2\n",
    "    elif 'NN' in name and 'P2' in name:\n",
    "        fig = fig_nn_p2\n",
    "   \n",
    "    if name == 'random' or name == 'heuristic':\n",
    "        continue\n",
    "   \n",
    "\n",
    "    display_name = name\n",
    "    if 'RNN' not in display_name:\n",
    "        display_name = display_name.replace('NN', 'MLP')\n",
    "        display_name = display_name.replace('sample_batch', 'sb')\n",
    "  \n",
    "    fig.add_trace(go.Scatter(x=group['step']/16, y=group['elo'], name=display_name))\n",
    "   \n",
    "\n",
    "fig_nn_p2.add_hline(y=718.526895, line_dash=\"dot\", line_color=\"gray\", annotation_text='random')\n",
    "fig_nn_p2.add_hline(y=1354.971987, line_dash=\"dot\", line_color=\"green\", annotation_text='heuristic', annotation_position=\"top left\")\n",
    "fig_nn_p2.add_vline(x=10000000, line_dash=\"dash\", line_color=\"gray\", annotation_text='2nd phase', annotation_position=\"bottom right\", annotation_textangle = 90,)\n",
    "fig_nn_p2.update_layout(title=f'ELO score over time MLP P2', xaxis_title='Number of games', yaxis_title='ELO score')\n",
    "fig_nn_p2.show()\n",
    "save_fig(fig_nn_p2, 'com_elo_mlp_p2')\n",
    "\n",
    "fig_rnn_p2.add_hline(y=718.526895, line_dash=\"dot\", line_color=\"gray\", annotation_text='random')\n",
    "fig_rnn_p2.add_hline(y=1354.971987, line_dash=\"dot\", line_color=\"green\", annotation_text='heuristic', annotation_position=\"top left\")\n",
    "\n",
    "fig_rnn_p2.add_vline(x=8000000, line_dash=\"dash\", line_color=\"gray\", annotation_text='*', annotation_position=\"bottom right\", annotation_textangle = 90)\n",
    "fig_rnn_p2.add_vline(x=10000000, line_dash=\"dash\", line_color=\"gray\", annotation_text='2nd phase', annotation_position=\"bottom right\", annotation_textangle = 90)\n",
    "fig_rnn_p2.update_layout(title=f'ELO score over time RNN P2', xaxis_title='Number of games', yaxis_title='ELO score')\n",
    "fig_rnn_p2.show()\n",
    "save_fig(fig_rnn_p2, 'com_elo_rnn_p2')\n",
    "\n",
    "fig_rnn_p1.add_hline(y=718.526895, line_dash=\"dot\", line_color=\"gray\", annotation_text='random')\n",
    "fig_rnn_p1.add_hline(y=1354.971987, line_dash=\"dot\", line_color=\"green\", annotation_text='heuristic', annotation_position=\"top left\")\n",
    "fig_rnn_p1.update_layout(title=f'ELO score over time MLP P1', xaxis_title='Number of games', yaxis_title='ELO score')\n",
    "fig_rnn_p1.show()\n",
    "save_fig(fig_rnn_p1, 'com_elo_rnn_p1')"
   ]
  },
  {
   "cell_type": "code",
   "execution_count": null,
   "metadata": {},
   "outputs": [
    {
     "data": {
      "text/plain": [
       "Index(['model_bad_id', 'model_good_id', 'model_bad_name', 'model_bad_step',\n",
       "       'model_good_name', 'model_good_step', 'reward_bad', 'reward_good',\n",
       "       'caller/truth_ratio', 'caller/Messages.CARICO_NOT_BRISCOLA_True',\n",
       "       'caller/Messages.CARICO_NOT_BRISCOLA_False',\n",
       "       'caller/Messages.BRISCOLINO_True', 'caller/Messages.BRISCOLINO_False',\n",
       "       'caller/Messages.BRISCOLA_FIGURA_True',\n",
       "       'caller/Messages.BRISCOLA_FIGURA_False',\n",
       "       'caller/Messages.BRISCOLA_CARICO_True',\n",
       "       'caller/Messages.BRISCOLA_CARICO_False', 'caller/Messages.LISCIO_True',\n",
       "       'caller/Messages.LISCIO_False', 'callee/truth_ratio',\n",
       "       'callee/Messages.CARICO_NOT_BRISCOLA_True',\n",
       "       'callee/Messages.CARICO_NOT_BRISCOLA_False',\n",
       "       'callee/Messages.BRISCOLINO_True', 'callee/Messages.BRISCOLINO_False',\n",
       "       'callee/Messages.BRISCOLA_FIGURA_True',\n",
       "       'callee/Messages.BRISCOLA_FIGURA_False',\n",
       "       'callee/Messages.BRISCOLA_CARICO_True',\n",
       "       'callee/Messages.BRISCOLA_CARICO_False', 'callee/Messages.LISCIO_True',\n",
       "       'callee/Messages.LISCIO_False', 'good/truth_ratio',\n",
       "       'good/Messages.CARICO_NOT_BRISCOLA_True',\n",
       "       'good/Messages.CARICO_NOT_BRISCOLA_False',\n",
       "       'good/Messages.BRISCOLINO_True', 'good/Messages.BRISCOLINO_False',\n",
       "       'good/Messages.BRISCOLA_FIGURA_True',\n",
       "       'good/Messages.BRISCOLA_FIGURA_False',\n",
       "       'good/Messages.BRISCOLA_CARICO_True',\n",
       "       'good/Messages.BRISCOLA_CARICO_False', 'good/Messages.LISCIO_True',\n",
       "       'good/Messages.LISCIO_False'],\n",
       "      dtype='object')"
      ]
     },
     "execution_count": 27,
     "metadata": {},
     "output_type": "execute_result"
    }
   ],
   "source": [
    "df_raw.columns"
   ]
  },
  {
   "cell_type": "code",
   "execution_count": null,
   "metadata": {},
   "outputs": [],
   "source": [
    "bad_roles = df_raw.groupby('model_bad_id').mean(['caller/truth_ratio', 'caller/Messages.CARICO_NOT_BRISCOLA_True',\n",
    "       'caller/Messages.CARICO_NOT_BRISCOLA_False',\n",
    "       'caller/Messages.BRISCOLINO_True', 'caller/Messages.BRISCOLINO_False',\n",
    "       'caller/Messages.BRISCOLA_FIGURA_True',\n",
    "       'caller/Messages.BRISCOLA_FIGURA_False',\n",
    "       'caller/Messages.BRISCOLA_CARICO_True',\n",
    "       'caller/Messages.BRISCOLA_CARICO_False', 'caller/Messages.LISCIO_True',\n",
    "       'caller/Messages.LISCIO_False', 'callee/truth_ratio',\n",
    "       'callee/Messages.CARICO_NOT_BRISCOLA_True',\n",
    "       'callee/Messages.CARICO_NOT_BRISCOLA_False',\n",
    "       'callee/Messages.BRISCOLINO_True', 'callee/Messages.BRISCOLINO_False',\n",
    "       'callee/Messages.BRISCOLA_FIGURA_True',\n",
    "       'callee/Messages.BRISCOLA_FIGURA_False',\n",
    "       'callee/Messages.BRISCOLA_CARICO_True',\n",
    "       'callee/Messages.BRISCOLA_CARICO_False', 'callee/Messages.LISCIO_True',\n",
    "       'callee/Messages.LISCIO_False'])\n",
    "good_roles = df_raw.groupby('model_good_id').mean(['good/truth_ratio',\n",
    "       'good/Messages.CARICO_NOT_BRISCOLA_True',\n",
    "       'good/Messages.CARICO_NOT_BRISCOLA_False',\n",
    "       'good/Messages.BRISCOLINO_True', 'good/Messages.BRISCOLINO_False',\n",
    "       'good/Messages.BRISCOLA_FIGURA_True',\n",
    "       'good/Messages.BRISCOLA_FIGURA_False',\n",
    "       'good/Messages.BRISCOLA_CARICO_True',\n",
    "       'good/Messages.BRISCOLA_CARICO_False', 'good/Messages.LISCIO_True',\n",
    "       'good/Messages.LISCIO_False'])\n",
    "bad_roles.reset_index(inplace=True)\n",
    "good_roles.reset_index(inplace=True)\n",
    "bad_roles.drop(['good/truth_ratio',\n",
    "       'good/Messages.CARICO_NOT_BRISCOLA_True',\n",
    "       'good/Messages.CARICO_NOT_BRISCOLA_False',\n",
    "       'good/Messages.BRISCOLINO_True', 'good/Messages.BRISCOLINO_False',\n",
    "       'good/Messages.BRISCOLA_FIGURA_True',\n",
    "       'good/Messages.BRISCOLA_FIGURA_False',\n",
    "       'good/Messages.BRISCOLA_CARICO_True',\n",
    "       'good/Messages.BRISCOLA_CARICO_False', 'good/Messages.LISCIO_True',\n",
    "       'good/Messages.LISCIO_False'], axis=1, inplace=True)\n",
    "good_roles.drop(['caller/truth_ratio',\n",
    "       'caller/Messages.CARICO_NOT_BRISCOLA_True',\n",
    "       'caller/Messages.CARICO_NOT_BRISCOLA_False',\n",
    "       'caller/Messages.BRISCOLINO_True', 'caller/Messages.BRISCOLINO_False',\n",
    "       'caller/Messages.BRISCOLA_FIGURA_True',\n",
    "       'caller/Messages.BRISCOLA_FIGURA_False',\n",
    "       'caller/Messages.BRISCOLA_CARICO_True',\n",
    "       'caller/Messages.BRISCOLA_CARICO_False', 'caller/Messages.LISCIO_True',\n",
    "       'caller/Messages.LISCIO_False', 'callee/truth_ratio',\n",
    "       'callee/Messages.CARICO_NOT_BRISCOLA_True',\n",
    "       'callee/Messages.CARICO_NOT_BRISCOLA_False',\n",
    "       'callee/Messages.BRISCOLINO_True', 'callee/Messages.BRISCOLINO_False',\n",
    "       'callee/Messages.BRISCOLA_FIGURA_True',\n",
    "       'callee/Messages.BRISCOLA_FIGURA_False',\n",
    "       'callee/Messages.BRISCOLA_CARICO_True',\n",
    "       'callee/Messages.BRISCOLA_CARICO_False', 'callee/Messages.LISCIO_True',\n",
    "       'callee/Messages.LISCIO_False'], axis=1, inplace=True)"
   ]
  },
  {
   "cell_type": "code",
   "execution_count": null,
   "metadata": {},
   "outputs": [
    {
     "data": {
      "text/html": [
       "<div>\n",
       "<style scoped>\n",
       "    .dataframe tbody tr th:only-of-type {\n",
       "        vertical-align: middle;\n",
       "    }\n",
       "\n",
       "    .dataframe tbody tr th {\n",
       "        vertical-align: top;\n",
       "    }\n",
       "\n",
       "    .dataframe thead th {\n",
       "        text-align: right;\n",
       "    }\n",
       "</style>\n",
       "<table border=\"1\" class=\"dataframe\">\n",
       "  <thead>\n",
       "    <tr style=\"text-align: right;\">\n",
       "      <th></th>\n",
       "      <th>model_id</th>\n",
       "      <th>elo</th>\n",
       "      <th>name</th>\n",
       "      <th>model_bad_name</th>\n",
       "      <th>step</th>\n",
       "    </tr>\n",
       "  </thead>\n",
       "  <tbody>\n",
       "    <tr>\n",
       "      <th>26</th>\n",
       "      <td>26</td>\n",
       "      <td>1245.837715</td>\n",
       "      <td>26</td>\n",
       "      <td>COMM NN h=32 sample_batch=False P2</td>\n",
       "      <td>160000000</td>\n",
       "    </tr>\n",
       "    <tr>\n",
       "      <th>6</th>\n",
       "      <td>6</td>\n",
       "      <td>1292.638855</td>\n",
       "      <td>6</td>\n",
       "      <td>COMM NN h=32 sample_batch=True P2</td>\n",
       "      <td>192000000</td>\n",
       "    </tr>\n",
       "    <tr>\n",
       "      <th>8</th>\n",
       "      <td>8</td>\n",
       "      <td>1171.546162</td>\n",
       "      <td>8</td>\n",
       "      <td>COMM NN h=64 sample_batch=False P2</td>\n",
       "      <td>192000000</td>\n",
       "    </tr>\n",
       "    <tr>\n",
       "      <th>5</th>\n",
       "      <td>5</td>\n",
       "      <td>1143.440756</td>\n",
       "      <td>5</td>\n",
       "      <td>COMM NN h=64 sample_batch=True P2</td>\n",
       "      <td>192000000</td>\n",
       "    </tr>\n",
       "    <tr>\n",
       "      <th>120</th>\n",
       "      <td>120</td>\n",
       "      <td>771.830792</td>\n",
       "      <td>120</td>\n",
       "      <td>COMM RNN h=128 m=128 P1</td>\n",
       "      <td>160000000</td>\n",
       "    </tr>\n",
       "    <tr>\n",
       "      <th>121</th>\n",
       "      <td>121</td>\n",
       "      <td>1238.441849</td>\n",
       "      <td>121</td>\n",
       "      <td>COMM RNN h=128 m=128 P2</td>\n",
       "      <td>143360000</td>\n",
       "    </tr>\n",
       "    <tr>\n",
       "      <th>84</th>\n",
       "      <td>84</td>\n",
       "      <td>830.710862</td>\n",
       "      <td>84</td>\n",
       "      <td>COMM RNN h=128 m=64 P1</td>\n",
       "      <td>153600000</td>\n",
       "    </tr>\n",
       "    <tr>\n",
       "      <th>3</th>\n",
       "      <td>3</td>\n",
       "      <td>1259.962503</td>\n",
       "      <td>3</td>\n",
       "      <td>COMM RNN h=128 m=64 P2</td>\n",
       "      <td>192000000</td>\n",
       "    </tr>\n",
       "    <tr>\n",
       "      <th>105</th>\n",
       "      <td>105</td>\n",
       "      <td>810.610743</td>\n",
       "      <td>105</td>\n",
       "      <td>COMM RNN h=32 m=128 P1</td>\n",
       "      <td>153600000</td>\n",
       "    </tr>\n",
       "    <tr>\n",
       "      <th>1</th>\n",
       "      <td>1</td>\n",
       "      <td>1254.069632</td>\n",
       "      <td>1</td>\n",
       "      <td>COMM RNN h=32 m=128 P2</td>\n",
       "      <td>192000000</td>\n",
       "    </tr>\n",
       "    <tr>\n",
       "      <th>111</th>\n",
       "      <td>111</td>\n",
       "      <td>764.733808</td>\n",
       "      <td>111</td>\n",
       "      <td>COMM RNN h=32 m=64 P1</td>\n",
       "      <td>128000000</td>\n",
       "    </tr>\n",
       "    <tr>\n",
       "      <th>0</th>\n",
       "      <td>0</td>\n",
       "      <td>1358.348911</td>\n",
       "      <td>0</td>\n",
       "      <td>COMM RNN h=32 m=64 P2</td>\n",
       "      <td>192000000</td>\n",
       "    </tr>\n",
       "    <tr>\n",
       "      <th>92</th>\n",
       "      <td>92</td>\n",
       "      <td>849.277212</td>\n",
       "      <td>92</td>\n",
       "      <td>COMM RNN h=64 m=128 P1</td>\n",
       "      <td>160000000</td>\n",
       "    </tr>\n",
       "    <tr>\n",
       "      <th>4</th>\n",
       "      <td>4</td>\n",
       "      <td>1317.238421</td>\n",
       "      <td>4</td>\n",
       "      <td>COMM RNN h=64 m=128 P2</td>\n",
       "      <td>192000000</td>\n",
       "    </tr>\n",
       "    <tr>\n",
       "      <th>97</th>\n",
       "      <td>97</td>\n",
       "      <td>822.025004</td>\n",
       "      <td>97</td>\n",
       "      <td>COMM RNN h=64 m=64 P1</td>\n",
       "      <td>128000000</td>\n",
       "    </tr>\n",
       "    <tr>\n",
       "      <th>2</th>\n",
       "      <td>2</td>\n",
       "      <td>1265.061225</td>\n",
       "      <td>2</td>\n",
       "      <td>COMM RNN h=64 m=64 P2</td>\n",
       "      <td>192000000</td>\n",
       "    </tr>\n",
       "    <tr>\n",
       "      <th>123</th>\n",
       "      <td>heuristic</td>\n",
       "      <td>1354.971987</td>\n",
       "      <td>heuristic</td>\n",
       "      <td>heuristic</td>\n",
       "      <td>0</td>\n",
       "    </tr>\n",
       "    <tr>\n",
       "      <th>122</th>\n",
       "      <td>random</td>\n",
       "      <td>718.526895</td>\n",
       "      <td>random</td>\n",
       "      <td>random</td>\n",
       "      <td>0</td>\n",
       "    </tr>\n",
       "  </tbody>\n",
       "</table>\n",
       "</div>"
      ],
      "text/plain": [
       "      model_id          elo       name                      model_bad_name   \n",
       "26          26  1245.837715         26  COMM NN h=32 sample_batch=False P2  \\\n",
       "6            6  1292.638855          6   COMM NN h=32 sample_batch=True P2   \n",
       "8            8  1171.546162          8  COMM NN h=64 sample_batch=False P2   \n",
       "5            5  1143.440756          5   COMM NN h=64 sample_batch=True P2   \n",
       "120        120   771.830792        120             COMM RNN h=128 m=128 P1   \n",
       "121        121  1238.441849        121             COMM RNN h=128 m=128 P2   \n",
       "84          84   830.710862         84              COMM RNN h=128 m=64 P1   \n",
       "3            3  1259.962503          3              COMM RNN h=128 m=64 P2   \n",
       "105        105   810.610743        105              COMM RNN h=32 m=128 P1   \n",
       "1            1  1254.069632          1              COMM RNN h=32 m=128 P2   \n",
       "111        111   764.733808        111               COMM RNN h=32 m=64 P1   \n",
       "0            0  1358.348911          0               COMM RNN h=32 m=64 P2   \n",
       "92          92   849.277212         92              COMM RNN h=64 m=128 P1   \n",
       "4            4  1317.238421          4              COMM RNN h=64 m=128 P2   \n",
       "97          97   822.025004         97               COMM RNN h=64 m=64 P1   \n",
       "2            2  1265.061225          2               COMM RNN h=64 m=64 P2   \n",
       "123  heuristic  1354.971987  heuristic                           heuristic   \n",
       "122     random   718.526895     random                              random   \n",
       "\n",
       "          step  \n",
       "26   160000000  \n",
       "6    192000000  \n",
       "8    192000000  \n",
       "5    192000000  \n",
       "120  160000000  \n",
       "121  143360000  \n",
       "84   153600000  \n",
       "3    192000000  \n",
       "105  153600000  \n",
       "1    192000000  \n",
       "111  128000000  \n",
       "0    192000000  \n",
       "92   160000000  \n",
       "4    192000000  \n",
       "97   128000000  \n",
       "2    192000000  \n",
       "123          0  \n",
       "122          0  "
      ]
     },
     "execution_count": 113,
     "metadata": {},
     "output_type": "execute_result"
    }
   ],
   "source": [
    "idx = elos_named.groupby('model_bad_name')['elo'].idxmax()\n",
    "elos_max = elos_named.loc[idx,]\n",
    "elos_max"
   ]
  },
  {
   "cell_type": "code",
   "execution_count": null,
   "metadata": {},
   "outputs": [
    {
     "name": "stderr",
     "output_type": "stream",
     "text": [
      "/tmp/ipykernel_7305/1143634429.py:8: SettingWithCopyWarning:\n",
      "\n",
      "\n",
      "A value is trying to be set on a copy of a slice from a DataFrame.\n",
      "Try using .loc[row_indexer,col_indexer] = value instead\n",
      "\n",
      "See the caveats in the documentation: https://pandas.pydata.org/pandas-docs/stable/user_guide/indexing.html#returning-a-view-versus-a-copy\n",
      "\n",
      "/tmp/ipykernel_7305/1143634429.py:9: SettingWithCopyWarning:\n",
      "\n",
      "\n",
      "A value is trying to be set on a copy of a slice from a DataFrame.\n",
      "Try using .loc[row_indexer,col_indexer] = value instead\n",
      "\n",
      "See the caveats in the documentation: https://pandas.pydata.org/pandas-docs/stable/user_guide/indexing.html#returning-a-view-versus-a-copy\n",
      "\n",
      "/tmp/ipykernel_7305/1143634429.py:10: SettingWithCopyWarning:\n",
      "\n",
      "\n",
      "A value is trying to be set on a copy of a slice from a DataFrame.\n",
      "Try using .loc[row_indexer,col_indexer] = value instead\n",
      "\n",
      "See the caveats in the documentation: https://pandas.pydata.org/pandas-docs/stable/user_guide/indexing.html#returning-a-view-versus-a-copy\n",
      "\n",
      "/tmp/ipykernel_7305/1143634429.py:11: SettingWithCopyWarning:\n",
      "\n",
      "\n",
      "A value is trying to be set on a copy of a slice from a DataFrame\n",
      "\n",
      "See the caveats in the documentation: https://pandas.pydata.org/pandas-docs/stable/user_guide/indexing.html#returning-a-view-versus-a-copy\n",
      "\n",
      "/tmp/ipykernel_7305/1143634429.py:12: SettingWithCopyWarning:\n",
      "\n",
      "\n",
      "A value is trying to be set on a copy of a slice from a DataFrame\n",
      "\n",
      "See the caveats in the documentation: https://pandas.pydata.org/pandas-docs/stable/user_guide/indexing.html#returning-a-view-versus-a-copy\n",
      "\n",
      "/tmp/ipykernel_7305/1143634429.py:13: SettingWithCopyWarning:\n",
      "\n",
      "\n",
      "A value is trying to be set on a copy of a slice from a DataFrame.\n",
      "Try using .loc[row_indexer,col_indexer] = value instead\n",
      "\n",
      "See the caveats in the documentation: https://pandas.pydata.org/pandas-docs/stable/user_guide/indexing.html#returning-a-view-versus-a-copy\n",
      "\n"
     ]
    },
    {
     "data": {
      "text/html": [
       "<div>\n",
       "<style scoped>\n",
       "    .dataframe tbody tr th:only-of-type {\n",
       "        vertical-align: middle;\n",
       "    }\n",
       "\n",
       "    .dataframe tbody tr th {\n",
       "        vertical-align: top;\n",
       "    }\n",
       "\n",
       "    .dataframe thead th {\n",
       "        text-align: right;\n",
       "    }\n",
       "</style>\n",
       "<table border=\"1\" class=\"dataframe\">\n",
       "  <thead>\n",
       "    <tr style=\"text-align: right;\">\n",
       "      <th></th>\n",
       "      <th>model_bad_name</th>\n",
       "      <th>elo</th>\n",
       "      <th>caller/bluff_ratio</th>\n",
       "      <th>good/bluff_ratio</th>\n",
       "      <th>callee/bluff_ratio</th>\n",
       "    </tr>\n",
       "  </thead>\n",
       "  <tbody>\n",
       "    <tr>\n",
       "      <th>11</th>\n",
       "      <td>RNN h=32 m=64 P2</td>\n",
       "      <td>1358.348911</td>\n",
       "      <td>0.596476</td>\n",
       "      <td>0.618470</td>\n",
       "      <td>0.669566</td>\n",
       "    </tr>\n",
       "    <tr>\n",
       "      <th>16</th>\n",
       "      <td>heuristic</td>\n",
       "      <td>1354.971987</td>\n",
       "      <td>0.000000</td>\n",
       "      <td>0.000000</td>\n",
       "      <td>0.000000</td>\n",
       "    </tr>\n",
       "    <tr>\n",
       "      <th>13</th>\n",
       "      <td>RNN h=64 m=128 P2</td>\n",
       "      <td>1317.238421</td>\n",
       "      <td>0.000000</td>\n",
       "      <td>0.000000</td>\n",
       "      <td>0.000000</td>\n",
       "    </tr>\n",
       "    <tr>\n",
       "      <th>1</th>\n",
       "      <td>NN h=32 sample_batch=True P2</td>\n",
       "      <td>1292.638855</td>\n",
       "      <td>0.117039</td>\n",
       "      <td>0.141220</td>\n",
       "      <td>0.097077</td>\n",
       "    </tr>\n",
       "    <tr>\n",
       "      <th>15</th>\n",
       "      <td>RNN h=64 m=64 P2</td>\n",
       "      <td>1265.061225</td>\n",
       "      <td>0.003564</td>\n",
       "      <td>0.009396</td>\n",
       "      <td>0.005340</td>\n",
       "    </tr>\n",
       "    <tr>\n",
       "      <th>7</th>\n",
       "      <td>RNN h=128 m=64 P2</td>\n",
       "      <td>1259.962503</td>\n",
       "      <td>0.000000</td>\n",
       "      <td>0.000000</td>\n",
       "      <td>0.000000</td>\n",
       "    </tr>\n",
       "    <tr>\n",
       "      <th>9</th>\n",
       "      <td>RNN h=32 m=128 P2</td>\n",
       "      <td>1254.069632</td>\n",
       "      <td>0.004081</td>\n",
       "      <td>0.007628</td>\n",
       "      <td>0.006722</td>\n",
       "    </tr>\n",
       "    <tr>\n",
       "      <th>0</th>\n",
       "      <td>NN h=32 sample_batch=False P2</td>\n",
       "      <td>1245.837715</td>\n",
       "      <td>0.002804</td>\n",
       "      <td>0.004532</td>\n",
       "      <td>0.000641</td>\n",
       "    </tr>\n",
       "    <tr>\n",
       "      <th>5</th>\n",
       "      <td>RNN h=128 m=128 P2</td>\n",
       "      <td>1238.441849</td>\n",
       "      <td>0.000000</td>\n",
       "      <td>0.000000</td>\n",
       "      <td>0.000000</td>\n",
       "    </tr>\n",
       "    <tr>\n",
       "      <th>2</th>\n",
       "      <td>NN h=64 sample_batch=False P2</td>\n",
       "      <td>1171.546162</td>\n",
       "      <td>0.000009</td>\n",
       "      <td>0.000018</td>\n",
       "      <td>0.000009</td>\n",
       "    </tr>\n",
       "    <tr>\n",
       "      <th>3</th>\n",
       "      <td>NN h=64 sample_batch=True P2</td>\n",
       "      <td>1143.440756</td>\n",
       "      <td>0.013905</td>\n",
       "      <td>0.024919</td>\n",
       "      <td>0.008974</td>\n",
       "    </tr>\n",
       "    <tr>\n",
       "      <th>12</th>\n",
       "      <td>RNN h=64 m=128 P1</td>\n",
       "      <td>849.277212</td>\n",
       "      <td>0.000000</td>\n",
       "      <td>0.000000</td>\n",
       "      <td>0.000125</td>\n",
       "    </tr>\n",
       "    <tr>\n",
       "      <th>6</th>\n",
       "      <td>RNN h=128 m=64 P1</td>\n",
       "      <td>830.710862</td>\n",
       "      <td>0.000012</td>\n",
       "      <td>0.003316</td>\n",
       "      <td>0.000376</td>\n",
       "    </tr>\n",
       "    <tr>\n",
       "      <th>14</th>\n",
       "      <td>RNN h=64 m=64 P1</td>\n",
       "      <td>822.025004</td>\n",
       "      <td>0.000004</td>\n",
       "      <td>0.000217</td>\n",
       "      <td>0.000000</td>\n",
       "    </tr>\n",
       "    <tr>\n",
       "      <th>8</th>\n",
       "      <td>RNN h=32 m=128 P1</td>\n",
       "      <td>810.610743</td>\n",
       "      <td>0.002311</td>\n",
       "      <td>0.004245</td>\n",
       "      <td>0.003087</td>\n",
       "    </tr>\n",
       "    <tr>\n",
       "      <th>4</th>\n",
       "      <td>RNN h=128 m=128 P1</td>\n",
       "      <td>771.830792</td>\n",
       "      <td>0.000000</td>\n",
       "      <td>0.000000</td>\n",
       "      <td>0.000000</td>\n",
       "    </tr>\n",
       "    <tr>\n",
       "      <th>10</th>\n",
       "      <td>RNN h=32 m=64 P1</td>\n",
       "      <td>764.733808</td>\n",
       "      <td>0.001357</td>\n",
       "      <td>0.002959</td>\n",
       "      <td>0.001457</td>\n",
       "    </tr>\n",
       "    <tr>\n",
       "      <th>17</th>\n",
       "      <td>random</td>\n",
       "      <td>718.526895</td>\n",
       "      <td>0.499944</td>\n",
       "      <td>0.497450</td>\n",
       "      <td>0.500539</td>\n",
       "    </tr>\n",
       "  </tbody>\n",
       "</table>\n",
       "</div>"
      ],
      "text/plain": [
       "                    model_bad_name          elo  caller/bluff_ratio   \n",
       "11                RNN h=32 m=64 P2  1358.348911            0.596476  \\\n",
       "16                       heuristic  1354.971987            0.000000   \n",
       "13               RNN h=64 m=128 P2  1317.238421            0.000000   \n",
       "1     NN h=32 sample_batch=True P2  1292.638855            0.117039   \n",
       "15                RNN h=64 m=64 P2  1265.061225            0.003564   \n",
       "7                RNN h=128 m=64 P2  1259.962503            0.000000   \n",
       "9                RNN h=32 m=128 P2  1254.069632            0.004081   \n",
       "0    NN h=32 sample_batch=False P2  1245.837715            0.002804   \n",
       "5               RNN h=128 m=128 P2  1238.441849            0.000000   \n",
       "2    NN h=64 sample_batch=False P2  1171.546162            0.000009   \n",
       "3     NN h=64 sample_batch=True P2  1143.440756            0.013905   \n",
       "12               RNN h=64 m=128 P1   849.277212            0.000000   \n",
       "6                RNN h=128 m=64 P1   830.710862            0.000012   \n",
       "14                RNN h=64 m=64 P1   822.025004            0.000004   \n",
       "8                RNN h=32 m=128 P1   810.610743            0.002311   \n",
       "4               RNN h=128 m=128 P1   771.830792            0.000000   \n",
       "10                RNN h=32 m=64 P1   764.733808            0.001357   \n",
       "17                          random   718.526895            0.499944   \n",
       "\n",
       "    good/bluff_ratio  callee/bluff_ratio  \n",
       "11          0.618470            0.669566  \n",
       "16          0.000000            0.000000  \n",
       "13          0.000000            0.000000  \n",
       "1           0.141220            0.097077  \n",
       "15          0.009396            0.005340  \n",
       "7           0.000000            0.000000  \n",
       "9           0.007628            0.006722  \n",
       "0           0.004532            0.000641  \n",
       "5           0.000000            0.000000  \n",
       "2           0.000018            0.000009  \n",
       "3           0.024919            0.008974  \n",
       "12          0.000000            0.000125  \n",
       "6           0.003316            0.000376  \n",
       "14          0.000217            0.000000  \n",
       "8           0.004245            0.003087  \n",
       "4           0.000000            0.000000  \n",
       "10          0.002959            0.001457  \n",
       "17          0.497450            0.500539  "
      ]
     },
     "execution_count": 129,
     "metadata": {},
     "output_type": "execute_result"
    }
   ],
   "source": [
    "m = pd.merge(elos_max, bad_roles, left_on='model_id', right_on='model_bad_id')\n",
    "m = pd.merge(m, good_roles, left_on='model_id', right_on='model_good_id')\n",
    "m.drop(['model_bad_step_x', 'model_good_step_x', 'model_good_id', \n",
    "        'model_bad_step_y', 'reward_bad_x', 'reward_good_x', \n",
    "        'reward_bad_y', 'reward_good_y', 'model_good_step_x', 'model_good_step_y',], axis=1, inplace=True)\n",
    "\n",
    "table_paper = m[['model_bad_name','elo','caller/truth_ratio', 'good/truth_ratio', 'callee/truth_ratio']]\n",
    "table_paper['caller/bluff_ratio'] = 1 - table_paper['caller/truth_ratio']\n",
    "table_paper['good/bluff_ratio'] = 1 - table_paper['good/truth_ratio']\n",
    "table_paper['callee/bluff_ratio'] = 1 - table_paper['callee/truth_ratio']\n",
    "table_paper.drop(['caller/truth_ratio', 'good/truth_ratio', 'callee/truth_ratio'], axis=1, inplace=True)\n",
    "table_paper.sort_values(by='elo', ascending=False, inplace=True)\n",
    "table_paper['model_bad_name'] = table_paper['model_bad_name'].str.replace('COMM', '')\n",
    "table_paper\n"
   ]
  },
  {
   "cell_type": "code",
   "execution_count": null,
   "metadata": {},
   "outputs": [
    {
     "name": "stdout",
     "output_type": "stream",
     "text": [
      "\\begin{tabular}{lrrrr}\n",
      "\\toprule\n",
      "model_bad_name & elo & caller/bluff_ratio & good/bluff_ratio & callee/bluff_ratio \\\\\n",
      "\\midrule\n",
      " RNN h=32 m=64  & 1358 & 0.60 & 0.62 & 0.67 \\\\\n",
      " RNN h=64 m=128  & 1317 & 0.00 & 0.00 & 0.00 \\\\\n",
      " NN h=32 sample_batch=True  & 1293 & 0.12 & 0.14 & 0.10 \\\\\n",
      " RNN h=64 m=64  & 1265 & 0.00 & 0.01 & 0.01 \\\\\n",
      " RNN h=128 m=64  & 1260 & 0.00 & 0.00 & 0.00 \\\\\n",
      " RNN h=32 m=128  & 1254 & 0.00 & 0.01 & 0.01 \\\\\n",
      " NN h=32 sample_batch=False  & 1246 & 0.00 & 0.00 & 0.00 \\\\\n",
      " RNN h=128 m=128  & 1238 & 0.00 & 0.00 & 0.00 \\\\\n",
      " NN h=64 sample_batch=False  & 1172 & 0.00 & 0.00 & 0.00 \\\\\n",
      " NN h=64 sample_batch=True  & 1143 & 0.01 & 0.02 & 0.01 \\\\\n",
      "\\bottomrule\n",
      "\\end{tabular}\n",
      "\n"
     ]
    },
    {
     "name": "stderr",
     "output_type": "stream",
     "text": [
      "/tmp/ipykernel_7305/2467943868.py:2: SettingWithCopyWarning:\n",
      "\n",
      "\n",
      "A value is trying to be set on a copy of a slice from a DataFrame.\n",
      "Try using .loc[row_indexer,col_indexer] = value instead\n",
      "\n",
      "See the caveats in the documentation: https://pandas.pydata.org/pandas-docs/stable/user_guide/indexing.html#returning-a-view-versus-a-copy\n",
      "\n",
      "/tmp/ipykernel_7305/2467943868.py:3: SettingWithCopyWarning:\n",
      "\n",
      "\n",
      "A value is trying to be set on a copy of a slice from a DataFrame.\n",
      "Try using .loc[row_indexer,col_indexer] = value instead\n",
      "\n",
      "See the caveats in the documentation: https://pandas.pydata.org/pandas-docs/stable/user_guide/indexing.html#returning-a-view-versus-a-copy\n",
      "\n",
      "/tmp/ipykernel_7305/2467943868.py:4: SettingWithCopyWarning:\n",
      "\n",
      "\n",
      "A value is trying to be set on a copy of a slice from a DataFrame.\n",
      "Try using .loc[row_indexer,col_indexer] = value instead\n",
      "\n",
      "See the caveats in the documentation: https://pandas.pydata.org/pandas-docs/stable/user_guide/indexing.html#returning-a-view-versus-a-copy\n",
      "\n",
      "/tmp/ipykernel_7305/2467943868.py:5: SettingWithCopyWarning:\n",
      "\n",
      "\n",
      "A value is trying to be set on a copy of a slice from a DataFrame.\n",
      "Try using .loc[row_indexer,col_indexer] = value instead\n",
      "\n",
      "See the caveats in the documentation: https://pandas.pydata.org/pandas-docs/stable/user_guide/indexing.html#returning-a-view-versus-a-copy\n",
      "\n",
      "/tmp/ipykernel_7305/2467943868.py:6: SettingWithCopyWarning:\n",
      "\n",
      "\n",
      "A value is trying to be set on a copy of a slice from a DataFrame.\n",
      "Try using .loc[row_indexer,col_indexer] = value instead\n",
      "\n",
      "See the caveats in the documentation: https://pandas.pydata.org/pandas-docs/stable/user_guide/indexing.html#returning-a-view-versus-a-copy\n",
      "\n"
     ]
    }
   ],
   "source": [
    "table_P2 = table_paper[table_paper['model_bad_name'].str.contains('P2')]\n",
    "table_P2['callee/bluff_ratio'] = table_P2['callee/bluff_ratio'].round(2)\n",
    "table_P2['caller/bluff_ratio'] = table_P2['caller/bluff_ratio'].round(2)\n",
    "table_P2['good/bluff_ratio'] = table_P2['good/bluff_ratio'].round(2)\n",
    "table_P2['elo'] = table_P2['elo'].round(0).astype(int)\n",
    "table_P2['model_bad_name'] = table_P2['model_bad_name'].str.replace('P2', '')\n",
    "print(table_P2.to_latex(index=False, float_format=\"%.2f\", escape=False))"
   ]
  }
 ],
 "metadata": {
  "kernelspec": {
   "display_name": "base",
   "language": "python",
   "name": "python3"
  },
  "language_info": {
   "codemirror_mode": {
    "name": "ipython",
    "version": 3
   },
   "file_extension": ".py",
   "mimetype": "text/x-python",
   "name": "python",
   "nbconvert_exporter": "python",
   "pygments_lexer": "ipython3",
   "version": "3.9.12"
  },
  "orig_nbformat": 4
 },
 "nbformat": 4,
 "nbformat_minor": 2
}
