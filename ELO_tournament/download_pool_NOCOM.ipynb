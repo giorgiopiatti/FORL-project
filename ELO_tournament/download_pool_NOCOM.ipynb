{
 "cells": [
  {
   "cell_type": "code",
   "execution_count": 2,
   "metadata": {},
   "outputs": [],
   "source": [
    "import wandb\n",
    "\n",
    "api = wandb.Api()\n",
    "runs = api.runs(\"eth-ticinesi/FORL_Briscola\")"
   ]
  },
  {
   "cell_type": "code",
   "execution_count": 3,
   "metadata": {},
   "outputs": [
    {
     "ename": "OSError",
     "evalue": "[Errno 39] Directory not empty: './nocom'",
     "output_type": "error",
     "traceback": [
      "\u001b[0;31m---------------------------------------------------------------------------\u001b[0m",
      "\u001b[0;31mOSError\u001b[0m                                   Traceback (most recent call last)",
      "\u001b[1;32m/home/gio/ETH-Code/forl-project/ELO_tournament/ELO_download_pool.ipynb Cell 2\u001b[0m in \u001b[0;36m<cell line: 3>\u001b[0;34m()\u001b[0m\n\u001b[1;32m      <a href='vscode-notebook-cell://ssh-remote%2B192.168.178.8/home/gio/ETH-Code/forl-project/ELO_tournament/ELO_download_pool.ipynb#W1sdnNjb2RlLXJlbW90ZQ%3D%3D?line=0'>1</a>\u001b[0m \u001b[39mimport\u001b[39;00m \u001b[39mpandas\u001b[39;00m \u001b[39mas\u001b[39;00m \u001b[39mpd\u001b[39;00m\n\u001b[1;32m      <a href='vscode-notebook-cell://ssh-remote%2B192.168.178.8/home/gio/ETH-Code/forl-project/ELO_tournament/ELO_download_pool.ipynb#W1sdnNjb2RlLXJlbW90ZQ%3D%3D?line=1'>2</a>\u001b[0m \u001b[39mimport\u001b[39;00m \u001b[39mos\u001b[39;00m\n\u001b[0;32m----> <a href='vscode-notebook-cell://ssh-remote%2B192.168.178.8/home/gio/ETH-Code/forl-project/ELO_tournament/ELO_download_pool.ipynb#W1sdnNjb2RlLXJlbW90ZQ%3D%3D?line=2'>3</a>\u001b[0m os\u001b[39m.\u001b[39;49mrmdir(\u001b[39m'\u001b[39;49m\u001b[39m./nocom\u001b[39;49m\u001b[39m'\u001b[39;49m)\n\u001b[1;32m      <a href='vscode-notebook-cell://ssh-remote%2B192.168.178.8/home/gio/ETH-Code/forl-project/ELO_tournament/ELO_download_pool.ipynb#W1sdnNjb2RlLXJlbW90ZQ%3D%3D?line=3'>4</a>\u001b[0m com_models \u001b[39m=\u001b[39m []\n\u001b[1;32m      <a href='vscode-notebook-cell://ssh-remote%2B192.168.178.8/home/gio/ETH-Code/forl-project/ELO_tournament/ELO_download_pool.ipynb#W1sdnNjb2RlLXJlbW90ZQ%3D%3D?line=4'>5</a>\u001b[0m nocom_models \u001b[39m=\u001b[39m []\n",
      "\u001b[0;31mOSError\u001b[0m: [Errno 39] Directory not empty: './nocom'"
     ]
    }
   ],
   "source": [
    "import pandas as pd\n",
    "import os\n",
    "os.rmdir('./nocom')\n",
    "com_models = []\n",
    "nocom_models = []\n",
    "for run in runs:\n",
    "    if 'ELO_POOL' not in run.tags or 'COM' in run.tags :\n",
    "        continue\n",
    "\n",
    "    comm = 'nocom'\n",
    "    arch = 'nn' if 'NN' in run.tags else 'rnn'\n",
    "    num = len(run.logged_artifacts())\n",
    "    for artifact in run.logged_artifacts():\n",
    "        if artifact.type != 'model':\n",
    "            continue\n",
    "        artifact.download('./tmp/')\n",
    "        original_name = f\"{artifact.name.split(':')[0]}.pth\"\n",
    "\n",
    "        last = False\n",
    "        if 'policy_train' in artifact.name:\n",
    "            step = artifact.name.split('policy_train_')[1].split(':')[0]\n",
    "        elif 'policy_last' in artifact.name:\n",
    "            step = artifact.name.split('policy_last_')[1].split(':')[0]\n",
    "            last = True\n",
    "            \n",
    "        path = f'{run.id}_{step}.pt'\n",
    "        os.rename(f'./tmp/{original_name}', f'./{comm}/{path}')\n",
    "        hidden_dim = run.config['hidden_dim'] if 'hidden_dim' in run.config else 64\n",
    "        rnn_out = run.config['rnn_out_size'] if 'rnn_out_size' in run.config else 0\n",
    "        run_pd = pd.DataFrame({'name' : run.name, 'id': run.id, 'arch': arch, 'comm': comm, 'hidden_dim': hidden_dim, 'rnn_out_size': rnn_out, 'step' : step, 'last': last, 'file_name': path }, index=[0])\n",
    "        nocom_models.append(run_pd)"
   ]
  },
  {
   "cell_type": "code",
   "execution_count": null,
   "metadata": {},
   "outputs": [],
   "source": [
    "pd.concat(nocom_models).to_csv('nocom_models.csv')"
   ]
  }
 ],
 "metadata": {
  "kernelspec": {
   "display_name": "base",
   "language": "python",
   "name": "python3"
  },
  "language_info": {
   "codemirror_mode": {
    "name": "ipython",
    "version": 3
   },
   "file_extension": ".py",
   "mimetype": "text/x-python",
   "name": "python",
   "nbconvert_exporter": "python",
   "pygments_lexer": "ipython3",
   "version": "3.9.12"
  },
  "orig_nbformat": 4
 },
 "nbformat": 4,
 "nbformat_minor": 2
}
