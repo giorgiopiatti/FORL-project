{
 "cells": [
  {
   "cell_type": "code",
   "execution_count": 1,
   "metadata": {},
   "outputs": [],
   "source": [
    "import wandb\n",
    "\n",
    "api = wandb.Api()\n",
    "runs = api.runs(\"eth-ticinesi/FORL_Briscola\")"
   ]
  },
  {
   "cell_type": "code",
   "execution_count": 3,
   "metadata": {},
   "outputs": [
    {
     "name": "stderr",
     "output_type": "stream",
     "text": [
      "\u001b[34m\u001b[1mwandb\u001b[0m:   1 of 1 files downloaded.  \n",
      "\u001b[34m\u001b[1mwandb\u001b[0m:   1 of 1 files downloaded.  \n",
      "\u001b[34m\u001b[1mwandb\u001b[0m:   1 of 1 files downloaded.  \n",
      "\u001b[34m\u001b[1mwandb\u001b[0m:   1 of 1 files downloaded.  \n",
      "\u001b[34m\u001b[1mwandb\u001b[0m:   1 of 1 files downloaded.  \n",
      "\u001b[34m\u001b[1mwandb\u001b[0m:   1 of 1 files downloaded.  \n",
      "\u001b[34m\u001b[1mwandb\u001b[0m:   1 of 1 files downloaded.  \n",
      "\u001b[34m\u001b[1mwandb\u001b[0m:   1 of 1 files downloaded.  \n",
      "\u001b[34m\u001b[1mwandb\u001b[0m:   1 of 1 files downloaded.  \n"
     ]
    }
   ],
   "source": [
    "import pandas as pd\n",
    "import os\n",
    "os.makedirs('./checkpoints/pretrained', exist_ok=True)\n",
    "commands = []\n",
    "\n",
    "for run in runs:\n",
    "    if 'PRETRAINED' not in run.tags:\n",
    "        continue\n",
    "\n",
    "    arch = 'nn' if 'NN' in run.tags else 'rnn'\n",
    "    num = len(run.logged_artifacts())\n",
    "    for artifact in run.logged_artifacts():\n",
    "        if artifact.type != 'model':\n",
    "            continue\n",
    "      \n",
    "        original_name = f\"{artifact.name.split(':')[0]}.pth\"\n",
    "\n",
    "        if 'policy_train' in artifact.name:\n",
    "            continue\n",
    "        elif 'policy_last' in artifact.name:\n",
    "            step = artifact.name.split('policy_last_')[1].split(':')[0]\n",
    "            last = True\n",
    "        \n",
    "        artifact.download('./tmp/')\n",
    "        path = f'{run.id}_base.pt'\n",
    "        os.rename(f'./tmp/{original_name}', f'./checkpoints/pretrained/{path}')\n",
    "        hidden_dim = run.config['hidden_dim'] if 'hidden_dim' in run.config else 64\n",
    "        rnn_out = run.config['rnn_out_size'] if 'rnn_out_size' in run.config else 0\n",
    "        \n",
    "        if arch == 'rnn':\n",
    "            cmd = f'python3 ./ppo_RNN_universal.py --track  --cuda True --exp-name 2PHASE_PPO_universal_COM_RNN_h={hidden_dim}_rnn={rnn_out}  \\\n",
    "                        --sample-batch-env False --hidden-dim {hidden_dim} --rnn-out-size {rnn_out} --briscola-communicate --resume-path ./checkpoints/pretrained/{path} \\\n",
    "                            --briscola-communicate-truth False --total-timesteps {12*8*1000000} --freq-save-model 10000'\n",
    "        else:\n",
    "            s = run.config[\"sample_batch_env\"]\n",
    "            suffix = '_more_samples' if not s else ''\n",
    "            cmd = f'python3 ./ppo_com_universal.py --track  --cuda False --exp-name 2PHASE_PPO_universal_COM_RNN_h={hidden_dim}{suffix}  \\\n",
    "                        --sample-batch-env {s} --hidden-dim {hidden_dim} --briscola-communicate --resume-path ./checkpoints/pretrained/{path} \\\n",
    "                            --briscola-communicate-truth False --total-timesteps {12*8*1000000} --freq-save-model 10000'\n",
    "        commands.append(cmd)\n",
    "\n",
    "with open('./experiment_2phase.txt', 'w') as f:\n",
    "    for cmd in commands:\n",
    "        f.write(cmd + '\\n')"
   ]
  },
  {
   "cell_type": "code",
   "execution_count": null,
   "metadata": {},
   "outputs": [],
   "source": []
  }
 ],
 "metadata": {
  "kernelspec": {
   "display_name": "base",
   "language": "python",
   "name": "python3"
  },
  "language_info": {
   "codemirror_mode": {
    "name": "ipython",
    "version": 3
   },
   "file_extension": ".py",
   "mimetype": "text/x-python",
   "name": "python",
   "nbconvert_exporter": "python",
   "pygments_lexer": "ipython3",
   "version": "3.9.12"
  },
  "orig_nbformat": 4
 },
 "nbformat": 4,
 "nbformat_minor": 2
}
