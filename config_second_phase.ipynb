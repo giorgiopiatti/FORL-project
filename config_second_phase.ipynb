{
 "cells": [
  {
   "cell_type": "code",
   "execution_count": 1,
   "metadata": {},
   "outputs": [],
   "source": [
    "import wandb\n",
    "\n",
    "api = wandb.Api()\n",
    "runs = api.runs(\"eth-ticinesi/FORL_Briscola\")"
   ]
  },
  {
   "cell_type": "code",
   "execution_count": 12,
   "metadata": {},
   "outputs": [
    {
     "data": {
      "text/plain": [
       "<Runs eth-ticinesi/FORL_Briscola>"
      ]
     },
     "execution_count": 12,
     "metadata": {},
     "output_type": "execute_result"
    }
   ],
   "source": [
    "runs"
   ]
  },
  {
   "cell_type": "code",
   "execution_count": 2,
   "metadata": {},
   "outputs": [
    {
     "name": "stdout",
     "output_type": "stream",
     "text": [
      "2PHASE_PPO_universal_COM_RNN_h=128_rnn=128__1__1686857553 []\n",
      "2PHASE_PPO_universal_COM_RNN_h=32_rnn=64__1__1686734603 ['2PHASE', 'COM', 'RNN']\n",
      "2PHASE_PPO_universal_COM_RNN_h=32_rnn=128__1__1686734475 ['2PHASE', 'COM', 'RNN']\n",
      "2PHASE_PPO_universal_COM_RNN_h=64_rnn=64__1__1686734474 ['2PHASE', 'COM', 'RNN']\n",
      "2PHASE_PPO_universal_COM_RNN_h=128_rnn=64__1__1686734412 ['2PHASE', 'COM', 'RNN']\n",
      "2PHASE_PPO_universal_COM_RNN_h=64_rnn=128__1__1686734412 ['2PHASE', 'COM', 'RNN']\n",
      "2PHASE_PPO_universal_COM_h=64__1__1686734330 ['2PHASE', 'COM', 'NN']\n",
      "2PHASE_PPO_universal_COM_h=32__1__1686734298 ['2PHASE', 'COM', 'NN']\n",
      "2PHASE_PPO_universal_COM_h=32_more_samples__1__1686734270 ['2PHASE', 'COM', 'NN']\n",
      "2PHASE_PPO_universal_COM_h=64_more_samples__1__1686734224 ['2PHASE', 'COM', 'NN']\n",
      "RES_P2_PPO_universal_RNN_h=128_rnn=128__1__1686581348 []\n",
      "RES_P2_PPO_universal_COM_RNN_h=128_rnn=128__1__1686580522 ['PRETRAINED']\n",
      "_128000256\n"
     ]
    },
    {
     "name": "stderr",
     "output_type": "stream",
     "text": [
      "\u001b[34m\u001b[1mwandb\u001b[0m:   1 of 1 files downloaded.  \n"
     ]
    },
    {
     "name": "stdout",
     "output_type": "stream",
     "text": [
      "P2_PPO_universal_RNN_h=128_rnn=128__1__1686297504 []\n",
      "P2_PPO_universal_COM_h=64_more_samples__1__1686216022 ['COM', 'ELO_POOL', 'NN', 'P2', 'PRETRAINED']\n"
     ]
    },
    {
     "name": "stderr",
     "output_type": "stream",
     "text": [
      "\u001b[34m\u001b[1mwandb\u001b[0m:   1 of 1 files downloaded.  \n"
     ]
    },
    {
     "name": "stdout",
     "output_type": "stream",
     "text": [
      "P2_PPO_universal_COM_h=32_more_samples__1__1686216022 ['COM', 'ELO_POOL', 'NN', 'P2', 'PRETRAINED']\n"
     ]
    },
    {
     "name": "stderr",
     "output_type": "stream",
     "text": [
      "\u001b[34m\u001b[1mwandb\u001b[0m:   1 of 1 files downloaded.  \n"
     ]
    },
    {
     "name": "stdout",
     "output_type": "stream",
     "text": [
      "P2_PPO_universal_COM_h=32__1__1686216022 ['COM', 'ELO_POOL', 'NN', 'P2', 'PRETRAINED']\n"
     ]
    },
    {
     "name": "stderr",
     "output_type": "stream",
     "text": [
      "\u001b[34m\u001b[1mwandb\u001b[0m:   1 of 1 files downloaded.  \n"
     ]
    },
    {
     "name": "stdout",
     "output_type": "stream",
     "text": [
      "P2_PPO_universal_COM_h=64__1__1686216022 ['COM', 'ELO_POOL', 'NN', 'P2', 'PRETRAINED']\n"
     ]
    },
    {
     "name": "stderr",
     "output_type": "stream",
     "text": [
      "\u001b[34m\u001b[1mwandb\u001b[0m:   1 of 1 files downloaded.  \n"
     ]
    },
    {
     "name": "stdout",
     "output_type": "stream",
     "text": [
      "P2_PPO_universal_COM_RNN_h=128_rnn=128__1__1686175101 ['COM', 'ELO_POOL', 'P2', 'RNN']\n",
      "P2_PPO_universal_COM_RNN_h=128_rnn=64__1__1686175094 ['COM', 'ELO_POOL', 'P2', 'PRETRAINED', 'RNN']\n"
     ]
    },
    {
     "name": "stderr",
     "output_type": "stream",
     "text": [
      "\u001b[34m\u001b[1mwandb\u001b[0m:   1 of 1 files downloaded.  \n"
     ]
    },
    {
     "name": "stdout",
     "output_type": "stream",
     "text": [
      "P2_PPO_universal_COM_RNN_h=64_rnn=128__1__1686175088 ['COM', 'ELO_POOL', 'P2', 'PRETRAINED', 'RNN']\n"
     ]
    },
    {
     "name": "stderr",
     "output_type": "stream",
     "text": [
      "\u001b[34m\u001b[1mwandb\u001b[0m:   1 of 1 files downloaded.  \n"
     ]
    },
    {
     "name": "stdout",
     "output_type": "stream",
     "text": [
      "P2_PPO_universal_COM_RNN_h=64_rnn=64__1__1686175082 ['COM', 'ELO_POOL', 'P2', 'PRETRAINED', 'RNN']\n"
     ]
    },
    {
     "name": "stderr",
     "output_type": "stream",
     "text": [
      "\u001b[34m\u001b[1mwandb\u001b[0m:   1 of 1 files downloaded.  \n"
     ]
    },
    {
     "name": "stdout",
     "output_type": "stream",
     "text": [
      "P2_PPO_universal_COM_RNN_h=32_rnn=128__1__1686175071 ['COM', 'ELO_POOL', 'P2', 'PRETRAINED', 'RNN']\n"
     ]
    },
    {
     "name": "stderr",
     "output_type": "stream",
     "text": [
      "\u001b[34m\u001b[1mwandb\u001b[0m:   1 of 1 files downloaded.  \n"
     ]
    },
    {
     "name": "stdout",
     "output_type": "stream",
     "text": [
      "P2_PPO_universal_COM_RNN_h=32_rnn=64__1__1686175066 ['COM', 'ELO_POOL', 'P2', 'PRETRAINED', 'RNN']\n"
     ]
    },
    {
     "name": "stderr",
     "output_type": "stream",
     "text": [
      "\u001b[34m\u001b[1mwandb\u001b[0m:   1 of 1 files downloaded.  \n"
     ]
    },
    {
     "name": "stdout",
     "output_type": "stream",
     "text": [
      "P2_PPO_universal_h=32_more_samples__1__1686135602 ['ELO_POOL', 'NN', 'P2']\n",
      "P2_PPO_universal_h=32__1__1686135602 ['ELO_POOL', 'NN', 'P2']\n",
      "P2_PPO_universal_h=64__1__1686135601 ['ELO_POOL', 'NN', 'P2']\n",
      "P2_PPO_universal_h=64_more_samples__1__1686135602 ['ELO_POOL', 'NN', 'P2']\n",
      "P2_PPO_universal_RNN_h=128_rnn=128__1__1685970630 ['P2', 'RNN']\n",
      "P2_PPO_universal_RNN_h=128_rnn=64__1__1685970621 ['ELO_POOL', 'P2', 'RNN']\n",
      "P2_PPO_universal_RNN_h=64_rnn=128__1__1685970607 ['ELO_POOL', 'P2', 'RNN']\n",
      "P2_PPO_universal_RNN_h=64_rnn=64__1__1685970597 ['ELO_POOL', 'P2', 'RNN']\n",
      "P2_PPO_universal_RNN_h=32_rnn=128__1__1685970585 ['ELO_POOL', 'P2', 'RNN']\n",
      "P2_PPO_universal_RNN_h=32_rnn=64__1__1685970564 ['ELO_POOL', 'P2', 'RNN']\n",
      "T_PPO_universal_COM_RNN_h=128_rnn=64__1__1685784523 ['COM', 'ELO_POOL', 'RNN']\n",
      "T_PPO_universal_COM_RNN_h=64_rnn=128__1__1685784503 ['COM', 'ELO_POOL', 'RNN']\n",
      "T_PPO_universal_COM_RNN_h=64_rnn=64__1__1685784471 ['COM', 'ELO_POOL', 'RNN']\n",
      "T_PPO_universal_COM_RNN_h=32_rnn=128__1__1685784456 ['COM', 'ELO_POOL', 'RNN']\n",
      "T_PPO_universal_COM_RNN_h=32_rnn=64__1__1685784447 ['COM', 'ELO_POOL', 'RNN']\n",
      "T_PPO_universal_COM_RNN_h=128_rnn=128__1__1685783613 ['COM', 'ELO_POOL', 'RNN']\n",
      "T_PPO_universal_RNN_h=128_rnn=64__1__1685745127 ['ELO_POOL', 'RNN']\n",
      "T_PPO_universal_RNN_h=32_rnn=128__1__1685745112 ['ELO_POOL', 'RNN']\n",
      "T_PPO_universal_RNN_h=32_rnn=64__1__1685745099 ['ELO_POOL', 'RNN']\n",
      "T_PPO_universal_RNN_h=64_rnn=128__1__1685745084 ['ELO_POOL', 'RNN']\n",
      "T_PPO_universal_RNN_h=64_rnn=64__1__1685745066 ['ELO_POOL', 'RNN']\n",
      "PPO_universal_COM_RNN_h=32_rnn=128__1__1685480636 ['BUG']\n",
      "PPO_universal_COM_RNN_h=32_rnn=64__1__1685480636 ['BUG']\n",
      "PPO_universal_RNN_h=32_rnn=64__1__1685480636 ['BUG']\n",
      "PPO_universal_RNN_h=32_rnn=128__1__1685480636 ['BUG']\n",
      "PPO_universal_COM_RNN_h=64_rnn=64__1__1685480553 ['BUG']\n",
      "PPO_universal_COM_RNN_h=64_rnn=128__1__1685480517 ['BUG']\n",
      "PPO_universal_RNN_h=64_rnn=128__1__1685480487 ['BUG']\n",
      "PPO_universal_RNN_h=64_rnn=64__1__1685480487 ['BUG']\n",
      "PPO_universal_COM_RNN_h=128_rnn=64__1__1685480403 ['BUG']\n",
      "PPO_universal_COM_RNN_h=128_rnn=128__1__1685480368 ['BUG']\n",
      "PPO_universal_RNN_h=128_rnn=64__1__1685480338 ['BUG']\n",
      "PPO_universal_RNN_h=128_rnn=128__1__1685480331 ['BUG']\n",
      "PPO_universal_h=32_more_samples__1__1685389309 ['ELO_POOL', 'NN']\n",
      "PPO_universal_h=64_more_samples__1__1685389279 ['ELO_POOL', 'NN']\n",
      "PPO_universal_h=64__1__1685389279 ['ELO_POOL', 'NN']\n",
      "PPO_universal_h=32__1__1685389243 ['ELO_POOL', 'NN']\n",
      "PPO_universal_RNN_h=32_rnn=64__1__1685377530 ['BUG-caller-only']\n",
      "PPO_universal_RNN_h=32_rnn=128__1__1685377501 ['BUG-caller-only']\n",
      "PPO_universal_RNN_h=64_rnn=64__1__1685377470 ['BUG-caller-only']\n",
      "PPO_universal_RNN_h=128_rnn=128__1__1685377398 ['BUG-caller-only']\n",
      "PPO_universal_RNN_h=64_rnn=128__1__1685377396 ['BUG-caller-only']\n",
      "PPO_universal_RNN_h=128_rnn=64__1__1685377396 ['BUG-caller-only']\n",
      "PPO_universal_all_d=32__1__1685174798 ['BUG']\n",
      "PPO_universal_all_more_samples_d=32__1__1685174708 ['BUG']\n",
      "PPO_universal_all_more_samples_d=128__1__1685174149 ['BUG']\n",
      "PPO_universal_all_more_samples__1__1685174149 ['BUG']\n",
      "PPO_universal_all__1__1685131690 ['BUG']\n",
      "PPO_universal_all_d=128__1__1685131690 ['BUG']\n",
      "PPO_bad_multiple_COMS_truth_1mio__1__1685097003 ['COM', 'EV:POOL']\n",
      "PPO_caller_RNN_relu_sophia__1__1685052443 ['training_stability']\n",
      "PPO_caller_RNN_sophia__1__1685048872 ['training_stability']\n",
      "PPO_caller_RNN_mask__1__1685039854 ['training_stability']\n",
      "PPO_caller_RNN_bnorm__1__1685039800 ['training_stability']\n",
      "PPO_caller_RNN_split_relu__1__1685031030 ['training_stability']\n",
      "PPO_caller_universal_sanity__1__1685030954 ['training_stability']\n",
      "PPO_caller_RNN_split__1__1685030953 ['training_stability']\n",
      "PPO_caller_RNN__1__1684879319 ['training_stability']\n",
      "PPO_universal_all__1__1684769199 []\n",
      "PPO_bad_multiple_COMS_truth_1mio__1__1684622024 []\n",
      "PPO_bad_universal_COMS_TRUTH__1__1684604391 []\n",
      "PPO_bad_universal_COMS__1__1684604389 []\n",
      "PPO_bad_multiple_COMS_truth__1__1684604389 []\n",
      "PPO_bad_universal__1__1684520273 []\n",
      "PPO_bad_single_points_IMMEDIATE_REWARD__1__1684283654 []\n",
      "PPO_bad_multiple_points_IMMEDIATE_REWARD__1__1684283108 []\n",
      "PPO_caller_IMMEDIATE_REWARD__1__1684282541 []\n",
      "PPO_bad_single_points__1__1684262293 ['EV:POOL']\n",
      "PPO_bad_multiple_points__1__1684144945 ['EV:POOL']\n",
      "dqn__1__1683974554 []\n",
      "PPO_bad_multiple__1__1683970827 []\n",
      "PPO_caller__1__1683930581 []\n",
      "PPO_callee__1__1683929914 []\n",
      "PPO_bad_single__1__1683929491 []\n",
      "PPO_caller_heuristic_callee__1__1683929490 []\n",
      "PPO_callee_heuristic_calleer__1__1683929490 []\n",
      "PPO Caller & Callee random vs random []\n",
      "SAC_callee_vs_random NORM__42_aEMyArQL []\n",
      "DQN_caller_vs_random + rew__10 + NORM__42_mJYrPVco []\n",
      "SAC_caller_vs_random NORM + rew__10__42_S4Q93Lnp []\n",
      "SAC_caller_vs_random NORM nn=256 _42_kvBvYieb []\n",
      "SAC_caller_vs_random NORM + small NN=64 + rew norm__42_2VZQ7mx3 []\n",
      "SAC_caller_vs_random NORM + features small NN__42_cnrU5PFB []\n",
      "SAC_caller_vs_random NORM + features __42_oH2Lafqk []\n",
      "SAC_caller_vs_random NORM__42_cbryJUiV []\n",
      "SAC_caller_vs_random__42_KCPxaqhB []\n",
      "SAC_caller_vs_random__42_T8aoLKe4 []\n",
      "RAINBOW caller & callee random []\n",
      "RAINBOW caller & callee heuristic []\n",
      "DDQN caller & callee heuristic []\n",
      "RAINBOW caller/callee jointly []\n",
      "SAC caller & callee heuristic []\n",
      "RAINBOW caller/callee cyclic epoch=10 []\n",
      "SAC caller/callee cyclic epoch=20 []\n",
      "DQN_caller_callee_heuristic_vs_random__42_matFhTLw []\n",
      "SAC_caller_heuristic_callee_vs_random__42_oEogvFvR []\n",
      "SAC caller & callee random []\n",
      "DDQN caller & callee random []\n",
      "DQN_caller_callee__42_LsKPK2mn []\n",
      "SAC caller/callee jointly []\n"
     ]
    }
   ],
   "source": [
    "import pandas as pd\n",
    "import os\n",
    "os.makedirs('./checkpoints/pretrained', exist_ok=True)\n",
    "commands = []\n",
    "\n",
    "for run in runs:\n",
    "    print(run.name, run.tags)\n",
    "    if 'PRETRAINED' not in run.tags:\n",
    "        continue\n",
    "\n",
    "    arch = 'nn' if 'NN' in run.tags else 'rnn'\n",
    "    num = len(run.logged_artifacts())\n",
    "    for i, artifact in enumerate(run.logged_artifacts()):\n",
    "        if artifact.type != 'model':\n",
    "            continue\n",
    "      \n",
    "        original_name = f\"{artifact.name.split(':')[0]}.pth\"\n",
    "\n",
    "        if 'policy_train' in artifact.name and i == num-1:\n",
    "            step = artifact.name.split('policy_train')[1].split(':')[0]\n",
    "            print(step)\n",
    "        elif 'policy_last' in artifact.name:\n",
    "            step = artifact.name.split('policy_last_')[1].split(':')[0]\n",
    "            last = True\n",
    "        else:\n",
    "            continue\n",
    "        \n",
    "        artifact.download('./tmp/')\n",
    "        path = f'{run.id}_base.pt'\n",
    "        os.rename(f'./tmp/{original_name}', f'./checkpoints/pretrained/{path}')\n",
    "        hidden_dim = run.config['hidden_dim'] if 'hidden_dim' in run.config else 64\n",
    "        rnn_out = run.config['rnn_out_size'] if 'rnn_out_size' in run.config else 0\n",
    "        \n",
    "        if arch == 'rnn':\n",
    "            cmd = f'python3 ./ppo_RNN_universal.py --track  --cuda True --exp-name 2PHASE_PPO_universal_COM_RNN_h={hidden_dim}_rnn={rnn_out}  \\\n",
    "                        --sample-batch-env False --hidden-dim {hidden_dim} --rnn-out-size {rnn_out} --briscola-communicate --resume-path ./checkpoints/pretrained/{path} \\\n",
    "                            --briscola-communicate-truth False --total-timesteps {12*8*1000000} --freq-save-model 10000'\n",
    "        else:\n",
    "            s = run.config[\"sample_batch_env\"]\n",
    "            suffix = '_more_samples' if not s else ''\n",
    "            cmd = f'python3 ./ppo_com_universal.py --track  --cuda False --exp-name 2PHASE_PPO_universal_COM_RNN_h={hidden_dim}{suffix}  \\\n",
    "                        --sample-batch-env {s} --hidden-dim {hidden_dim} --briscola-communicate --resume-path ./checkpoints/pretrained/{path} \\\n",
    "                            --briscola-communicate-truth False --total-timesteps {12*8*1000000} --freq-save-model 10000'\n",
    "        commands.append(cmd)\n",
    "\n",
    "with open('./experiment_2phase.txt', 'w') as f:\n",
    "    for cmd in commands:\n",
    "        f.write(cmd + '\\n')"
   ]
  },
  {
   "cell_type": "code",
   "execution_count": null,
   "metadata": {},
   "outputs": [],
   "source": []
  }
 ],
 "metadata": {
  "kernelspec": {
   "display_name": "base",
   "language": "python",
   "name": "python3"
  },
  "language_info": {
   "codemirror_mode": {
    "name": "ipython",
    "version": 3
   },
   "file_extension": ".py",
   "mimetype": "text/x-python",
   "name": "python",
   "nbconvert_exporter": "python",
   "pygments_lexer": "ipython3",
   "version": "3.9.12"
  },
  "orig_nbformat": 4
 },
 "nbformat": 4,
 "nbformat_minor": 2
}
